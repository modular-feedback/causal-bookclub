{
 "cells": [
  {
   "cell_type": "markdown",
   "id": "facf1192",
   "metadata": {},
   "source": [
    "# Buidling Causal Graphical Models"
   ]
  },
  {
   "cell_type": "markdown",
   "id": "d74a8980",
   "metadata": {},
   "source": [
    "Reminder that we're using tools to infer what the data generating process (DGP) may look like. One set of data may imply many different DGPs, so it's a hard game to play. This chapter is focused on graphically representing the DGP."
   ]
  },
  {
   "cell_type": "markdown",
   "id": "b814fb49",
   "metadata": {},
   "source": [
    "## 3.1.1 Transportation Case Study"
   ]
  },
  {
   "cell_type": "code",
   "execution_count": 1,
   "id": "e6946ba5",
   "metadata": {},
   "outputs": [
    {
     "data": {
      "text/plain": [
       "<pgmpy.models.DiscreteBayesianNetwork.DiscreteBayesianNetwork at 0x1765aa960>"
      ]
     },
     "execution_count": 1,
     "metadata": {},
     "output_type": "execute_result"
    }
   ],
   "source": [
    "# 3.2 Building the transportation DAG in pgmpy\n",
    "\n",
    "from pgmpy.models import DiscreteBayesianNetwork\n",
    "model = DiscreteBayesianNetwork(\n",
    "    [\n",
    "        ('Age', 'Education'),\n",
    "        ('Gender', 'Education'),\n",
    "        ('Education', 'Occupation'),\n",
    "        ('Education', 'Residence'),\n",
    "        ('Occupation', 'Transportation'),\n",
    "        ('Residence', 'Transportation')\n",
    "    ]\n",
    ")\n",
    "\n",
    "model"
   ]
  },
  {
   "cell_type": "markdown",
   "id": "c0bcfcfd",
   "metadata": {},
   "source": [
    "## 3.1.3 DAGs as Communication Tools"
   ]
  },
  {
   "cell_type": "markdown",
   "id": "396e6454",
   "metadata": {},
   "source": [
    "- Examples in which you've used DAGs for communication\n",
    "- Discuss DAG limitations as a reminder\n",
    "    - \"How\" vs \"What\"\n",
    "- Logic Gates visualize \"How\"\n",
    "    "
   ]
  },
  {
   "cell_type": "markdown",
   "id": "76c0af9f",
   "metadata": {},
   "source": [
    "DAGs represent and codify causal assumptions that can be used in further computation purposes. they also represent time, in that the causal arrow assumes forward movement in time. "
   ]
  },
  {
   "cell_type": "markdown",
   "id": "cc32419e",
   "metadata": {},
   "source": [
    "Identified ways of getting around the \"acyclic\" assumption in DAGs without necessarily having to relax the criteria. Example given is to unpack the \"cycles\" into discrete steps and track their path over time. "
   ]
  },
  {
   "cell_type": "markdown",
   "id": "f1041ba5",
   "metadata": {},
   "source": [
    "## Linking Causality to Conditional Independence"
   ]
  },
  {
   "cell_type": "markdown",
   "id": "845695b6",
   "metadata": {},
   "source": [
    "Highlighted how causal DAG allows a much simpler structure for formulating joint probability, because the causal pathway carries some assumptions about conditional independence.\n",
    "\n",
    "Specifically, in the geneology example, the author demonstrates where the 2 parents' blood types contain enough info to explain a child's blood type without knowing the parents' blood type.\n",
    "\n",
    "This characteristic, where direct \"parent\" properties supercede \"grandparent\" properties, is called the \"causal Markov property\"\n",
    "\n"
   ]
  },
  {
   "cell_type": "markdown",
   "id": "88452c85",
   "metadata": {},
   "source": [
    "## Scaffolding for Causal Machine Learning Models"
   ]
  },
  {
   "cell_type": "markdown",
   "id": "2a5880b9",
   "metadata": {},
   "source": [
    "Building with the DAG as the scaffolding permits the further goal - building causal machine learning models. These can be used for prediction and causal inference.\n",
    "\n",
    "After factoring under the assumption of causal conditional indepdence, the \"factors\" are also called Markov Kernels\n",
    "\n"
   ]
  },
  {
   "cell_type": "markdown",
   "id": "072b4147",
   "metadata": {},
   "source": [
    "### Labeling Causal Abstractions\n",
    "\n",
    "Labels are by their nature fluid and changing, so it's important to be careful about consistency among labels. Author citied the example of race, whose definition has definitely changed over time.\n",
    "\n",
    "\"In machine learning, we're often encouraged to blindly label data and not think about the DGP\"\n",
    "\n"
   ]
  },
  {
   "cell_type": "markdown",
   "id": "69bbc02b",
   "metadata": {},
   "source": [
    "## Training a Model on a Causal Dag"
   ]
  },
  {
   "cell_type": "code",
   "execution_count": 2,
   "id": "83c4f26a",
   "metadata": {},
   "outputs": [],
   "source": [
    "import polars as pl\n",
    "url = 'https://raw.githubusercontent.com/altdeep/causalML/master/datasets/transportation_survey.csv'\n",
    "df = pl.read_csv(url)\n",
    "df.columns = [\"Age\", \"Gender\", \"Education\", \"Occupation\", \"Residence\", \"Transportation\"]"
   ]
  },
  {
   "cell_type": "code",
   "execution_count": 3,
   "id": "fd991db8",
   "metadata": {},
   "outputs": [
    {
     "data": {
      "text/html": [
       "<div><style>\n",
       ".dataframe > thead > tr,\n",
       ".dataframe > tbody > tr {\n",
       "  text-align: right;\n",
       "  white-space: pre-wrap;\n",
       "}\n",
       "</style>\n",
       "<small>shape: (10, 6)</small><table border=\"1\" class=\"dataframe\"><thead><tr><th>Age</th><th>Gender</th><th>Education</th><th>Occupation</th><th>Residence</th><th>Transportation</th></tr><tr><td>str</td><td>str</td><td>str</td><td>str</td><td>str</td><td>str</td></tr></thead><tbody><tr><td>&quot;young&quot;</td><td>&quot;M&quot;</td><td>&quot;high&quot;</td><td>&quot;emp&quot;</td><td>&quot;big&quot;</td><td>&quot;car&quot;</td></tr><tr><td>&quot;old&quot;</td><td>&quot;M&quot;</td><td>&quot;uni&quot;</td><td>&quot;emp&quot;</td><td>&quot;big&quot;</td><td>&quot;car&quot;</td></tr><tr><td>&quot;young&quot;</td><td>&quot;F&quot;</td><td>&quot;uni&quot;</td><td>&quot;emp&quot;</td><td>&quot;big&quot;</td><td>&quot;other&quot;</td></tr><tr><td>&quot;young&quot;</td><td>&quot;M&quot;</td><td>&quot;high&quot;</td><td>&quot;emp&quot;</td><td>&quot;small&quot;</td><td>&quot;car&quot;</td></tr><tr><td>&quot;young&quot;</td><td>&quot;M&quot;</td><td>&quot;high&quot;</td><td>&quot;emp&quot;</td><td>&quot;small&quot;</td><td>&quot;car&quot;</td></tr><tr><td>&quot;adult&quot;</td><td>&quot;M&quot;</td><td>&quot;high&quot;</td><td>&quot;emp&quot;</td><td>&quot;big&quot;</td><td>&quot;car&quot;</td></tr><tr><td>&quot;adult&quot;</td><td>&quot;M&quot;</td><td>&quot;high&quot;</td><td>&quot;emp&quot;</td><td>&quot;big&quot;</td><td>&quot;car&quot;</td></tr><tr><td>&quot;adult&quot;</td><td>&quot;F&quot;</td><td>&quot;uni&quot;</td><td>&quot;emp&quot;</td><td>&quot;big&quot;</td><td>&quot;car&quot;</td></tr><tr><td>&quot;young&quot;</td><td>&quot;M&quot;</td><td>&quot;high&quot;</td><td>&quot;emp&quot;</td><td>&quot;big&quot;</td><td>&quot;car&quot;</td></tr><tr><td>&quot;young&quot;</td><td>&quot;M&quot;</td><td>&quot;high&quot;</td><td>&quot;emp&quot;</td><td>&quot;small&quot;</td><td>&quot;train&quot;</td></tr></tbody></table></div>"
      ],
      "text/plain": [
       "shape: (10, 6)\n",
       "┌───────┬────────┬───────────┬────────────┬───────────┬────────────────┐\n",
       "│ Age   ┆ Gender ┆ Education ┆ Occupation ┆ Residence ┆ Transportation │\n",
       "│ ---   ┆ ---    ┆ ---       ┆ ---        ┆ ---       ┆ ---            │\n",
       "│ str   ┆ str    ┆ str       ┆ str        ┆ str       ┆ str            │\n",
       "╞═══════╪════════╪═══════════╪════════════╪═══════════╪════════════════╡\n",
       "│ young ┆ M      ┆ high      ┆ emp        ┆ big       ┆ car            │\n",
       "│ old   ┆ M      ┆ uni       ┆ emp        ┆ big       ┆ car            │\n",
       "│ young ┆ F      ┆ uni       ┆ emp        ┆ big       ┆ other          │\n",
       "│ young ┆ M      ┆ high      ┆ emp        ┆ small     ┆ car            │\n",
       "│ young ┆ M      ┆ high      ┆ emp        ┆ small     ┆ car            │\n",
       "│ adult ┆ M      ┆ high      ┆ emp        ┆ big       ┆ car            │\n",
       "│ adult ┆ M      ┆ high      ┆ emp        ┆ big       ┆ car            │\n",
       "│ adult ┆ F      ┆ uni       ┆ emp        ┆ big       ┆ car            │\n",
       "│ young ┆ M      ┆ high      ┆ emp        ┆ big       ┆ car            │\n",
       "│ young ┆ M      ┆ high      ┆ emp        ┆ small     ┆ train          │\n",
       "└───────┴────────┴───────────┴────────────┴───────────┴────────────────┘"
      ]
     },
     "execution_count": 3,
     "metadata": {},
     "output_type": "execute_result"
    }
   ],
   "source": [
    "# There are people in this world who use data without looking at it. Don't let it be you!\n",
    "# in notebooks, \"sample\" can give you a better idea what's in a dataframe than \"head\"\n",
    "\n",
    "df.sample(10)"
   ]
  },
  {
   "cell_type": "code",
   "execution_count": 4,
   "id": "1ed04a85",
   "metadata": {},
   "outputs": [
    {
     "name": "stderr",
     "output_type": "stream",
     "text": [
      "INFO:pgmpy: Datatype (N=numerical, C=Categorical Unordered, O=Categorical Ordered) inferred from data: \n",
      " {'Age': 'C', 'Gender': 'C', 'Education': 'C', 'Occupation': 'C', 'Residence': 'C', 'Transportation': 'C'}\n"
     ]
    },
    {
     "name": "stdout",
     "output_type": "stream",
     "text": [
      "[<TabularCPD representing P(Age:3) at 0x17b913bf0>, <TabularCPD representing P(Education:2 | Age:3, Gender:2) at 0x17b5d3560>, <TabularCPD representing P(Gender:2) at 0x1766a30b0>, <TabularCPD representing P(Occupation:2 | Education:2) at 0x176e64740>, <TabularCPD representing P(Residence:2 | Education:2) at 0x17b39e540>, <TabularCPD representing P(Transportation:3 | Occupation:2, Residence:2) at 0x17af99220>]\n"
     ]
    }
   ],
   "source": [
    "# Learning Parameters for the causal Markov kernels\n",
    "model.fit(df.to_pandas())  # polars wins on convenience, pandas wins on compatibility\n",
    "causal_markov_kernels = model.get_cpds()\n",
    "print(causal_markov_kernels)"
   ]
  },
  {
   "cell_type": "code",
   "execution_count": 5,
   "id": "3a39cf4c",
   "metadata": {},
   "outputs": [
    {
     "data": {
      "application/vnd.microsoft.datawrangler.viewer.v0+json": {
       "columns": [
        {
         "name": "Transportation",
         "rawType": "object",
         "type": "string"
        },
        {
         "name": "('emp', 'big')",
         "rawType": "float64",
         "type": "float"
        },
        {
         "name": "('emp', 'small')",
         "rawType": "float64",
         "type": "float"
        },
        {
         "name": "('self', 'big')",
         "rawType": "float64",
         "type": "float"
        },
        {
         "name": "('self', 'small')",
         "rawType": "float64",
         "type": "float"
        }
       ],
       "ref": "90ecb884-d492-4acf-bc56-eba74595962b",
       "rows": [
        [
         "car",
         "0.7034313725490197",
         "0.524390243902439",
         "0.4444444444444444",
         "1.0"
        ],
        [
         "other",
         "0.13480392156862744",
         "0.08536585365853659",
         "0.3333333333333333",
         "0.0"
        ],
        [
         "train",
         "0.16176470588235295",
         "0.3902439024390244",
         "0.2222222222222222",
         "0.0"
        ]
       ],
       "shape": {
        "columns": 4,
        "rows": 3
       }
      },
      "text/html": [
       "<div>\n",
       "<style scoped>\n",
       "    .dataframe tbody tr th:only-of-type {\n",
       "        vertical-align: middle;\n",
       "    }\n",
       "\n",
       "    .dataframe tbody tr th {\n",
       "        vertical-align: top;\n",
       "    }\n",
       "\n",
       "    .dataframe thead tr th {\n",
       "        text-align: left;\n",
       "    }\n",
       "\n",
       "    .dataframe thead tr:last-of-type th {\n",
       "        text-align: right;\n",
       "    }\n",
       "</style>\n",
       "<table border=\"1\" class=\"dataframe\">\n",
       "  <thead>\n",
       "    <tr>\n",
       "      <th>Occupation</th>\n",
       "      <th colspan=\"2\" halign=\"left\">emp</th>\n",
       "      <th colspan=\"2\" halign=\"left\">self</th>\n",
       "    </tr>\n",
       "    <tr>\n",
       "      <th>Residence</th>\n",
       "      <th>big</th>\n",
       "      <th>small</th>\n",
       "      <th>big</th>\n",
       "      <th>small</th>\n",
       "    </tr>\n",
       "    <tr>\n",
       "      <th>Transportation</th>\n",
       "      <th></th>\n",
       "      <th></th>\n",
       "      <th></th>\n",
       "      <th></th>\n",
       "    </tr>\n",
       "  </thead>\n",
       "  <tbody>\n",
       "    <tr>\n",
       "      <th>car</th>\n",
       "      <td>0.703431</td>\n",
       "      <td>0.524390</td>\n",
       "      <td>0.444444</td>\n",
       "      <td>1.0</td>\n",
       "    </tr>\n",
       "    <tr>\n",
       "      <th>other</th>\n",
       "      <td>0.134804</td>\n",
       "      <td>0.085366</td>\n",
       "      <td>0.333333</td>\n",
       "      <td>0.0</td>\n",
       "    </tr>\n",
       "    <tr>\n",
       "      <th>train</th>\n",
       "      <td>0.161765</td>\n",
       "      <td>0.390244</td>\n",
       "      <td>0.222222</td>\n",
       "      <td>0.0</td>\n",
       "    </tr>\n",
       "  </tbody>\n",
       "</table>\n",
       "</div>"
      ],
      "text/plain": [
       "Occupation           emp                self      \n",
       "Residence            big     small       big small\n",
       "Transportation                                    \n",
       "car             0.703431  0.524390  0.444444   1.0\n",
       "other           0.134804  0.085366  0.333333   0.0\n",
       "train           0.161765  0.390244  0.222222   0.0"
      ]
     },
     "execution_count": 5,
     "metadata": {},
     "output_type": "execute_result"
    }
   ],
   "source": [
    "cmk_T_max_likelihood = causal_markov_kernels[-1]\n",
    "cmk_T_max_likelihood.to_dataframe().T  # this is MUCH better than print(cmk_T)"
   ]
  },
  {
   "cell_type": "markdown",
   "id": "63e8f956",
   "metadata": {},
   "source": [
    "### Different Techniques for Parameter Learning"
   ]
  },
  {
   "cell_type": "markdown",
   "id": "b9a81a14",
   "metadata": {},
   "source": [
    "\"Maximum Likelihood\" seeks the parameter that maximizes the likelihood of seeing the data we use to train the model. For categorical data, this is a matter of proportions of the seen data"
   ]
  },
  {
   "cell_type": "markdown",
   "id": "948e2dfa",
   "metadata": {},
   "source": [
    "Dirichilet conjugate priors allow us to calculate distributions using only simple math. This is embedded in pgmpy"
   ]
  },
  {
   "cell_type": "code",
   "execution_count": 6,
   "id": "3f277003",
   "metadata": {},
   "outputs": [
    {
     "name": "stderr",
     "output_type": "stream",
     "text": [
      "INFO:pgmpy: Datatype (N=numerical, C=Categorical Unordered, O=Categorical Ordered) inferred from data: \n",
      " {'Age': 'C', 'Gender': 'C', 'Education': 'C', 'Occupation': 'C', 'Residence': 'C', 'Transportation': 'C'}\n",
      "WARNING:pgmpy:Replacing existing CPD for Age\n",
      "WARNING:pgmpy:Replacing existing CPD for Education\n",
      "WARNING:pgmpy:Replacing existing CPD for Occupation\n",
      "WARNING:pgmpy:Replacing existing CPD for Residence\n",
      "WARNING:pgmpy:Replacing existing CPD for Gender\n",
      "WARNING:pgmpy:Replacing existing CPD for Transportation\n"
     ]
    },
    {
     "data": {
      "application/vnd.microsoft.datawrangler.viewer.v0+json": {
       "columns": [
        {
         "name": "Transportation",
         "rawType": "object",
         "type": "string"
        },
        {
         "name": "('emp', 'big')",
         "rawType": "float64",
         "type": "float"
        },
        {
         "name": "('emp', 'small')",
         "rawType": "float64",
         "type": "float"
        },
        {
         "name": "('self', 'big')",
         "rawType": "float64",
         "type": "float"
        },
        {
         "name": "('self', 'small')",
         "rawType": "float64",
         "type": "float"
        }
       ],
       "ref": "f2a462ab-94b8-4f24-84e5-7055188f2a60",
       "rows": [
        [
         "car",
         "0.7007299270072993",
         "0.5176470588235295",
         "0.4166666666666667",
         "0.5"
        ],
        [
         "other",
         "0.1362530413625304",
         "0.09411764705882353",
         "0.3333333333333333",
         "0.25"
        ],
        [
         "train",
         "0.1630170316301703",
         "0.38823529411764707",
         "0.25",
         "0.25"
        ]
       ],
       "shape": {
        "columns": 4,
        "rows": 3
       }
      },
      "text/html": [
       "<div>\n",
       "<style scoped>\n",
       "    .dataframe tbody tr th:only-of-type {\n",
       "        vertical-align: middle;\n",
       "    }\n",
       "\n",
       "    .dataframe tbody tr th {\n",
       "        vertical-align: top;\n",
       "    }\n",
       "\n",
       "    .dataframe thead tr th {\n",
       "        text-align: left;\n",
       "    }\n",
       "\n",
       "    .dataframe thead tr:last-of-type th {\n",
       "        text-align: right;\n",
       "    }\n",
       "</style>\n",
       "<table border=\"1\" class=\"dataframe\">\n",
       "  <thead>\n",
       "    <tr>\n",
       "      <th>Occupation</th>\n",
       "      <th colspan=\"2\" halign=\"left\">emp</th>\n",
       "      <th colspan=\"2\" halign=\"left\">self</th>\n",
       "    </tr>\n",
       "    <tr>\n",
       "      <th>Residence</th>\n",
       "      <th>big</th>\n",
       "      <th>small</th>\n",
       "      <th>big</th>\n",
       "      <th>small</th>\n",
       "    </tr>\n",
       "    <tr>\n",
       "      <th>Transportation</th>\n",
       "      <th></th>\n",
       "      <th></th>\n",
       "      <th></th>\n",
       "      <th></th>\n",
       "    </tr>\n",
       "  </thead>\n",
       "  <tbody>\n",
       "    <tr>\n",
       "      <th>car</th>\n",
       "      <td>0.700730</td>\n",
       "      <td>0.517647</td>\n",
       "      <td>0.416667</td>\n",
       "      <td>0.50</td>\n",
       "    </tr>\n",
       "    <tr>\n",
       "      <th>other</th>\n",
       "      <td>0.136253</td>\n",
       "      <td>0.094118</td>\n",
       "      <td>0.333333</td>\n",
       "      <td>0.25</td>\n",
       "    </tr>\n",
       "    <tr>\n",
       "      <th>train</th>\n",
       "      <td>0.163017</td>\n",
       "      <td>0.388235</td>\n",
       "      <td>0.250000</td>\n",
       "      <td>0.25</td>\n",
       "    </tr>\n",
       "  </tbody>\n",
       "</table>\n",
       "</div>"
      ],
      "text/plain": [
       "Occupation           emp                self      \n",
       "Residence            big     small       big small\n",
       "Transportation                                    \n",
       "car             0.700730  0.517647  0.416667  0.50\n",
       "other           0.136253  0.094118  0.333333  0.25\n",
       "train           0.163017  0.388235  0.250000  0.25"
      ]
     },
     "execution_count": 6,
     "metadata": {},
     "output_type": "execute_result"
    }
   ],
   "source": [
    "from pgmpy.estimators import BayesianEstimator\n",
    "\n",
    "model.fit(\n",
    "    df.to_pandas(),\n",
    "    estimator=BayesianEstimator,\n",
    "    prior_type=\"dirichlet\",\n",
    "    pseudo_counts=1  # the parameters of the Dirichlet prior\n",
    ")\n",
    "\n",
    "causal_markov_kernels = model.get_cpds()  # extract causal markov kernels - conditional probability distributions\n",
    "cmk_T_bayesian = causal_markov_kernels[-1]  # We're after probability of Transportation type given Occupation and Residence\n",
    "cmk_T_bayesian.to_dataframe().T  # Again, this transpose view mirrors what you see in the book, but as a df rather than string"
   ]
  },
  {
   "cell_type": "code",
   "execution_count": 7,
   "id": "70880f33",
   "metadata": {},
   "outputs": [
    {
     "name": "stdout",
     "output_type": "stream",
     "text": [
      "Max Likelihood Estimation Approach\n",
      "Recall from page 83 that this is looking at proportions as they appear in the data\n",
      "Occupation           emp                self      \n",
      "Residence            big     small       big small\n",
      "Transportation                                    \n",
      "car             0.703431  0.524390  0.444444   1.0\n",
      "other           0.134804  0.085366  0.333333   0.0\n",
      "train           0.161765  0.390244  0.222222   0.0\n",
      "\n",
      "Bayesian Estimation Approach\n",
      "Recall from page 84 that this approach uses a prior distribution, which helps avoid extremes such as the MLE approach saying that all entrepreneurs in small cities use cars (rightmost column)\n",
      "Occupation           emp                self      \n",
      "Residence            big     small       big small\n",
      "Transportation                                    \n",
      "car             0.700730  0.517647  0.416667  0.50\n",
      "other           0.136253  0.094118  0.333333  0.25\n",
      "train           0.163017  0.388235  0.250000  0.25\n"
     ]
    }
   ],
   "source": [
    "# Bayesians and Frequentists can argue here\n",
    "\n",
    "print(\"Max Likelihood Estimation Approach\") \n",
    "print(\"Recall from page 83 that this is looking at proportions as they appear in the data\")\n",
    "print(cmk_T_max_likelihood.to_dataframe().T)\n",
    "print(\"\\nBayesian Estimation Approach\")\n",
    "print(\"Recall from page 84 that this approach uses a prior distribution, which helps avoid extremes such as the MLE approach saying that all entrepreneurs in small cities use cars (rightmost column)\")\n",
    "print(cmk_T_bayesian.to_dataframe().T)\n"
   ]
  },
  {
   "cell_type": "markdown",
   "id": "07296baf",
   "metadata": {},
   "source": [
    "### Other Techniques for Paramter Estimation\n",
    "\n",
    "Author reminds us that the DAG exists totally separate from the algorithms and methods we use to estimate the causal impact. So whether age is calculated in seconds or days, or whether we use a neural net or logistic regression to model our assumptions is separate from the DAG itself"
   ]
  },
  {
   "cell_type": "markdown",
   "id": "ec634e1e",
   "metadata": {},
   "source": [
    "### Latent Variables"
   ]
  },
  {
   "cell_type": "markdown",
   "id": "38cfbc8c",
   "metadata": {},
   "source": [
    "Remember that we are searching to understand a data generating process (DGP), not necessarily report on data. Data, then are clues and context about what the DGP may be. \n",
    "\n",
    "This means we have to give consideration to \"latent variables\" which are characteristics not directly observed in the data but inferrable from the data."
   ]
  },
  {
   "cell_type": "code",
   "execution_count": 8,
   "id": "72a7a3c8",
   "metadata": {},
   "outputs": [],
   "source": [
    "import pandas as pd\n",
    "from pgmpy.models import DiscreteBayesianNetwork\n",
    "from pgmpy.estimators import ExpectationMaximization as EM\n",
    "url = \"https://raw.githubusercontent.com/altdeep/causalML/master/datasets/transportation_survey.csv\"\n",
    "data = pl.read_csv(url)\n",
    "data_sans_E = data.drop(\"E\")"
   ]
  },
  {
   "cell_type": "code",
   "execution_count": 9,
   "id": "8d5eaadf",
   "metadata": {},
   "outputs": [
    {
     "name": "stderr",
     "output_type": "stream",
     "text": [
      "INFO:pgmpy: Datatype (N=numerical, C=Categorical Unordered, O=Categorical Ordered) inferred from data: \n",
      " {'A': 'C', 'S': 'C', 'O': 'C', 'R': 'C', 'T': 'C'}\n"
     ]
    }
   ],
   "source": [
    "model_with_latent = DiscreteBayesianNetwork(\n",
    "    [\n",
    "        ('A', 'E'),\n",
    "        ('S', 'E'),\n",
    "        ('E', 'O'),\n",
    "        ('E', 'R'),\n",
    "        ('O', 'T'),\n",
    "        ('R', 'T')\n",
    "    ],\n",
    "    latents={\"E\"}  # We're running the structural expectation maximization algorithm, so we have to tell pgmpy which variable is latent\n",
    ")\n",
    "\n",
    "estimator = EM(model_with_latent, data_sans_E.to_pandas())"
   ]
  },
  {
   "cell_type": "code",
   "execution_count": 10,
   "id": "9ecc402a",
   "metadata": {},
   "outputs": [
    {
     "data": {
      "application/vnd.jupyter.widget-view+json": {
       "model_id": "7da499ff4ccc45b79b96feeff32766ab",
       "version_major": 2,
       "version_minor": 0
      },
      "text/plain": [
       "  0%|          | 0/100 [00:00<?, ?it/s]"
      ]
     },
     "metadata": {},
     "output_type": "display_data"
    },
    {
     "data": {
      "text/plain": [
       "[<TabularCPD representing P(S:2) at 0x17d91e630>,\n",
       " <TabularCPD representing P(T:3 | O:2, R:2) at 0x17db275f0>,\n",
       " <TabularCPD representing P(A:3) at 0x17d8f6f00>,\n",
       " <TabularCPD representing P(R:2 | E:2) at 0x17db7b410>,\n",
       " <TabularCPD representing P(O:2 | E:2) at 0x177cabc50>,\n",
       " <TabularCPD representing P(E:2 | A:3, S:2) at 0x17db272f0>]"
      ]
     },
     "execution_count": 10,
     "metadata": {},
     "output_type": "execute_result"
    }
   ],
   "source": [
    "cmks_with_latent = estimator.get_parameters(latent_card={\"E\": 2})\n",
    "cmks_with_latent"
   ]
  },
  {
   "cell_type": "code",
   "execution_count": 11,
   "id": "9849bda2",
   "metadata": {},
   "outputs": [
    {
     "data": {
      "text/plain": [
       "<DiscreteFactor representing phi(T:3, O:2, R:2) at 0x17b5a0770>"
      ]
     },
     "execution_count": 11,
     "metadata": {},
     "output_type": "execute_result"
    }
   ],
   "source": [
    "cmks_with_latent[1].to_factor()  # this is the index position called in the book, but it's not representing the latent variable we were looking for"
   ]
  },
  {
   "cell_type": "code",
   "execution_count": 12,
   "id": "ace54a85",
   "metadata": {},
   "outputs": [
    {
     "name": "stdout",
     "output_type": "stream",
     "text": [
      "+------+----------+------+--------------+\n",
      "| E    | A        | S    |   phi(E,A,S) |\n",
      "+======+==========+======+==============+\n",
      "| E(0) | A(adult) | S(F) |       0.4846 |\n",
      "+------+----------+------+--------------+\n",
      "| E(0) | A(adult) | S(M) |       0.4165 |\n",
      "+------+----------+------+--------------+\n",
      "| E(0) | A(old)   | S(F) |       0.6799 |\n",
      "+------+----------+------+--------------+\n",
      "| E(0) | A(old)   | S(M) |       0.9255 |\n",
      "+------+----------+------+--------------+\n",
      "| E(0) | A(young) | S(F) |       0.0958 |\n",
      "+------+----------+------+--------------+\n",
      "| E(0) | A(young) | S(M) |       0.6619 |\n",
      "+------+----------+------+--------------+\n",
      "| E(1) | A(adult) | S(F) |       0.5154 |\n",
      "+------+----------+------+--------------+\n",
      "| E(1) | A(adult) | S(M) |       0.5835 |\n",
      "+------+----------+------+--------------+\n",
      "| E(1) | A(old)   | S(F) |       0.3201 |\n",
      "+------+----------+------+--------------+\n",
      "| E(1) | A(old)   | S(M) |       0.0745 |\n",
      "+------+----------+------+--------------+\n",
      "| E(1) | A(young) | S(F) |       0.9042 |\n",
      "+------+----------+------+--------------+\n",
      "| E(1) | A(young) | S(M) |       0.3381 |\n",
      "+------+----------+------+--------------+\n"
     ]
    }
   ],
   "source": [
    "# Further inference is needed to determine what 0 and 1 mean, but at a high level, interesting how it maps\n",
    "# latent expectations for these arbitrary \"categories\" given data that it didn't observe\n",
    "\n",
    "# In actual practice, we would test performance on known data to try to get an idea of\n",
    "# error before practical use and decision making\n",
    "\n",
    "print(cmks_with_latent[5].to_factor())"
   ]
  },
  {
   "cell_type": "markdown",
   "id": "c0244bb4",
   "metadata": {},
   "source": [
    "### Inference on a Trained Causal Graphical Model"
   ]
  },
  {
   "cell_type": "code",
   "execution_count": 13,
   "id": "0f2d8a47",
   "metadata": {},
   "outputs": [],
   "source": [
    "from pgmpy.inference import VariableElimination"
   ]
  },
  {
   "cell_type": "code",
   "execution_count": 14,
   "id": "0720d2a4",
   "metadata": {},
   "outputs": [],
   "source": [
    "inference = VariableElimination(model)"
   ]
  },
  {
   "cell_type": "code",
   "execution_count": 15,
   "id": "3977fbb1",
   "metadata": {},
   "outputs": [],
   "source": [
    "# Remember that I wrote these in English earlier\n",
    "query1 = inference.query([\"Education\"], evidence={\"Transportation\": \"train\"})\n",
    "query2 = inference.query([\"Education\"], evidence={\"Transportation\": \"car\"})"
   ]
  },
  {
   "cell_type": "code",
   "execution_count": 16,
   "id": "b7854b30",
   "metadata": {},
   "outputs": [
    {
     "name": "stdout",
     "output_type": "stream",
     "text": [
      "train\n",
      "+-----------------+------------------+\n",
      "| Education       |   phi(Education) |\n",
      "+=================+==================+\n",
      "| Education(high) |           0.6162 |\n",
      "+-----------------+------------------+\n",
      "| Education(uni)  |           0.3838 |\n",
      "+-----------------+------------------+\n",
      "\n",
      "car\n",
      "+-----------------+------------------+\n",
      "| Education       |   phi(Education) |\n",
      "+=================+==================+\n",
      "| Education(high) |           0.5586 |\n",
      "+-----------------+------------------+\n",
      "| Education(uni)  |           0.4414 |\n",
      "+-----------------+------------------+\n"
     ]
    }
   ],
   "source": [
    "print(\"train\")\n",
    "print(query1)\n",
    "print(\"\\ncar\")\n",
    "print(query2)"
   ]
  },
  {
   "cell_type": "markdown",
   "id": "c5e54393",
   "metadata": {},
   "source": [
    "#### Pyro Implementation"
   ]
  },
  {
   "cell_type": "code",
   "execution_count": 17,
   "id": "05f38302",
   "metadata": {},
   "outputs": [],
   "source": [
    "import torch\n",
    "import pyro\n",
    "from pyro.distributions import Categorical"
   ]
  },
  {
   "cell_type": "code",
   "execution_count": 18,
   "id": "d0960881",
   "metadata": {},
   "outputs": [],
   "source": [
    "# forming integer mappings because pyro's only returns numbers\n",
    "A_alias = [\"young\", \"adult\", \"old\"]\n",
    "S_alias = [\"M\", \"F\"]\n",
    "E_alias = [\"high\", \"uni\"]\n",
    "O_alias = [\"emp\", \"self\"]\n",
    "R_alias = [\"small\", \"big\"]\n",
    "T_alias = [\"car\", \"train\", \"other\"]"
   ]
  },
  {
   "cell_type": "code",
   "execution_count": 19,
   "id": "6a6454ca",
   "metadata": {},
   "outputs": [],
   "source": [
    "# probabilities defined as in the book\n",
    "A_prob = torch.tensor([0.3,0.5,0.2])\n",
    "S_prob = torch.tensor([0.6,0.4])\n",
    "E_prob = torch.tensor([[[0.75,0.25], [0.72,0.28], [0.88,0.12]],\n",
    "                     [[0.64,0.36], [0.7,0.3], [0.9,0.1]]])\n",
    "O_prob = torch.tensor([[0.96,0.04], [0.92,0.08]])\n",
    "R_prob = torch.tensor([[0.25,0.75], [0.2,0.8]])\n",
    "T_prob = torch.tensor([[[0.48,0.42,0.1], [0.56,0.36,0.08]],\n",
    "                     [[0.58,0.24,0.18], [0.7,0.21,0.09]]])"
   ]
  },
  {
   "cell_type": "code",
   "execution_count": 20,
   "id": "02ee7b25",
   "metadata": {},
   "outputs": [],
   "source": [
    "def model():\n",
    "    A = pyro.sample('age', Categorical(probs=A_prob))\n",
    "    S = pyro.sample('gender', Categorical(probs=S_prob))\n",
    "    E = pyro.sample('education', Categorical(probs=E_prob[S][A]))\n",
    "    O = pyro.sample('occupation', Categorical(probs=O_prob[E]))\n",
    "    R = pyro.sample('residence', Categorical(probs=R_prob[E]))\n",
    "    T = pyro.sample('transportation', Categorical(probs=T_prob[R][O]))\n",
    "    return {'A': A, 'S': S, 'E': E, 'O': O, 'R': R, 'T': T}"
   ]
  },
  {
   "cell_type": "code",
   "execution_count": 21,
   "id": "10e04002",
   "metadata": {},
   "outputs": [
    {
     "data": {
      "image/svg+xml": [
       "<?xml version=\"1.0\" encoding=\"UTF-8\" standalone=\"no\"?>\n",
       "<!DOCTYPE svg PUBLIC \"-//W3C//DTD SVG 1.1//EN\"\n",
       " \"http://www.w3.org/Graphics/SVG/1.1/DTD/svg11.dtd\">\n",
       "<!-- Generated by graphviz version 12.2.1 (20241206.2353)\n",
       " -->\n",
       "<!-- Pages: 1 -->\n",
       "<svg width=\"220pt\" height=\"260pt\"\n",
       " viewBox=\"0.00 0.00 220.07 260.00\" xmlns=\"http://www.w3.org/2000/svg\" xmlns:xlink=\"http://www.w3.org/1999/xlink\">\n",
       "<g id=\"graph0\" class=\"graph\" transform=\"scale(1 1) rotate(0) translate(4 256)\">\n",
       "<polygon fill=\"white\" stroke=\"none\" points=\"-4,4 -4,-256 216.07,-256 216.07,4 -4,4\"/>\n",
       "<!-- age -->\n",
       "<g id=\"node1\" class=\"node\">\n",
       "<title>age</title>\n",
       "<ellipse fill=\"white\" stroke=\"black\" cx=\"68.35\" cy=\"-234\" rx=\"27\" ry=\"18\"/>\n",
       "<text text-anchor=\"middle\" x=\"68.35\" y=\"-228.95\" font-family=\"Times,serif\" font-size=\"14.00\">age</text>\n",
       "</g>\n",
       "<!-- education -->\n",
       "<g id=\"node3\" class=\"node\">\n",
       "<title>education</title>\n",
       "<ellipse fill=\"white\" stroke=\"black\" cx=\"108.35\" cy=\"-162\" rx=\"46.75\" ry=\"18\"/>\n",
       "<text text-anchor=\"middle\" x=\"108.35\" y=\"-156.95\" font-family=\"Times,serif\" font-size=\"14.00\">education</text>\n",
       "</g>\n",
       "<!-- age&#45;&gt;education -->\n",
       "<g id=\"edge1\" class=\"edge\">\n",
       "<title>age&#45;&gt;education</title>\n",
       "<path fill=\"none\" stroke=\"black\" d=\"M77.63,-216.76C82.26,-208.67 87.97,-198.66 93.21,-189.49\"/>\n",
       "<polygon fill=\"black\" stroke=\"black\" points=\"96.17,-191.37 98.1,-180.95 90.1,-187.89 96.17,-191.37\"/>\n",
       "</g>\n",
       "<!-- gender -->\n",
       "<g id=\"node2\" class=\"node\">\n",
       "<title>gender</title>\n",
       "<ellipse fill=\"white\" stroke=\"black\" cx=\"149.35\" cy=\"-234\" rx=\"36\" ry=\"18\"/>\n",
       "<text text-anchor=\"middle\" x=\"149.35\" y=\"-228.95\" font-family=\"Times,serif\" font-size=\"14.00\">gender</text>\n",
       "</g>\n",
       "<!-- gender&#45;&gt;education -->\n",
       "<g id=\"edge2\" class=\"edge\">\n",
       "<title>gender&#45;&gt;education</title>\n",
       "<path fill=\"none\" stroke=\"black\" d=\"M139.63,-216.41C134.96,-208.42 129.23,-198.64 123.96,-189.64\"/>\n",
       "<polygon fill=\"black\" stroke=\"black\" points=\"127.12,-188.12 119.05,-181.26 121.08,-191.66 127.12,-188.12\"/>\n",
       "</g>\n",
       "<!-- occupation -->\n",
       "<g id=\"node4\" class=\"node\">\n",
       "<title>occupation</title>\n",
       "<ellipse fill=\"white\" stroke=\"black\" cx=\"51.35\" cy=\"-90\" rx=\"51.35\" ry=\"18\"/>\n",
       "<text text-anchor=\"middle\" x=\"51.35\" y=\"-84.95\" font-family=\"Times,serif\" font-size=\"14.00\">occupation</text>\n",
       "</g>\n",
       "<!-- education&#45;&gt;occupation -->\n",
       "<g id=\"edge3\" class=\"edge\">\n",
       "<title>education&#45;&gt;occupation</title>\n",
       "<path fill=\"none\" stroke=\"black\" d=\"M94.84,-144.41C88.03,-136.04 79.62,-125.71 72.01,-116.37\"/>\n",
       "<polygon fill=\"black\" stroke=\"black\" points=\"74.75,-114.19 65.72,-108.64 69.32,-118.61 74.75,-114.19\"/>\n",
       "</g>\n",
       "<!-- residence -->\n",
       "<g id=\"node5\" class=\"node\">\n",
       "<title>residence</title>\n",
       "<ellipse fill=\"white\" stroke=\"black\" cx=\"166.35\" cy=\"-90\" rx=\"45.72\" ry=\"18\"/>\n",
       "<text text-anchor=\"middle\" x=\"166.35\" y=\"-84.95\" font-family=\"Times,serif\" font-size=\"14.00\">residence</text>\n",
       "</g>\n",
       "<!-- education&#45;&gt;residence -->\n",
       "<g id=\"edge4\" class=\"edge\">\n",
       "<title>education&#45;&gt;residence</title>\n",
       "<path fill=\"none\" stroke=\"black\" d=\"M122.1,-144.41C129.1,-135.95 137.77,-125.49 145.57,-116.08\"/>\n",
       "<polygon fill=\"black\" stroke=\"black\" points=\"148.05,-118.57 151.74,-108.64 142.66,-114.1 148.05,-118.57\"/>\n",
       "</g>\n",
       "<!-- transportation -->\n",
       "<g id=\"node6\" class=\"node\">\n",
       "<title>transportation</title>\n",
       "<ellipse fill=\"white\" stroke=\"black\" cx=\"108.35\" cy=\"-18\" rx=\"62.1\" ry=\"18\"/>\n",
       "<text text-anchor=\"middle\" x=\"108.35\" y=\"-12.95\" font-family=\"Times,serif\" font-size=\"14.00\">transportation</text>\n",
       "</g>\n",
       "<!-- occupation&#45;&gt;transportation -->\n",
       "<g id=\"edge5\" class=\"edge\">\n",
       "<title>occupation&#45;&gt;transportation</title>\n",
       "<path fill=\"none\" stroke=\"black\" d=\"M64.86,-72.41C71.58,-64.16 79.84,-54.01 87.36,-44.78\"/>\n",
       "<polygon fill=\"black\" stroke=\"black\" points=\"89.99,-47.09 93.59,-37.13 84.56,-42.67 89.99,-47.09\"/>\n",
       "</g>\n",
       "<!-- residence&#45;&gt;transportation -->\n",
       "<g id=\"edge6\" class=\"edge\">\n",
       "<title>residence&#45;&gt;transportation</title>\n",
       "<path fill=\"none\" stroke=\"black\" d=\"M152.61,-72.41C145.77,-64.16 137.36,-54.01 129.71,-44.78\"/>\n",
       "<polygon fill=\"black\" stroke=\"black\" points=\"132.44,-42.59 123.37,-37.12 127.05,-47.05 132.44,-42.59\"/>\n",
       "</g>\n",
       "</g>\n",
       "</svg>\n"
      ],
      "text/plain": [
       "<graphviz.graphs.Digraph at 0x17b5a07a0>"
      ]
     },
     "execution_count": 21,
     "metadata": {},
     "output_type": "execute_result"
    }
   ],
   "source": [
    "pyro.render_model(model)"
   ]
  },
  {
   "cell_type": "code",
   "execution_count": 24,
   "id": "056487a5",
   "metadata": {},
   "outputs": [],
   "source": [
    "from dowhy import datasets\n",
    "import networkx as nx\n",
    "import matplotlib.pyplot as plt\n",
    "import plotly.express as px"
   ]
  },
  {
   "cell_type": "code",
   "execution_count": 27,
   "id": "aeb5e9bf",
   "metadata": {},
   "outputs": [
    {
     "data": {
      "text/plain": [
       "dict_keys(['df', 'treatment_name', 'outcome_name', 'common_causes_names', 'instrument_names', 'effect_modifier_names', 'frontdoor_variables_names', 'dot_graph', 'gml_graph', 'ate'])"
      ]
     },
     "execution_count": 27,
     "metadata": {},
     "output_type": "execute_result"
    }
   ],
   "source": [
    "sim_data = datasets.linear_dataset(\n",
    "    beta=10.0,\n",
    "    num_treatments=1,\n",
    "    num_instruments=2,\n",
    "    num_effect_modifiers=2,\n",
    "    num_common_causes=5,\n",
    "    num_frontdoor_variables=1,\n",
    "    num_samples=100\n",
    ")\n",
    "\n",
    "sim_data.keys()"
   ]
  },
  {
   "cell_type": "code",
   "execution_count": 28,
   "id": "ab7d945d",
   "metadata": {},
   "outputs": [
    {
     "data": {
      "application/vnd.microsoft.datawrangler.viewer.v0+json": {
       "columns": [
        {
         "name": "index",
         "rawType": "int64",
         "type": "integer"
        },
        {
         "name": "FD0",
         "rawType": "float64",
         "type": "float"
        },
        {
         "name": "X0",
         "rawType": "float64",
         "type": "float"
        },
        {
         "name": "X1",
         "rawType": "float64",
         "type": "float"
        },
        {
         "name": "Z0",
         "rawType": "float64",
         "type": "float"
        },
        {
         "name": "Z1",
         "rawType": "float64",
         "type": "float"
        },
        {
         "name": "W0",
         "rawType": "float64",
         "type": "float"
        },
        {
         "name": "W1",
         "rawType": "float64",
         "type": "float"
        },
        {
         "name": "W2",
         "rawType": "float64",
         "type": "float"
        },
        {
         "name": "W3",
         "rawType": "float64",
         "type": "float"
        },
        {
         "name": "W4",
         "rawType": "float64",
         "type": "float"
        },
        {
         "name": "v0",
         "rawType": "bool",
         "type": "boolean"
        },
        {
         "name": "y",
         "rawType": "float64",
         "type": "float"
        }
       ],
       "ref": "1a3ef43e-9e25-4d93-911b-fa528fdcc6dd",
       "rows": [
        [
         "0",
         "1.7026023765180052",
         "-0.07659694077128176",
         "1.5038096813464341",
         "1.0",
         "0.9279945974624448",
         "-0.0827901628693806",
         "-1.849507945526217",
         "1.1838339911337796",
         "0.5768870251945535",
         "-0.45073855521496675",
         "True",
         "0.7854632089660515"
        ],
        [
         "1",
         "4.252994004638033",
         "-0.7470331866651689",
         "-0.4976295818732914",
         "1.0",
         "0.4562404386175618",
         "0.5414025658942945",
         "1.1684045684539734",
         "0.6961323469061085",
         "2.5119737186583064",
         "0.540265451486164",
         "True",
         "30.822510248189054"
        ],
        [
         "2",
         "3.868259014571822",
         "1.5033604239000264",
         "1.9435276633639726",
         "1.0",
         "0.47494042044348117",
         "0.2845325623036842",
         "0.6548568053347267",
         "1.3005673842486614",
         "0.7483397287184219",
         "0.736040270541555",
         "True",
         "22.046397389049478"
        ],
        [
         "3",
         "3.4963978829492035",
         "-1.0905372585830075",
         "0.5961360498083699",
         "1.0",
         "0.11655192538460935",
         "-0.4038381763135862",
         "-0.47339626241679167",
         "-0.206385180223305",
         "1.8281639026080476",
         "1.9498295994759292",
         "True",
         "18.044229586576858"
        ],
        [
         "4",
         "1.6935614731202846",
         "-0.02075382269295989",
         "0.5033628244878078",
         "1.0",
         "0.36755478452448764",
         "-2.787475028584651",
         "-0.24908415848193416",
         "-0.44781859559524273",
         "-0.32429405678490086",
         "-0.09362723646236393",
         "True",
         "-10.249712850254017"
        ],
        [
         "5",
         "4.618766813704542",
         "-1.0241666438105197",
         "1.6618125894308204",
         "1.0",
         "0.12191594948356843",
         "-0.697437451292461",
         "0.6933729465973704",
         "-0.35392875624987385",
         "0.8284315720345881",
         "0.3258313754861028",
         "True",
         "16.744759532558078"
        ],
        [
         "6",
         "5.299167986137014",
         "-1.0790107743060888",
         "-0.3577889991540395",
         "1.0",
         "0.16451041698820168",
         "0.6036514930264576",
         "1.549898484388499",
         "0.9152362196933244",
         "0.8067423309902804",
         "0.23816072744974204",
         "True",
         "28.955136955035417"
        ],
        [
         "7",
         "5.605877657332591",
         "-0.44499083169593207",
         "1.752731398343712",
         "1.0",
         "0.5278874729496204",
         "-1.2829481536396903",
         "-0.33150083537417835",
         "0.8739696890611571",
         "-0.27078768907682726",
         "1.691109524726461",
         "True",
         "14.435437757005534"
        ],
        [
         "8",
         "4.724689221630561",
         "-0.3869783189898105",
         "0.9272310870974312",
         "0.0",
         "0.008252904716191334",
         "-1.1300546844536954",
         "0.40903152974790596",
         "1.7394069127376408",
         "1.7825697813394672",
         "1.7149262232497657",
         "True",
         "23.943206294659426"
        ],
        [
         "9",
         "3.4601438953886574",
         "-2.316105364265387",
         "3.1152736793015037",
         "1.0",
         "0.34941365248825795",
         "0.8084119580816014",
         "0.254009920751945",
         "1.1770562584801099",
         "1.287320030810927",
         "-0.6346368218623766",
         "True",
         "20.029661841052118"
        ],
        [
         "10",
         "3.331132951395279",
         "0.34297671398857354",
         "0.6622074163440211",
         "1.0",
         "0.6751265373868249",
         "-0.6559271658027377",
         "-0.7111320030430534",
         "-0.6547108834197488",
         "1.0243593046063475",
         "0.8517170155543011",
         "True",
         "9.399448821627365"
        ],
        [
         "11",
         "3.6402859024680128",
         "-0.04382579679391646",
         "1.366751176906317",
         "1.0",
         "0.6244376381432227",
         "-0.16182575116694783",
         "-0.17249440224732132",
         "2.3864775601933177",
         "-0.3266322646903336",
         "1.3173582612202765",
         "True",
         "15.159926896630243"
        ],
        [
         "12",
         "5.539497550927386",
         "1.1506881932920212",
         "0.03307159403311655",
         "1.0",
         "0.9229086548467129",
         "0.4214101776128827",
         "0.028320848066278655",
         "2.482981041255961",
         "0.18714393209831268",
         "1.3042939451485167",
         "True",
         "26.04526816226057"
        ],
        [
         "13",
         "3.588756171381076",
         "1.841163765992926",
         "0.6985656245326426",
         "1.0",
         "0.8626908536744398",
         "0.4951239579082105",
         "-2.2508439411081964",
         "1.5679020730941455",
         "0.23409145545149035",
         "0.6579654026866415",
         "True",
         "9.519063962433114"
        ],
        [
         "14",
         "5.336241757264908",
         "1.6200449174005622",
         "0.05336881976037122",
         "0.0",
         "0.6038053028152258",
         "0.5882962830850992",
         "-0.8066655389452161",
         "1.1870663975875941",
         "1.4900630676798148",
         "-0.21839441952831562",
         "True",
         "22.289543439459393"
        ],
        [
         "15",
         "4.288861957080319",
         "-3.8972809781540176",
         "1.4406480807719286",
         "1.0",
         "0.717623769645511",
         "-1.779869377423893",
         "0.17941242948902814",
         "0.268347177868848",
         "0.38696889944960666",
         "1.7341283787639425",
         "True",
         "11.546420403441529"
        ],
        [
         "16",
         "4.605982647550556",
         "1.2862427216412597",
         "0.24620222530117875",
         "0.0",
         "0.3975507086219432",
         "0.45718992563350136",
         "0.8160031705143702",
         "-0.09128506258013169",
         "0.9009159403781807",
         "1.4689012794580951",
         "True",
         "25.683812569385694"
        ],
        [
         "17",
         "6.857712177258231",
         "0.09832810423445165",
         "1.7018712611376108",
         "0.0",
         "0.05390901381784241",
         "-1.1221466246862772",
         "0.6360029088295354",
         "0.33142606815731934",
         "1.2906280258002774",
         "2.2850420575658026",
         "True",
         "28.893848336341495"
        ],
        [
         "18",
         "5.556672048310142",
         "-0.014325704549899149",
         "0.605945831225052",
         "1.0",
         "0.9714049687987986",
         "-0.8194961544439823",
         "0.8318793402317798",
         "0.36194334560388663",
         "0.8907175976053099",
         "1.2972054633997332",
         "True",
         "23.062278523959765"
        ],
        [
         "19",
         "1.77510683864764",
         "-0.5059327883735943",
         "0.960027543224856",
         "1.0",
         "0.5121860373336625",
         "0.22287072953949777",
         "1.7141851789654325",
         "1.2539347823125169",
         "0.86926438917021",
         "0.8197963923462354",
         "True",
         "19.743018628120343"
        ],
        [
         "20",
         "3.477928444225244",
         "0.8451766190717016",
         "0.8690582623891094",
         "1.0",
         "0.10895274047364156",
         "-1.011236546272073",
         "0.4619105248764224",
         "0.9198140767146912",
         "-0.16975119597664423",
         "1.8782890496045137",
         "True",
         "13.067503322436473"
        ],
        [
         "21",
         "2.526146773009376",
         "0.3966887756563062",
         "-0.7366054449252772",
         "1.0",
         "0.3695176172268859",
         "-0.572389884388381",
         "0.36714060420279687",
         "-0.45428007689263317",
         "0.257888316642399",
         "0.6748338343756622",
         "True",
         "8.204841677413857"
        ],
        [
         "22",
         "6.1815273881704655",
         "-0.954095198702005",
         "0.44930371152926796",
         "1.0",
         "0.6055661004521655",
         "0.3034479244874999",
         "-0.15873984452196763",
         "1.9667716018535546",
         "1.8395241247831",
         "1.6320682531507662",
         "True",
         "32.751245658186704"
        ],
        [
         "23",
         "3.3332012970763345",
         "0.5590846617577869",
         "0.8750947268321418",
         "1.0",
         "0.48361977378911014",
         "0.8417178978654691",
         "-1.058784347304472",
         "-1.4128414163314453",
         "0.04745003868042119",
         "-0.21251834673148462",
         "True",
         "7.5397319974231785"
        ],
        [
         "24",
         "3.614143486642435",
         "0.3360532631869986",
         "1.879788023231209",
         "1.0",
         "0.8121398400351345",
         "-1.1398791667048305",
         "-0.07368358083752241",
         "0.4004982158628691",
         "0.010957074281245038",
         "0.48672528880415333",
         "True",
         "7.555358303782859"
        ],
        [
         "25",
         "6.620868539607395",
         "0.028935366405441143",
         "0.054400542014862996",
         "1.0",
         "0.9759782318471932",
         "-0.10830828020921066",
         "1.054105981132416",
         "0.30311106955754463",
         "0.7840879687671337",
         "2.2070313481422357",
         "True",
         "31.873231886651485"
        ],
        [
         "26",
         "4.153878335060176",
         "-0.7559596192567088",
         "1.9306970591010049",
         "1.0",
         "0.2702398477357145",
         "-0.1696793320295692",
         "0.15549792346245606",
         "0.019342429100250857",
         "0.9758654840663198",
         "0.19274441550305554",
         "True",
         "16.523224841066842"
        ],
        [
         "27",
         "4.073160134636542",
         "-0.11727556253120848",
         "2.781345474860879",
         "1.0",
         "0.6029819014644978",
         "-0.1531263805241909",
         "-0.3075975966137435",
         "1.4743070272513652",
         "1.5469401683444173",
         "-0.9910665818549311",
         "True",
         "16.133815973372702"
        ],
        [
         "28",
         "3.233225118001242",
         "1.0455427177384877",
         "0.7569673335449333",
         "1.0",
         "0.6052166922548534",
         "1.0454487500478222",
         "-0.9940534691930427",
         "-1.5161967175641193",
         "0.7246483933567134",
         "0.6667722503195376",
         "True",
         "12.86730086659171"
        ],
        [
         "29",
         "5.477217111390724",
         "0.5587920189754612",
         "0.5767233015583144",
         "1.0",
         "0.3556011926896153",
         "0.5253146790142725",
         "0.3492778191071534",
         "1.9648284021782294",
         "0.1844511309179173",
         "0.4247519860350841",
         "True",
         "24.63894531997526"
        ],
        [
         "30",
         "2.6601679062615",
         "0.7890360653798913",
         "0.5707866567856167",
         "0.0",
         "0.8125177379875322",
         "-0.2945198729440235",
         "-1.8479300955847586",
         "-0.8213065347016995",
         "0.8455083025918169",
         "1.6384729130486722",
         "True",
         "5.825806652567684"
        ],
        [
         "31",
         "4.525579008379461",
         "-0.28616024493253445",
         "0.09688030308044959",
         "1.0",
         "0.6595402640973053",
         "1.8695947759511518",
         "-0.6586108314176461",
         "1.5971201599448572",
         "0.2881425579144979",
         "0.8908782122665921",
         "True",
         "24.933094773202086"
        ],
        [
         "32",
         "3.1216087782096484",
         "-0.3403574901361923",
         "0.7239798778363363",
         "1.0",
         "0.604592427655468",
         "-0.01498723005050906",
         "0.055331964614490046",
         "1.659883211379967",
         "0.2677038696703452",
         "1.68447389665821",
         "True",
         "17.02595807508675"
        ],
        [
         "33",
         "4.006788261154609",
         "-0.10520534222443895",
         "1.8083593989326714",
         "1.0",
         "0.8179584593349026",
         "2.4560919631838747",
         "0.17835580431759973",
         "2.816871593179079",
         "-0.8609718478655304",
         "-0.008536959427295043",
         "True",
         "24.69858026111404"
        ],
        [
         "34",
         "7.4144728096641295",
         "1.1330766363959204",
         "1.4449525936305214",
         "1.0",
         "0.34976285348786607",
         "0.6612795991919872",
         "2.104585033944276",
         "1.033977720995352",
         "0.7701453532432174",
         "2.1890360050372957",
         "True",
         "42.83387627640746"
        ],
        [
         "35",
         "3.407098906983821",
         "0.5403383367760797",
         "0.27941457894409183",
         "1.0",
         "0.2888915465797127",
         "-1.2922962891823713",
         "0.2660155153332736",
         "0.7168838421934165",
         "-0.2110517964453884",
         "1.702348176616603",
         "True",
         "9.906938711931708"
        ],
        [
         "36",
         "3.1812360926175987",
         "0.8150486981285536",
         "0.2787968177574158",
         "0.0",
         "0.9143660367041886",
         "-0.49832282964341423",
         "0.7292081257372102",
         "1.0327329665236444",
         "0.8637680075608636",
         "0.2956089266857252",
         "True",
         "15.444482498330574"
        ],
        [
         "37",
         "1.394373690842109",
         "0.3942014550723184",
         "1.815153998550581",
         "1.0",
         "0.3588648609141978",
         "-0.6872506432778489",
         "0.9497885545630002",
         "0.35359122020990374",
         "0.6371478102931138",
         "1.054210381198129",
         "True",
         "10.366957040209705"
        ],
        [
         "38",
         "4.963786365023156",
         "-0.3956999102844806",
         "0.6787584608315056",
         "1.0",
         "0.2899074343326824",
         "0.8058596726747127",
         "-1.2219704565988279",
         "1.8597390762972328",
         "-0.6067306289786703",
         "1.784979452487606",
         "True",
         "18.76915099212757"
        ],
        [
         "39",
         "4.2747636561812365",
         "0.26156702357981537",
         "-0.9007839067701358",
         "0.0",
         "0.48628276873779497",
         "-1.2073370266362389",
         "0.06811134527864063",
         "2.5362281943952185",
         "0.523928420005433",
         "1.4120433111270363",
         "True",
         "16.55352878236454"
        ],
        [
         "40",
         "4.674714907774168",
         "1.7498762383937736",
         "0.6853269234440653",
         "1.0",
         "0.5441296630928193",
         "1.2363813491470927",
         "-0.036804701543663054",
         "0.9393347680151102",
         "0.06105611019469276",
         "1.5678940901091742",
         "True",
         "24.93732540196957"
        ],
        [
         "41",
         "4.7869110437167",
         "0.8747677892399237",
         "-0.26815903356283055",
         "0.0",
         "0.330780263284043",
         "1.3377800775816557",
         "0.9901214220761009",
         "2.7297015812430634",
         "1.0152320529079257",
         "-0.26100069088625044",
         "True",
         "30.94347987667303"
        ],
        [
         "42",
         "5.3590058024948615",
         "-1.2673457275382995",
         "-1.4704541225239698",
         "1.0",
         "0.00010837012925679623",
         "1.844224604192897",
         "0.131166244271675",
         "1.9770566499834754",
         "2.8275192251812653",
         "0.7333319359738046",
         "True",
         "39.359445294022706"
        ],
        [
         "43",
         "5.28633934426469",
         "1.126977835327786",
         "-0.121587077560256",
         "1.0",
         "0.307481251488412",
         "-0.7518413294022107",
         "-1.0401556515054078",
         "1.3307596819183005",
         "1.1059771478234048",
         "1.6348154883204138",
         "True",
         "18.583042974259122"
        ],
        [
         "44",
         "2.867254449478135",
         "-0.5555016011771309",
         "0.6341783180331506",
         "0.0",
         "0.9200923795697954",
         "0.11620370471153812",
         "-2.891324366626109",
         "-0.16043163425462947",
         "-0.2804654944249626",
         "1.7339282909914955",
         "True",
         "1.3864078465187104"
        ],
        [
         "45",
         "2.0395568674197566",
         "0.1995205301653356",
         "0.18057539361772523",
         "1.0",
         "0.9942601125511322",
         "-0.46050400099316047",
         "-0.37117237086673316",
         "0.6428737448265813",
         "0.5189575124615335",
         "0.8198091380123405",
         "True",
         "7.527252120200556"
        ],
        [
         "46",
         "3.044294308368353",
         "0.5374869098484204",
         "2.107286511725821",
         "1.0",
         "0.9214022877336276",
         "-1.213517982753477",
         "-2.0719115333579987",
         "1.0185964278488502",
         "-0.4250766722456212",
         "-0.21104281299636196",
         "True",
         "-4.252551488469095"
        ],
        [
         "47",
         "1.4375289297122005",
         "-0.5515606869705048",
         "1.3370183161208424",
         "1.0",
         "0.6520049003050037",
         "-1.795264131649003",
         "-0.03194982601619324",
         "-1.2155726738796624",
         "-0.8490497940723392",
         "1.0095085842295815",
         "True",
         "-6.031458551619311"
        ],
        [
         "48",
         "6.184360108393903",
         "0.08287788837724341",
         "-0.7214517690947684",
         "1.0",
         "0.8129195585991215",
         "0.8670816530318961",
         "0.7793176019572593",
         "0.992559455049491",
         "-1.124754162537616",
         "2.5562469987279868",
         "True",
         "28.64405841829202"
        ],
        [
         "49",
         "5.497412034414784",
         "1.352661839877227",
         "0.9000502367822181",
         "1.0",
         "0.4666735212715518",
         "1.2788824313521807",
         "0.6950203190786195",
         "1.3498348717126418",
         "-0.5883225869408577",
         "0.37306440212473196",
         "True",
         "25.60475873026204"
        ]
       ],
       "shape": {
        "columns": 12,
        "rows": 100
       }
      },
      "text/html": [
       "<div>\n",
       "<style scoped>\n",
       "    .dataframe tbody tr th:only-of-type {\n",
       "        vertical-align: middle;\n",
       "    }\n",
       "\n",
       "    .dataframe tbody tr th {\n",
       "        vertical-align: top;\n",
       "    }\n",
       "\n",
       "    .dataframe thead th {\n",
       "        text-align: right;\n",
       "    }\n",
       "</style>\n",
       "<table border=\"1\" class=\"dataframe\">\n",
       "  <thead>\n",
       "    <tr style=\"text-align: right;\">\n",
       "      <th></th>\n",
       "      <th>FD0</th>\n",
       "      <th>X0</th>\n",
       "      <th>X1</th>\n",
       "      <th>Z0</th>\n",
       "      <th>Z1</th>\n",
       "      <th>W0</th>\n",
       "      <th>W1</th>\n",
       "      <th>W2</th>\n",
       "      <th>W3</th>\n",
       "      <th>W4</th>\n",
       "      <th>v0</th>\n",
       "      <th>y</th>\n",
       "    </tr>\n",
       "  </thead>\n",
       "  <tbody>\n",
       "    <tr>\n",
       "      <th>0</th>\n",
       "      <td>1.702602</td>\n",
       "      <td>-0.076597</td>\n",
       "      <td>1.503810</td>\n",
       "      <td>1.0</td>\n",
       "      <td>0.927995</td>\n",
       "      <td>-0.082790</td>\n",
       "      <td>-1.849508</td>\n",
       "      <td>1.183834</td>\n",
       "      <td>0.576887</td>\n",
       "      <td>-0.450739</td>\n",
       "      <td>True</td>\n",
       "      <td>0.785463</td>\n",
       "    </tr>\n",
       "    <tr>\n",
       "      <th>1</th>\n",
       "      <td>4.252994</td>\n",
       "      <td>-0.747033</td>\n",
       "      <td>-0.497630</td>\n",
       "      <td>1.0</td>\n",
       "      <td>0.456240</td>\n",
       "      <td>0.541403</td>\n",
       "      <td>1.168405</td>\n",
       "      <td>0.696132</td>\n",
       "      <td>2.511974</td>\n",
       "      <td>0.540265</td>\n",
       "      <td>True</td>\n",
       "      <td>30.822510</td>\n",
       "    </tr>\n",
       "    <tr>\n",
       "      <th>2</th>\n",
       "      <td>3.868259</td>\n",
       "      <td>1.503360</td>\n",
       "      <td>1.943528</td>\n",
       "      <td>1.0</td>\n",
       "      <td>0.474940</td>\n",
       "      <td>0.284533</td>\n",
       "      <td>0.654857</td>\n",
       "      <td>1.300567</td>\n",
       "      <td>0.748340</td>\n",
       "      <td>0.736040</td>\n",
       "      <td>True</td>\n",
       "      <td>22.046397</td>\n",
       "    </tr>\n",
       "    <tr>\n",
       "      <th>3</th>\n",
       "      <td>3.496398</td>\n",
       "      <td>-1.090537</td>\n",
       "      <td>0.596136</td>\n",
       "      <td>1.0</td>\n",
       "      <td>0.116552</td>\n",
       "      <td>-0.403838</td>\n",
       "      <td>-0.473396</td>\n",
       "      <td>-0.206385</td>\n",
       "      <td>1.828164</td>\n",
       "      <td>1.949830</td>\n",
       "      <td>True</td>\n",
       "      <td>18.044230</td>\n",
       "    </tr>\n",
       "    <tr>\n",
       "      <th>4</th>\n",
       "      <td>1.693561</td>\n",
       "      <td>-0.020754</td>\n",
       "      <td>0.503363</td>\n",
       "      <td>1.0</td>\n",
       "      <td>0.367555</td>\n",
       "      <td>-2.787475</td>\n",
       "      <td>-0.249084</td>\n",
       "      <td>-0.447819</td>\n",
       "      <td>-0.324294</td>\n",
       "      <td>-0.093627</td>\n",
       "      <td>True</td>\n",
       "      <td>-10.249713</td>\n",
       "    </tr>\n",
       "    <tr>\n",
       "      <th>...</th>\n",
       "      <td>...</td>\n",
       "      <td>...</td>\n",
       "      <td>...</td>\n",
       "      <td>...</td>\n",
       "      <td>...</td>\n",
       "      <td>...</td>\n",
       "      <td>...</td>\n",
       "      <td>...</td>\n",
       "      <td>...</td>\n",
       "      <td>...</td>\n",
       "      <td>...</td>\n",
       "      <td>...</td>\n",
       "    </tr>\n",
       "    <tr>\n",
       "      <th>95</th>\n",
       "      <td>0.508625</td>\n",
       "      <td>-1.067826</td>\n",
       "      <td>0.021713</td>\n",
       "      <td>0.0</td>\n",
       "      <td>0.167321</td>\n",
       "      <td>-1.199767</td>\n",
       "      <td>0.431684</td>\n",
       "      <td>1.304820</td>\n",
       "      <td>1.025550</td>\n",
       "      <td>-0.002158</td>\n",
       "      <td>False</td>\n",
       "      <td>3.410364</td>\n",
       "    </tr>\n",
       "    <tr>\n",
       "      <th>96</th>\n",
       "      <td>3.501812</td>\n",
       "      <td>0.194637</td>\n",
       "      <td>1.070434</td>\n",
       "      <td>0.0</td>\n",
       "      <td>0.794992</td>\n",
       "      <td>-0.020572</td>\n",
       "      <td>-1.507942</td>\n",
       "      <td>0.774454</td>\n",
       "      <td>0.688353</td>\n",
       "      <td>0.361827</td>\n",
       "      <td>True</td>\n",
       "      <td>9.465965</td>\n",
       "    </tr>\n",
       "    <tr>\n",
       "      <th>97</th>\n",
       "      <td>3.591089</td>\n",
       "      <td>1.191190</td>\n",
       "      <td>-0.431227</td>\n",
       "      <td>1.0</td>\n",
       "      <td>0.011776</td>\n",
       "      <td>1.209786</td>\n",
       "      <td>1.736560</td>\n",
       "      <td>-0.445751</td>\n",
       "      <td>0.769504</td>\n",
       "      <td>0.436795</td>\n",
       "      <td>True</td>\n",
       "      <td>25.814945</td>\n",
       "    </tr>\n",
       "    <tr>\n",
       "      <th>98</th>\n",
       "      <td>6.743776</td>\n",
       "      <td>1.002964</td>\n",
       "      <td>-0.642032</td>\n",
       "      <td>1.0</td>\n",
       "      <td>0.547920</td>\n",
       "      <td>0.715261</td>\n",
       "      <td>-0.635860</td>\n",
       "      <td>1.192151</td>\n",
       "      <td>0.427559</td>\n",
       "      <td>1.642949</td>\n",
       "      <td>True</td>\n",
       "      <td>28.195424</td>\n",
       "    </tr>\n",
       "    <tr>\n",
       "      <th>99</th>\n",
       "      <td>4.283727</td>\n",
       "      <td>-1.328551</td>\n",
       "      <td>2.377718</td>\n",
       "      <td>0.0</td>\n",
       "      <td>0.548353</td>\n",
       "      <td>-0.112837</td>\n",
       "      <td>0.390391</td>\n",
       "      <td>0.084206</td>\n",
       "      <td>-0.392851</td>\n",
       "      <td>1.386572</td>\n",
       "      <td>True</td>\n",
       "      <td>16.065004</td>\n",
       "    </tr>\n",
       "  </tbody>\n",
       "</table>\n",
       "<p>100 rows × 12 columns</p>\n",
       "</div>"
      ],
      "text/plain": [
       "         FD0        X0        X1   Z0        Z1        W0        W1        W2  \\\n",
       "0   1.702602 -0.076597  1.503810  1.0  0.927995 -0.082790 -1.849508  1.183834   \n",
       "1   4.252994 -0.747033 -0.497630  1.0  0.456240  0.541403  1.168405  0.696132   \n",
       "2   3.868259  1.503360  1.943528  1.0  0.474940  0.284533  0.654857  1.300567   \n",
       "3   3.496398 -1.090537  0.596136  1.0  0.116552 -0.403838 -0.473396 -0.206385   \n",
       "4   1.693561 -0.020754  0.503363  1.0  0.367555 -2.787475 -0.249084 -0.447819   \n",
       "..       ...       ...       ...  ...       ...       ...       ...       ...   \n",
       "95  0.508625 -1.067826  0.021713  0.0  0.167321 -1.199767  0.431684  1.304820   \n",
       "96  3.501812  0.194637  1.070434  0.0  0.794992 -0.020572 -1.507942  0.774454   \n",
       "97  3.591089  1.191190 -0.431227  1.0  0.011776  1.209786  1.736560 -0.445751   \n",
       "98  6.743776  1.002964 -0.642032  1.0  0.547920  0.715261 -0.635860  1.192151   \n",
       "99  4.283727 -1.328551  2.377718  0.0  0.548353 -0.112837  0.390391  0.084206   \n",
       "\n",
       "          W3        W4     v0          y  \n",
       "0   0.576887 -0.450739   True   0.785463  \n",
       "1   2.511974  0.540265   True  30.822510  \n",
       "2   0.748340  0.736040   True  22.046397  \n",
       "3   1.828164  1.949830   True  18.044230  \n",
       "4  -0.324294 -0.093627   True -10.249713  \n",
       "..       ...       ...    ...        ...  \n",
       "95  1.025550 -0.002158  False   3.410364  \n",
       "96  0.688353  0.361827   True   9.465965  \n",
       "97  0.769504  0.436795   True  25.814945  \n",
       "98  0.427559  1.642949   True  28.195424  \n",
       "99 -0.392851  1.386572   True  16.065004  \n",
       "\n",
       "[100 rows x 12 columns]"
      ]
     },
     "execution_count": 28,
     "metadata": {},
     "output_type": "execute_result"
    }
   ],
   "source": [
    "sim_data['df']"
   ]
  },
  {
   "cell_type": "code",
   "execution_count": 30,
   "id": "b6a2bcae",
   "metadata": {},
   "outputs": [
    {
     "data": {
      "text/plain": [
       "['FD0']"
      ]
     },
     "execution_count": 30,
     "metadata": {},
     "output_type": "execute_result"
    }
   ],
   "source": [
    "sim_data['frontdoor_variables_names']"
   ]
  },
  {
   "cell_type": "code",
   "execution_count": 31,
   "id": "0a0e9ab9",
   "metadata": {},
   "outputs": [
    {
     "data": {
      "text/plain": [
       "'digraph {W0-> v0; W1-> v0; W2-> v0; W3-> v0; W4-> v0;Z0-> v0; Z1-> v0;v0-> FD0;W0-> y; W1-> y; W2-> y; W3-> y; W4-> y;X0-> y; X1-> y;FD0-> y;}W0-> FD0;W1-> FD0;W2-> FD0;W3-> FD0;W4-> FD0;'"
      ]
     },
     "execution_count": 31,
     "metadata": {},
     "output_type": "execute_result"
    }
   ],
   "source": [
    "sim_data['dot_graph']"
   ]
  },
  {
   "cell_type": "code",
   "execution_count": 33,
   "id": "e7d2f23d",
   "metadata": {},
   "outputs": [
    {
     "data": {
      "image/png": "[encoded data removed]",
      "text/plain": [
       "<Figure size 640x480 with 1 Axes>"
      ]
     },
     "metadata": {},
     "output_type": "display_data"
    }
   ],
   "source": [
    "dag = nx.parse_gml(sim_data['gml_graph'])\n",
    "pos = {\n",
    "    'X0': (600, 350),\n",
    "    'X1': (600, 250),\n",
    "    'FD0': (300, 300),\n",
    "    'W0': (0, 400),\n",
    "    'W1': (150, 400),\n",
    "    'W2': (300, 400),\n",
    "    'W3': (450, 400),\n",
    "    'W4': (600, 400),\n",
    "    'Z0': (10, 250),\n",
    "    'Z1': (10, 350),\n",
    "    'v0': (100, 300),\n",
    "    'y': (500, 300)\n",
    "}\n",
    "\n",
    "options = {\n",
    "    \"font_size\": 12,\n",
    "    \"node_size\": 800,\n",
    "    \"node_color\": \"white\",\n",
    "    \"edgecolors\": \"black\",\n",
    "    \"linewidths\": 1,\n",
    "    \"width\": 1\n",
    "}\n",
    "\n",
    "nx.draw_networkx(dag, pos, **options)\n",
    "ax = plt.gca()\n",
    "ax.margins(x=0.40)\n",
    "plt.axis(\"off\")\n",
    "plt.show()"
   ]
  }
 ],
 "metadata": {
  "kernelspec": {
   "display_name": "causal-ai",
   "language": "python",
   "name": "python3"
  },
  "language_info": {
   "codemirror_mode": {
    "name": "ipython",
    "version": 3
   },
   "file_extension": ".py",
   "mimetype": "text/x-python",
   "name": "python",
   "nbconvert_exporter": "python",
   "pygments_lexer": "ipython3",
   "version": "3.12.0"
  }
 },
 "nbformat": 4,
 "nbformat_minor": 5
}
