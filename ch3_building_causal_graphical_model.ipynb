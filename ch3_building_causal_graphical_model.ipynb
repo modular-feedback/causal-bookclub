{
 "cells": [
  {
   "cell_type": "markdown",
   "id": "facf1192",
   "metadata": {},
   "source": [
    "# Buidling Causal Graphical Models"
   ]
  },
  {
   "cell_type": "markdown",
   "id": "d74a8980",
   "metadata": {},
   "source": [
    "Reminder that we're using tools to infer what the data generating process (DGP) may look like. One set of data may imply many different DGPs, so it's a hard game to play. This chapter is focused on graphically representing the DGP."
   ]
  },
  {
   "cell_type": "markdown",
   "id": "b814fb49",
   "metadata": {},
   "source": [
    "## 3.1.1 Transportation Case Study"
   ]
  },
  {
   "cell_type": "code",
   "execution_count": 1,
   "id": "e6946ba5",
   "metadata": {},
   "outputs": [
    {
     "data": {
      "text/plain": [
       "<pgmpy.models.DiscreteBayesianNetwork.DiscreteBayesianNetwork at 0x1357327e0>"
      ]
     },
     "execution_count": 1,
     "metadata": {},
     "output_type": "execute_result"
    }
   ],
   "source": [
    "# 3.2 Building the transportation DAG in pgmpy\n",
    "\n",
    "from pgmpy.models import DiscreteBayesianNetwork\n",
    "model = DiscreteBayesianNetwork(\n",
    "    [\n",
    "        ('Age', 'Education'),\n",
    "        ('Gender', 'Education'),\n",
    "        ('Education', 'Occupation'),\n",
    "        ('Education', 'Residence'),\n",
    "        ('Occupation', 'Transportation'),\n",
    "        ('Residence', 'Transportation')\n",
    "    ]\n",
    ")\n",
    "\n",
    "model"
   ]
  },
  {
   "cell_type": "markdown",
   "id": "c0bcfcfd",
   "metadata": {},
   "source": [
    "## 3.1.3 DAGs as Communication Tools"
   ]
  },
  {
   "cell_type": "markdown",
   "id": "396e6454",
   "metadata": {},
   "source": [
    "- Examples in which you've used DAGs for communication\n",
    "- Discuss DAG limitations as a reminder\n",
    "    - \"How\" vs \"What\"\n",
    "- Logic Gates visualize \"How\"\n",
    "    "
   ]
  },
  {
   "cell_type": "markdown",
   "id": "76c0af9f",
   "metadata": {},
   "source": [
    "DAGs represent and codify causal assumptions that can be used in further computation purposes. they also represent time, in that the causal arrow assumes forward movement in time. "
   ]
  },
  {
   "cell_type": "markdown",
   "id": "cc32419e",
   "metadata": {},
   "source": [
    "Identified ways of getting around the \"acyclic\" assumption in DAGs without necessarily having to relax the criteria. Example given is to unpack the \"cycles\" into discrete steps and track their path over time. "
   ]
  },
  {
   "cell_type": "markdown",
   "id": "f1041ba5",
   "metadata": {},
   "source": [
    "## Linking Causality to Conditional Independence"
   ]
  },
  {
   "cell_type": "markdown",
   "id": "845695b6",
   "metadata": {},
   "source": [
    "Highlighted how causal DAG allows a much simpler structure for formulating joint probability, because the causal pathway carries some assumptions about conditional independence.\n",
    "\n",
    "Specifically, in the geneology example, the author demonstrates where the 2 parents' blood types contain enough info to explain a child's blood type without knowing the parents' blood type.\n",
    "\n",
    "This characteristic, where direct \"parent\" properties supercede \"grandparent\" properties, is called the \"causal Markov property\"\n",
    "\n"
   ]
  },
  {
   "cell_type": "markdown",
   "id": "88452c85",
   "metadata": {},
   "source": [
    "## Scaffolding for Causal Machine Learning Models"
   ]
  },
  {
   "cell_type": "markdown",
   "id": "2a5880b9",
   "metadata": {},
   "source": [
    "Building with the DAG as the scaffolding permits the further goal - building causal machine learning models. These can be used for prediction and causal inference.\n",
    "\n",
    "After factoring under the assumption of causal conditional indepdence, the \"factors\" are also called Markov Kernels\n",
    "\n"
   ]
  },
  {
   "cell_type": "markdown",
   "id": "072b4147",
   "metadata": {},
   "source": [
    "### Labeling Causal Abstractions\n",
    "\n",
    "Labels are by their nature fluid and changing, so it's important to be careful about consistency among labels. Author citied the example of race, whose definition has definitely changed over time.\n",
    "\n",
    "\"In machine learning, we're often encouraged to blindly label data and not think about the DGP\"\n",
    "\n"
   ]
  },
  {
   "cell_type": "markdown",
   "id": "69bbc02b",
   "metadata": {},
   "source": [
    "## Training a Model on a Causal Dag"
   ]
  },
  {
   "cell_type": "code",
   "execution_count": 2,
   "id": "83c4f26a",
   "metadata": {},
   "outputs": [],
   "source": [
    "import polars as pl\n",
    "url = 'https://raw.githubusercontent.com/altdeep/causalML/master/datasets/transportation_survey.csv'\n",
    "df = pl.read_csv(url)\n",
    "df.columns = [\"Age\", \"Gender\", \"Education\", \"Occupation\", \"Residence\", \"Transportation\"]"
   ]
  },
  {
   "cell_type": "code",
   "execution_count": 3,
   "id": "fd991db8",
   "metadata": {},
   "outputs": [
    {
     "data": {
      "text/html": [
       "<div><style>\n",
       ".dataframe > thead > tr,\n",
       ".dataframe > tbody > tr {\n",
       "  text-align: right;\n",
       "  white-space: pre-wrap;\n",
       "}\n",
       "</style>\n",
       "<small>shape: (10, 6)</small><table border=\"1\" class=\"dataframe\"><thead><tr><th>Age</th><th>Gender</th><th>Education</th><th>Occupation</th><th>Residence</th><th>Transportation</th></tr><tr><td>str</td><td>str</td><td>str</td><td>str</td><td>str</td><td>str</td></tr></thead><tbody><tr><td>&quot;old&quot;</td><td>&quot;M&quot;</td><td>&quot;high&quot;</td><td>&quot;emp&quot;</td><td>&quot;big&quot;</td><td>&quot;other&quot;</td></tr><tr><td>&quot;adult&quot;</td><td>&quot;F&quot;</td><td>&quot;high&quot;</td><td>&quot;emp&quot;</td><td>&quot;big&quot;</td><td>&quot;car&quot;</td></tr><tr><td>&quot;adult&quot;</td><td>&quot;F&quot;</td><td>&quot;high&quot;</td><td>&quot;emp&quot;</td><td>&quot;small&quot;</td><td>&quot;car&quot;</td></tr><tr><td>&quot;adult&quot;</td><td>&quot;M&quot;</td><td>&quot;high&quot;</td><td>&quot;emp&quot;</td><td>&quot;big&quot;</td><td>&quot;car&quot;</td></tr><tr><td>&quot;old&quot;</td><td>&quot;M&quot;</td><td>&quot;high&quot;</td><td>&quot;emp&quot;</td><td>&quot;big&quot;</td><td>&quot;car&quot;</td></tr><tr><td>&quot;young&quot;</td><td>&quot;M&quot;</td><td>&quot;high&quot;</td><td>&quot;emp&quot;</td><td>&quot;small&quot;</td><td>&quot;car&quot;</td></tr><tr><td>&quot;young&quot;</td><td>&quot;F&quot;</td><td>&quot;uni&quot;</td><td>&quot;emp&quot;</td><td>&quot;big&quot;</td><td>&quot;car&quot;</td></tr><tr><td>&quot;old&quot;</td><td>&quot;M&quot;</td><td>&quot;high&quot;</td><td>&quot;emp&quot;</td><td>&quot;big&quot;</td><td>&quot;car&quot;</td></tr><tr><td>&quot;young&quot;</td><td>&quot;F&quot;</td><td>&quot;uni&quot;</td><td>&quot;emp&quot;</td><td>&quot;big&quot;</td><td>&quot;car&quot;</td></tr><tr><td>&quot;young&quot;</td><td>&quot;F&quot;</td><td>&quot;high&quot;</td><td>&quot;emp&quot;</td><td>&quot;big&quot;</td><td>&quot;car&quot;</td></tr></tbody></table></div>"
      ],
      "text/plain": [
       "shape: (10, 6)\n",
       "┌───────┬────────┬───────────┬────────────┬───────────┬────────────────┐\n",
       "│ Age   ┆ Gender ┆ Education ┆ Occupation ┆ Residence ┆ Transportation │\n",
       "│ ---   ┆ ---    ┆ ---       ┆ ---        ┆ ---       ┆ ---            │\n",
       "│ str   ┆ str    ┆ str       ┆ str        ┆ str       ┆ str            │\n",
       "╞═══════╪════════╪═══════════╪════════════╪═══════════╪════════════════╡\n",
       "│ old   ┆ M      ┆ high      ┆ emp        ┆ big       ┆ other          │\n",
       "│ adult ┆ F      ┆ high      ┆ emp        ┆ big       ┆ car            │\n",
       "│ adult ┆ F      ┆ high      ┆ emp        ┆ small     ┆ car            │\n",
       "│ adult ┆ M      ┆ high      ┆ emp        ┆ big       ┆ car            │\n",
       "│ old   ┆ M      ┆ high      ┆ emp        ┆ big       ┆ car            │\n",
       "│ young ┆ M      ┆ high      ┆ emp        ┆ small     ┆ car            │\n",
       "│ young ┆ F      ┆ uni       ┆ emp        ┆ big       ┆ car            │\n",
       "│ old   ┆ M      ┆ high      ┆ emp        ┆ big       ┆ car            │\n",
       "│ young ┆ F      ┆ uni       ┆ emp        ┆ big       ┆ car            │\n",
       "│ young ┆ F      ┆ high      ┆ emp        ┆ big       ┆ car            │\n",
       "└───────┴────────┴───────────┴────────────┴───────────┴────────────────┘"
      ]
     },
     "execution_count": 3,
     "metadata": {},
     "output_type": "execute_result"
    }
   ],
   "source": [
    "# There are people in this world who use data without looking at it. Don't let it be you!\n",
    "# in notebooks, \"sample\" can give you a better idea what's in a dataframe than \"head\"\n",
    "\n",
    "df.sample(10)"
   ]
  },
  {
   "cell_type": "code",
   "execution_count": 12,
   "id": "1ed04a85",
   "metadata": {},
   "outputs": [
    {
     "name": "stderr",
     "output_type": "stream",
     "text": [
      "INFO:pgmpy: Datatype (N=numerical, C=Categorical Unordered, O=Categorical Ordered) inferred from data: \n",
      " {'Age': 'C', 'Gender': 'C', 'Education': 'C', 'Occupation': 'C', 'Residence': 'C', 'Transportation': 'C'}\n",
      "WARNING:pgmpy:Replacing existing CPD for Age\n",
      "WARNING:pgmpy:Replacing existing CPD for Education\n",
      "WARNING:pgmpy:Replacing existing CPD for Gender\n",
      "WARNING:pgmpy:Replacing existing CPD for Occupation\n",
      "WARNING:pgmpy:Replacing existing CPD for Residence\n",
      "WARNING:pgmpy:Replacing existing CPD for Transportation\n",
      "WARNING:pgmpy:Replacing existing CPD for Age\n",
      "WARNING:pgmpy:Replacing existing CPD for Education\n",
      "WARNING:pgmpy:Replacing existing CPD for Gender\n",
      "WARNING:pgmpy:Replacing existing CPD for Occupation\n",
      "WARNING:pgmpy:Replacing existing CPD for Residence\n",
      "WARNING:pgmpy:Replacing existing CPD for Transportation\n"
     ]
    },
    {
     "name": "stdout",
     "output_type": "stream",
     "text": [
      "[<TabularCPD representing P(Age:3) at 0x16b3bb410>, <TabularCPD representing P(Education:2 | Age:3, Gender:2) at 0x16b1a7d10>, <TabularCPD representing P(Gender:2) at 0x16b1a7da0>, <TabularCPD representing P(Occupation:2 | Education:2) at 0x16b1a5880>, <TabularCPD representing P(Residence:2 | Education:2) at 0x16b1a7290>, <TabularCPD representing P(Transportation:3 | Occupation:2, Residence:2) at 0x16b1a6ae0>]\n"
     ]
    }
   ],
   "source": [
    "# Learning Parameters for the causal Markov kernels\n",
    "model.fit(df.to_pandas())  # polars wins on convenience, pandas wins on compatibility\n",
    "causal_markov_kernels = model.get_cpds()\n",
    "print(causal_markov_kernels)"
   ]
  },
  {
   "cell_type": "code",
   "execution_count": 5,
   "id": "3a39cf4c",
   "metadata": {},
   "outputs": [
    {
     "data": {
      "application/vnd.microsoft.datawrangler.viewer.v0+json": {
       "columns": [
        {
         "name": "Transportation",
         "rawType": "object",
         "type": "string"
        },
        {
         "name": "('emp', 'big')",
         "rawType": "float64",
         "type": "float"
        },
        {
         "name": "('emp', 'small')",
         "rawType": "float64",
         "type": "float"
        },
        {
         "name": "('self', 'big')",
         "rawType": "float64",
         "type": "float"
        },
        {
         "name": "('self', 'small')",
         "rawType": "float64",
         "type": "float"
        }
       ],
       "ref": "7c39a0c5-2df7-4a82-9612-5a81582149ab",
       "rows": [
        [
         "car",
         "0.7034313725490197",
         "0.524390243902439",
         "0.4444444444444444",
         "1.0"
        ],
        [
         "other",
         "0.13480392156862744",
         "0.08536585365853659",
         "0.3333333333333333",
         "0.0"
        ],
        [
         "train",
         "0.16176470588235295",
         "0.3902439024390244",
         "0.2222222222222222",
         "0.0"
        ]
       ],
       "shape": {
        "columns": 4,
        "rows": 3
       }
      },
      "text/html": [
       "<div>\n",
       "<style scoped>\n",
       "    .dataframe tbody tr th:only-of-type {\n",
       "        vertical-align: middle;\n",
       "    }\n",
       "\n",
       "    .dataframe tbody tr th {\n",
       "        vertical-align: top;\n",
       "    }\n",
       "\n",
       "    .dataframe thead tr th {\n",
       "        text-align: left;\n",
       "    }\n",
       "\n",
       "    .dataframe thead tr:last-of-type th {\n",
       "        text-align: right;\n",
       "    }\n",
       "</style>\n",
       "<table border=\"1\" class=\"dataframe\">\n",
       "  <thead>\n",
       "    <tr>\n",
       "      <th>Occupation</th>\n",
       "      <th colspan=\"2\" halign=\"left\">emp</th>\n",
       "      <th colspan=\"2\" halign=\"left\">self</th>\n",
       "    </tr>\n",
       "    <tr>\n",
       "      <th>Residence</th>\n",
       "      <th>big</th>\n",
       "      <th>small</th>\n",
       "      <th>big</th>\n",
       "      <th>small</th>\n",
       "    </tr>\n",
       "    <tr>\n",
       "      <th>Transportation</th>\n",
       "      <th></th>\n",
       "      <th></th>\n",
       "      <th></th>\n",
       "      <th></th>\n",
       "    </tr>\n",
       "  </thead>\n",
       "  <tbody>\n",
       "    <tr>\n",
       "      <th>car</th>\n",
       "      <td>0.703431</td>\n",
       "      <td>0.524390</td>\n",
       "      <td>0.444444</td>\n",
       "      <td>1.0</td>\n",
       "    </tr>\n",
       "    <tr>\n",
       "      <th>other</th>\n",
       "      <td>0.134804</td>\n",
       "      <td>0.085366</td>\n",
       "      <td>0.333333</td>\n",
       "      <td>0.0</td>\n",
       "    </tr>\n",
       "    <tr>\n",
       "      <th>train</th>\n",
       "      <td>0.161765</td>\n",
       "      <td>0.390244</td>\n",
       "      <td>0.222222</td>\n",
       "      <td>0.0</td>\n",
       "    </tr>\n",
       "  </tbody>\n",
       "</table>\n",
       "</div>"
      ],
      "text/plain": [
       "Occupation           emp                self      \n",
       "Residence            big     small       big small\n",
       "Transportation                                    \n",
       "car             0.703431  0.524390  0.444444   1.0\n",
       "other           0.134804  0.085366  0.333333   0.0\n",
       "train           0.161765  0.390244  0.222222   0.0"
      ]
     },
     "execution_count": 5,
     "metadata": {},
     "output_type": "execute_result"
    }
   ],
   "source": [
    "cmk_T_max_likelihood = causal_markov_kernels[-1]\n",
    "cmk_T_max_likelihood.to_dataframe().T  # this is MUCH better than print(cmk_T)"
   ]
  },
  {
   "cell_type": "markdown",
   "id": "63e8f956",
   "metadata": {},
   "source": [
    "### Different Techniques for Parameter Learning"
   ]
  },
  {
   "cell_type": "markdown",
   "id": "b9a81a14",
   "metadata": {},
   "source": [
    "\"Maximum Likelihood\" seeks the parameter that maximizes the likelihood of seeing the data we use to train the model. For categorical data, this is a matter of proportions of the seen data"
   ]
  },
  {
   "cell_type": "markdown",
   "id": "948e2dfa",
   "metadata": {},
   "source": [
    "Dirichilet conjugate priors allow us to calculate distributions using only simple math. This is embedded in pgmpy"
   ]
  },
  {
   "cell_type": "code",
   "execution_count": 6,
   "id": "3f277003",
   "metadata": {},
   "outputs": [
    {
     "name": "stderr",
     "output_type": "stream",
     "text": [
      "INFO:pgmpy: Datatype (N=numerical, C=Categorical Unordered, O=Categorical Ordered) inferred from data: \n",
      " {'Age': 'C', 'Gender': 'C', 'Education': 'C', 'Occupation': 'C', 'Residence': 'C', 'Transportation': 'C'}\n",
      "WARNING:pgmpy:Replacing existing CPD for Age\n",
      "WARNING:pgmpy:Replacing existing CPD for Education\n",
      "WARNING:pgmpy:Replacing existing CPD for Occupation\n",
      "WARNING:pgmpy:Replacing existing CPD for Residence\n",
      "WARNING:pgmpy:Replacing existing CPD for Gender\n",
      "WARNING:pgmpy:Replacing existing CPD for Transportation\n",
      "WARNING:pgmpy:Replacing existing CPD for Age\n",
      "WARNING:pgmpy:Replacing existing CPD for Education\n",
      "WARNING:pgmpy:Replacing existing CPD for Occupation\n",
      "WARNING:pgmpy:Replacing existing CPD for Residence\n",
      "WARNING:pgmpy:Replacing existing CPD for Gender\n",
      "WARNING:pgmpy:Replacing existing CPD for Transportation\n"
     ]
    },
    {
     "data": {
      "application/vnd.microsoft.datawrangler.viewer.v0+json": {
       "columns": [
        {
         "name": "Transportation",
         "rawType": "object",
         "type": "string"
        },
        {
         "name": "('emp', 'big')",
         "rawType": "float64",
         "type": "float"
        },
        {
         "name": "('emp', 'small')",
         "rawType": "float64",
         "type": "float"
        },
        {
         "name": "('self', 'big')",
         "rawType": "float64",
         "type": "float"
        },
        {
         "name": "('self', 'small')",
         "rawType": "float64",
         "type": "float"
        }
       ],
       "ref": "51b79692-65eb-43fe-a0fb-2cb2636c2427",
       "rows": [
        [
         "car",
         "0.7007299270072993",
         "0.5176470588235295",
         "0.4166666666666667",
         "0.5"
        ],
        [
         "other",
         "0.1362530413625304",
         "0.09411764705882353",
         "0.3333333333333333",
         "0.25"
        ],
        [
         "train",
         "0.1630170316301703",
         "0.38823529411764707",
         "0.25",
         "0.25"
        ]
       ],
       "shape": {
        "columns": 4,
        "rows": 3
       }
      },
      "text/html": [
       "<div>\n",
       "<style scoped>\n",
       "    .dataframe tbody tr th:only-of-type {\n",
       "        vertical-align: middle;\n",
       "    }\n",
       "\n",
       "    .dataframe tbody tr th {\n",
       "        vertical-align: top;\n",
       "    }\n",
       "\n",
       "    .dataframe thead tr th {\n",
       "        text-align: left;\n",
       "    }\n",
       "\n",
       "    .dataframe thead tr:last-of-type th {\n",
       "        text-align: right;\n",
       "    }\n",
       "</style>\n",
       "<table border=\"1\" class=\"dataframe\">\n",
       "  <thead>\n",
       "    <tr>\n",
       "      <th>Occupation</th>\n",
       "      <th colspan=\"2\" halign=\"left\">emp</th>\n",
       "      <th colspan=\"2\" halign=\"left\">self</th>\n",
       "    </tr>\n",
       "    <tr>\n",
       "      <th>Residence</th>\n",
       "      <th>big</th>\n",
       "      <th>small</th>\n",
       "      <th>big</th>\n",
       "      <th>small</th>\n",
       "    </tr>\n",
       "    <tr>\n",
       "      <th>Transportation</th>\n",
       "      <th></th>\n",
       "      <th></th>\n",
       "      <th></th>\n",
       "      <th></th>\n",
       "    </tr>\n",
       "  </thead>\n",
       "  <tbody>\n",
       "    <tr>\n",
       "      <th>car</th>\n",
       "      <td>0.700730</td>\n",
       "      <td>0.517647</td>\n",
       "      <td>0.416667</td>\n",
       "      <td>0.50</td>\n",
       "    </tr>\n",
       "    <tr>\n",
       "      <th>other</th>\n",
       "      <td>0.136253</td>\n",
       "      <td>0.094118</td>\n",
       "      <td>0.333333</td>\n",
       "      <td>0.25</td>\n",
       "    </tr>\n",
       "    <tr>\n",
       "      <th>train</th>\n",
       "      <td>0.163017</td>\n",
       "      <td>0.388235</td>\n",
       "      <td>0.250000</td>\n",
       "      <td>0.25</td>\n",
       "    </tr>\n",
       "  </tbody>\n",
       "</table>\n",
       "</div>"
      ],
      "text/plain": [
       "Occupation           emp                self      \n",
       "Residence            big     small       big small\n",
       "Transportation                                    \n",
       "car             0.700730  0.517647  0.416667  0.50\n",
       "other           0.136253  0.094118  0.333333  0.25\n",
       "train           0.163017  0.388235  0.250000  0.25"
      ]
     },
     "execution_count": 6,
     "metadata": {},
     "output_type": "execute_result"
    }
   ],
   "source": [
    "from pgmpy.estimators import BayesianEstimator\n",
    "\n",
    "model.fit(\n",
    "    df.to_pandas(),\n",
    "    estimator=BayesianEstimator,\n",
    "    prior_type=\"dirichlet\",\n",
    "    pseudo_counts=1  # the parameters of the Dirichlet prior\n",
    ")\n",
    "\n",
    "causal_markov_kernels = model.get_cpds()  # extract causal markov kernels - conditional probability distributions\n",
    "cmk_T_bayesian = causal_markov_kernels[-1]  # We're after probability of Transportation type given Occupation and Residence\n",
    "cmk_T_bayesian.to_dataframe().T  # Again, this transpose view mirrors what you see in the book, but as a df rather than string"
   ]
  },
  {
   "cell_type": "code",
   "execution_count": 11,
   "id": "70880f33",
   "metadata": {},
   "outputs": [
    {
     "name": "stdout",
     "output_type": "stream",
     "text": [
      "Max Likelihood Estimation Approach\n",
      "Recall from page 83 that this is looking at proportions as they appear in the data\n",
      "Occupation           emp                self      \n",
      "Residence            big     small       big small\n",
      "Transportation                                    \n",
      "car             0.703431  0.524390  0.444444   1.0\n",
      "other           0.134804  0.085366  0.333333   0.0\n",
      "train           0.161765  0.390244  0.222222   0.0\n",
      "\n",
      "Bayesian Estimation Approach\n",
      "Recall from page 84 that this approach uses a prior distribution, which helps avoid extremes such as the MLE approach saying that all entrepreneurs in small cities use cars (rightmost column)\n",
      "Occupation           emp                self      \n",
      "Residence            big     small       big small\n",
      "Transportation                                    \n",
      "car             0.700730  0.517647  0.416667  0.50\n",
      "other           0.136253  0.094118  0.333333  0.25\n",
      "train           0.163017  0.388235  0.250000  0.25\n"
     ]
    }
   ],
   "source": [
    "# Bayesians and Frequentists can argue here\n",
    "\n",
    "print(\"Max Likelihood Estimation Approach\") \n",
    "print(\"Recall from page 83 that this is looking at proportions as they appear in the data\")\n",
    "print(cmk_T_max_likelihood.to_dataframe().T)\n",
    "print(\"\\nBayesian Estimation Approach\")\n",
    "print(\"Recall from page 84 that this approach uses a prior distribution, which helps avoid extremes such as the MLE approach saying that all entrepreneurs in small cities use cars (rightmost column)\")\n",
    "print(cmk_T_bayesian.to_dataframe().T)\n"
   ]
  },
  {
   "cell_type": "markdown",
   "id": "07296baf",
   "metadata": {},
   "source": [
    "### Other Techniques for Paramter Estimation\n",
    "\n",
    "Author reminds us that the DAG exists totally separate from the algorithms and methods we use to estimate the causal impact. So whether age is calculated in seconds or days, or whether we use a neural net or logistic regression to model our assumptions is separate from the DAG itself"
   ]
  },
  {
   "cell_type": "markdown",
   "id": "ec634e1e",
   "metadata": {},
   "source": [
    "### Latent Variables"
   ]
  },
  {
   "cell_type": "markdown",
   "id": "38cfbc8c",
   "metadata": {},
   "source": [
    "Remember that we are searching to understand a data generating process (DGP), not necessarily report on data. Data, then are clues and context about what the DGP may be. \n",
    "\n",
    "This means we have to give consideration to \"latent variables\" which are characteristics not directly observed in the data but inferrable from the data."
   ]
  },
  {
   "cell_type": "code",
   "execution_count": null,
   "id": "72a7a3c8",
   "metadata": {},
   "outputs": [],
   "source": [
    "from pgmpy.models import DiscreteBayesianNetwork\n",
    "from pgmpy.estimators import ExpectationMaximization as EM\n",
    "url = \"https://raw.githubusercontent.com/altdeep/causalML/master/datasets\"\n"
   ]
  },
  {
   "cell_type": "code",
   "execution_count": null,
   "id": "8d5eaadf",
   "metadata": {},
   "outputs": [],
   "source": []
  }
 ],
 "metadata": {
  "kernelspec": {
   "display_name": "causal-ai",
   "language": "python",
   "name": "python3"
  },
  "language_info": {
   "codemirror_mode": {
    "name": "ipython",
    "version": 3
   },
   "file_extension": ".py",
   "mimetype": "text/x-python",
   "name": "python",
   "nbconvert_exporter": "python",
   "pygments_lexer": "ipython3",
   "version": "3.12.0"
  }
 },
 "nbformat": 4,
 "nbformat_minor": 5
}
