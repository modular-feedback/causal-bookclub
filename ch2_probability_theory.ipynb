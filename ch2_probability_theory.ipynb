{
 "cells": [
  {
   "cell_type": "code",
   "execution_count": 1,
   "id": "12d30592",
   "metadata": {},
   "outputs": [
    {
     "name": "stdout",
     "output_type": "stream",
     "text": [
      "1.0.0\n"
     ]
    }
   ],
   "source": [
    "# Sin: I used a newer version of pgmpy than reflected in the book\n",
    "\n",
    "import pgmpy\n",
    "print(pgmpy.__version__)"
   ]
  },
  {
   "cell_type": "code",
   "execution_count": 2,
   "id": "c170e9e5",
   "metadata": {},
   "outputs": [
    {
     "name": "stdout",
     "output_type": "stream",
     "text": [
      "+------+----------+\n",
      "| X    |   phi(X) |\n",
      "+======+==========+\n",
      "| X(1) |   0.4500 |\n",
      "+------+----------+\n",
      "| X(2) |   0.3000 |\n",
      "+------+----------+\n",
      "| X(3) |   0.2500 |\n",
      "+------+----------+\n"
     ]
    }
   ],
   "source": [
    "from pgmpy.factors.discrete import DiscreteFactor\n",
    "dist = DiscreteFactor(\n",
    "    variables=[\"X\"],\n",
    "    cardinality=[3],\n",
    "    values=[.45, .30, .25],\n",
    "    state_names={\"X\": [\"1\", \"2\", \"3\"]}\n",
    ")\n",
    "print(dist)"
   ]
  },
  {
   "cell_type": "code",
   "execution_count": 3,
   "id": "1455e941",
   "metadata": {},
   "outputs": [
    {
     "name": "stdout",
     "output_type": "stream",
     "text": [
      "+------+------+------------+\n",
      "| X    | Y    |   phi(X,Y) |\n",
      "+======+======+============+\n",
      "| X(1) | Y(0) |     0.2500 |\n",
      "+------+------+------------+\n",
      "| X(1) | Y(1) |     0.2000 |\n",
      "+------+------+------------+\n",
      "| X(2) | Y(0) |     0.2000 |\n",
      "+------+------+------------+\n",
      "| X(2) | Y(1) |     0.1000 |\n",
      "+------+------+------------+\n",
      "| X(3) | Y(0) |     0.1500 |\n",
      "+------+------+------------+\n",
      "| X(3) | Y(1) |     0.1000 |\n",
      "+------+------+------------+\n"
     ]
    }
   ],
   "source": [
    "joint = DiscreteFactor(\n",
    "    variables=[\"X\", \"Y\"],\n",
    "    cardinality=[3, 2],\n",
    "    values=[.25, .2, .2, .1, .15, .1],\n",
    "    state_names={\n",
    "        \"X\": [\"1\", \"2\", \"3\"],\n",
    "        \"Y\": [\"0\", \"1\"]\n",
    "    }\n",
    ")\n",
    "print(joint)"
   ]
  },
  {
   "cell_type": "code",
   "execution_count": 4,
   "id": "0fa0d616",
   "metadata": {},
   "outputs": [
    {
     "name": "stdout",
     "output_type": "stream",
     "text": [
      "+------+----------+\n",
      "| X    |   phi(X) |\n",
      "+======+==========+\n",
      "| X(1) |   0.4500 |\n",
      "+------+----------+\n",
      "| X(2) |   0.3000 |\n",
      "+------+----------+\n",
      "| X(3) |   0.2500 |\n",
      "+------+----------+\n"
     ]
    }
   ],
   "source": [
    "# Summing over or \"marginalizing\" returns the original distribution from Cell 1\n",
    "print(joint.marginalize(variables=[\"Y\"], inplace=False))"
   ]
  },
  {
   "cell_type": "code",
   "execution_count": 5,
   "id": "6b4b407c",
   "metadata": {},
   "outputs": [
    {
     "name": "stdout",
     "output_type": "stream",
     "text": [
      "+------+----------+\n",
      "| Y    |   phi(Y) |\n",
      "+======+==========+\n",
      "| Y(0) |   0.6000 |\n",
      "+------+----------+\n",
      "| Y(1) |   0.4000 |\n",
      "+------+----------+\n"
     ]
    }
   ],
   "source": [
    "# Marginalizing over X gives us the marginal distribution of Y\n",
    "print(joint.marginalize(variables=[\"X\"], inplace=False))"
   ]
  },
  {
   "cell_type": "code",
   "execution_count": 6,
   "id": "6c32790f",
   "metadata": {},
   "outputs": [
    {
     "name": "stdout",
     "output_type": "stream",
     "text": [
      "+------+------+------------+\n",
      "| X    | Y    |   phi(X,Y) |\n",
      "+======+======+============+\n",
      "| X(1) | Y(0) |     0.5556 |\n",
      "+------+------+------------+\n",
      "| X(1) | Y(1) |     0.4444 |\n",
      "+------+------+------------+\n",
      "| X(2) | Y(0) |     0.6667 |\n",
      "+------+------+------------+\n",
      "| X(2) | Y(1) |     0.3333 |\n",
      "+------+------+------------+\n",
      "| X(3) | Y(0) |     0.6000 |\n",
      "+------+------+------------+\n",
      "| X(3) | Y(1) |     0.4000 |\n",
      "+------+------+------------+\n"
     ]
    }
   ],
   "source": [
    "# Using the joint distribution and the distribution of X, we can derive the conditional probability of Y given X\n",
    "print(joint/dist)"
   ]
  },
  {
   "cell_type": "code",
   "execution_count": 7,
   "id": "aeebc2b4",
   "metadata": {},
   "outputs": [
    {
     "name": "stdout",
     "output_type": "stream",
     "text": [
      "+------+--------------------+---------------------+------+\n",
      "| X    | X(1)               | X(2)                | X(3) |\n",
      "+------+--------------------+---------------------+------+\n",
      "| Y(0) | 0.5555555555555556 | 0.6666666666666667  | 0.6  |\n",
      "+------+--------------------+---------------------+------+\n",
      "| Y(1) | 0.4444444444444445 | 0.33333333333333337 | 0.4  |\n",
      "+------+--------------------+---------------------+------+\n"
     ]
    }
   ],
   "source": [
    "from pgmpy.factors.discrete.CPD import TabularCPD\n",
    "\n",
    "# Single variable conditioinal distribution table\n",
    "PYgivenX = TabularCPD(\n",
    "    variable=\"Y\",\n",
    "    variable_card=2,\n",
    "    values=[\n",
    "        [.25/.45, .20/.30, .15/.25],\n",
    "        [.20/.45, .10/.30, .10/.25]\n",
    "    ],\n",
    "    evidence=[\"X\"],\n",
    "    evidence_card=[3],\n",
    "    state_names={\n",
    "        \"X\": [\"1\", \"2\", \"3\"],\n",
    "        \"Y\": [\"0\", \"1\"]\n",
    "    }\n",
    ")\n",
    "print(PYgivenX)"
   ]
  },
  {
   "cell_type": "markdown",
   "id": "e22b1d17",
   "metadata": {},
   "source": [
    "Markovian assumption, that the value in one node is determined only by the value of the node directly before it, will play heavily in the models we study."
   ]
  },
  {
   "cell_type": "markdown",
   "id": "960cc920",
   "metadata": {},
   "source": [
    "## Canonical Parameters in Pyro Example"
   ]
  },
  {
   "cell_type": "code",
   "execution_count": 8,
   "id": "8d9a0b94",
   "metadata": {},
   "outputs": [
    {
     "name": "stdout",
     "output_type": "stream",
     "text": [
      "Categorical(probs: torch.Size([3]))\n",
      "Normal(loc: 0.0, scale: 1.0)\n",
      "Bernoulli(probs: 0.4000000059604645)\n",
      "Gamma(concentration: 1.0, rate: 2.0)\n"
     ]
    },
    {
     "name": "stderr",
     "output_type": "stream",
     "text": [
      "/Users/hemphillmc/ds_playground/.venv/lib/python3.12/site-packages/tqdm/auto.py:21: TqdmWarning: IProgress not found. Please update jupyter and ipywidgets. See https://ipywidgets.readthedocs.io/en/stable/user_install.html\n",
      "  from .autonotebook import tqdm as notebook_tqdm\n"
     ]
    }
   ],
   "source": [
    "import torch\n",
    "from pyro.distributions import Bernoulli, Categorical, Gamma, Normal\n",
    "\n",
    "print(Categorical(probs=torch.tensor([.45, .30, .25])))\n",
    "print(Normal(loc=0.0, scale=1.0))\n",
    "print(Bernoulli(probs=0.4))\n",
    "print(Gamma(concentration=1.0, rate=2.0))"
   ]
  },
  {
   "cell_type": "code",
   "execution_count": 9,
   "id": "6a0eabfb",
   "metadata": {},
   "outputs": [
    {
     "data": {
      "text/plain": [
       "Bernoulli(probs: 0.4000000059604645)"
      ]
     },
     "execution_count": 9,
     "metadata": {},
     "output_type": "execute_result"
    }
   ],
   "source": [
    "bern = Bernoulli(probs=0.4)\n",
    "bern"
   ]
  },
  {
   "cell_type": "code",
   "execution_count": 10,
   "id": "c7a36480",
   "metadata": {},
   "outputs": [
    {
     "data": {
      "text/plain": [
       "tensor(-0.9163)"
      ]
     },
     "execution_count": 10,
     "metadata": {},
     "output_type": "execute_result"
    }
   ],
   "source": [
    "# Note that we typically work with log probabilities for computational advantages, but can switch back\n",
    "# to normal probabilities with the .exp() method\n",
    "\n",
    "lprob = bern.log_prob(torch.tensor(1.0))\n",
    "lprob"
   ]
  },
  {
   "cell_type": "code",
   "execution_count": 11,
   "id": "c044f3cf",
   "metadata": {},
   "outputs": [
    {
     "name": "stdout",
     "output_type": "stream",
     "text": [
      "0.40000001257540685\n"
     ]
    }
   ],
   "source": [
    "import math\n",
    "print(math.exp(lprob))"
   ]
  },
  {
   "cell_type": "markdown",
   "id": "ae6e33bd",
   "metadata": {},
   "source": [
    "There is a massive, complexity reducing power to finding which variables in a distribution are independent of each other\n",
    "\n",
    "The book outlines independence and conditional indepence\n",
    "\n",
    "For building classifiers and other ML models, it would seem that understanding conditional depencence between groupings of variables and outcomes could help decide which variables to drop out to drive towards more efficient performance\n",
    "\n",
    "Blood type example on page 38 gives a concrete visual\n",
    "\n",
    "Chain Rule:\n",
    "\n",
    "P(A, B) = P(A) * P(B|A)\n",
    "\n",
    "P(A, B, C) = P(A) * P(B|A) * P(C|A,B)"
   ]
  },
  {
   "cell_type": "markdown",
   "id": "03a67538",
   "metadata": {},
   "source": [
    "## 2.2 Computational Probability"
   ]
  },
  {
   "cell_type": "markdown",
   "id": "877d24df",
   "metadata": {},
   "source": [
    " How do we get deterministic machines to represent random processes?"
   ]
  },
  {
   "cell_type": "code",
   "execution_count": 12,
   "id": "95870b18",
   "metadata": {},
   "outputs": [
    {
     "data": {
      "application/vnd.microsoft.datawrangler.viewer.v0+json": {
       "columns": [
        {
         "name": "index",
         "rawType": "int64",
         "type": "integer"
        },
        {
         "name": "Accepting Patients",
         "rawType": "object",
         "type": "string"
        }
       ],
       "ref": "87dfe557-3709-4783-bbd0-fe22fce12e1b",
       "rows": [
        [
         "0",
         "Yes"
        ],
        [
         "1",
         "Yes"
        ],
        [
         "2",
         "Yes"
        ],
        [
         "3",
         "Yes"
        ],
        [
         "4",
         "Yes"
        ],
        [
         "5",
         "Yes"
        ],
        [
         "6",
         "Yes"
        ],
        [
         "7",
         "Yes"
        ],
        [
         "8",
         "Yes"
        ],
        [
         "9",
         "Yes"
        ]
       ],
       "shape": {
        "columns": 1,
        "rows": 10
       }
      },
      "text/html": [
       "<div>\n",
       "<style scoped>\n",
       "    .dataframe tbody tr th:only-of-type {\n",
       "        vertical-align: middle;\n",
       "    }\n",
       "\n",
       "    .dataframe tbody tr th {\n",
       "        vertical-align: top;\n",
       "    }\n",
       "\n",
       "    .dataframe thead th {\n",
       "        text-align: right;\n",
       "    }\n",
       "</style>\n",
       "<table border=\"1\" class=\"dataframe\">\n",
       "  <thead>\n",
       "    <tr style=\"text-align: right;\">\n",
       "      <th></th>\n",
       "      <th>Accepting Patients</th>\n",
       "    </tr>\n",
       "  </thead>\n",
       "  <tbody>\n",
       "    <tr>\n",
       "      <th>0</th>\n",
       "      <td>Yes</td>\n",
       "    </tr>\n",
       "    <tr>\n",
       "      <th>1</th>\n",
       "      <td>Yes</td>\n",
       "    </tr>\n",
       "    <tr>\n",
       "      <th>2</th>\n",
       "      <td>Yes</td>\n",
       "    </tr>\n",
       "    <tr>\n",
       "      <th>3</th>\n",
       "      <td>Yes</td>\n",
       "    </tr>\n",
       "    <tr>\n",
       "      <th>4</th>\n",
       "      <td>Yes</td>\n",
       "    </tr>\n",
       "    <tr>\n",
       "      <th>5</th>\n",
       "      <td>Yes</td>\n",
       "    </tr>\n",
       "    <tr>\n",
       "      <th>6</th>\n",
       "      <td>Yes</td>\n",
       "    </tr>\n",
       "    <tr>\n",
       "      <th>7</th>\n",
       "      <td>Yes</td>\n",
       "    </tr>\n",
       "    <tr>\n",
       "      <th>8</th>\n",
       "      <td>Yes</td>\n",
       "    </tr>\n",
       "    <tr>\n",
       "      <th>9</th>\n",
       "      <td>Yes</td>\n",
       "    </tr>\n",
       "  </tbody>\n",
       "</table>\n",
       "</div>"
      ],
      "text/plain": [
       "  Accepting Patients\n",
       "0                Yes\n",
       "1                Yes\n",
       "2                Yes\n",
       "3                Yes\n",
       "4                Yes\n",
       "5                Yes\n",
       "6                Yes\n",
       "7                Yes\n",
       "8                Yes\n",
       "9                Yes"
      ]
     },
     "execution_count": 12,
     "metadata": {},
     "output_type": "execute_result"
    }
   ],
   "source": [
    "# Simulating random variates in pgmpy\n",
    "\n",
    "from pgmpy.factors.discrete import DiscreteFactor\n",
    "dist = DiscreteFactor(\n",
    "    variables=[\"Accepting Patients\"],\n",
    "    cardinality=[3],\n",
    "    values=[.9, .05, .05],\n",
    "    state_names={\"Accepting Patients\": [\"Yes\", \"No\", \"Existing Roster Only\"]}\n",
    ")\n",
    "\n",
    "dist.sample(n=10)"
   ]
  },
  {
   "cell_type": "code",
   "execution_count": null,
   "id": "d78f55f4",
   "metadata": {},
   "outputs": [
    {
     "name": "stdout",
     "output_type": "stream",
     "text": [
      "+------------------------------------------+-------------+----------------------------------+\n",
      "| Accepting Patients                       | Is PCP      |   phi(Accepting Patients,Is PCP) |\n",
      "+==========================================+=============+==================================+\n",
      "| Accepting Patients(Yes)                  | Is PCP(Yes) |                           0.2500 |\n",
      "+------------------------------------------+-------------+----------------------------------+\n",
      "| Accepting Patients(Yes)                  | Is PCP(No)  |                           0.2000 |\n",
      "+------------------------------------------+-------------+----------------------------------+\n",
      "| Accepting Patients(No)                   | Is PCP(Yes) |                           0.2000 |\n",
      "+------------------------------------------+-------------+----------------------------------+\n",
      "| Accepting Patients(No)                   | Is PCP(No)  |                           0.1000 |\n",
      "+------------------------------------------+-------------+----------------------------------+\n",
      "| Accepting Patients(Existing Roster Only) | Is PCP(Yes) |                           0.1500 |\n",
      "+------------------------------------------+-------------+----------------------------------+\n",
      "| Accepting Patients(Existing Roster Only) | Is PCP(No)  |                           0.1000 |\n",
      "+------------------------------------------+-------------+----------------------------------+\n",
      "     Accepting Patients Is PCP\n",
      "0                   Yes    Yes\n",
      "1                   Yes    Yes\n",
      "2                   Yes    Yes\n",
      "3                   Yes    Yes\n",
      "4  Existing Roster Only    Yes\n",
      "5                   Yes     No\n",
      "6                    No     No\n",
      "7                   Yes     No\n",
      "8                    No    Yes\n",
      "9                   Yes    Yes\n"
     ]
    }
   ],
   "source": [
    "joint = DiscreteFactor(\n",
    "    variables=[\"Accepting Patients\", \"Is PCP\"],\n",
    "    cardinality=[3, 2],\n",
    "    values=[.25, .2, .2, .1, .15, .1],\n",
    "    state_names={\n",
    "        \"Accepting Patients\": [\"Yes\", \"No\", \"Existing Roster Only\"],\n",
    "        \"Is PCP\": [\"Yes\", \"No\"]e\n",
    "    }\n",
    ")\n",
    "print(joint) \n",
    "print(joint.sample(n=10))"
   ]
  },
  {
   "cell_type": "code",
   "execution_count": 14,
   "id": "4f39c830",
   "metadata": {},
   "outputs": [
    {
     "data": {
      "text/plain": [
       "tensor(1)"
      ]
     },
     "execution_count": 14,
     "metadata": {},
     "output_type": "execute_result"
    }
   ],
   "source": [
    "# Pyro has sampling method as well\n",
    "from pyro.distributions import Categorical\n",
    "Categorical(probs=torch.tensor([.45, .3, .25])).sample()"
   ]
  },
  {
   "cell_type": "code",
   "execution_count": 15,
   "id": "58219ae2",
   "metadata": {},
   "outputs": [],
   "source": [
    "# Creating random processes in pgmpy and pyro\n",
    "\n",
    "from pgmpy.factors.discrete.CPD import TabularCPD\n",
    "from pgmpy.models import DiscreteBayesianNetwork\n",
    "from pgmpy.sampling import BayesianModelSampling\n",
    "\n",
    "PZ = TabularCPD(\n",
    "    variable='Z',\n",
    "    variable_card=2,\n",
    "    values=[[.65], [.35]],\n",
    "    state_names = {\n",
    "        'Z': ['0', '1']\n",
    "    }\n",
    ")\n",
    "\n",
    "PXgivenZ = TabularCPD(\n",
    "    variable='X',\n",
    "    variable_card=2,\n",
    "    values=[\n",
    "        [.8, .6],\n",
    "        [.2, .4]\n",
    "    ],\n",
    "    evidence=['Z'],\n",
    "    evidence_card=[2],\n",
    "    state_names = {\n",
    "        'X': ['0', '1'],\n",
    "        'Z': ['0', '1']\n",
    "    }\n",
    ")\n",
    "\n",
    "PYgivenX = TabularCPD(\n",
    "    variable='Y',\n",
    "    variable_card=3,\n",
    "    values=[\n",
    "        [.1, .8],\n",
    "        [.2, .1],\n",
    "        [.7, .1]\n",
    "    ],\n",
    "    evidence=['X'],\n",
    "    evidence_card=[2],\n",
    "    state_names = {\n",
    "        'Y': ['0', '1', '2'],\n",
    "        'X': ['0', '1']\n",
    "    }\n",
    ")"
   ]
  },
  {
   "cell_type": "code",
   "execution_count": 16,
   "id": "b2a97b67",
   "metadata": {},
   "outputs": [
    {
     "name": "stderr",
     "output_type": "stream",
     "text": [
      "Generating for node: Y: 100%|██████████| 3/3 [00:00<00:00, 142.95it/s]\n"
     ]
    },
    {
     "data": {
      "application/vnd.microsoft.datawrangler.viewer.v0+json": {
       "columns": [
        {
         "name": "index",
         "rawType": "int64",
         "type": "integer"
        },
        {
         "name": "Z",
         "rawType": "object",
         "type": "string"
        },
        {
         "name": "X",
         "rawType": "object",
         "type": "string"
        },
        {
         "name": "Y",
         "rawType": "object",
         "type": "string"
        }
       ],
       "ref": "ab5478a8-3be2-46c8-804c-b818eeaba8ca",
       "rows": [
        [
         "0",
         "1",
         "0",
         "2"
        ],
        [
         "1",
         "0",
         "0",
         "2"
        ],
        [
         "2",
         "1",
         "1",
         "0"
        ],
        [
         "3",
         "0",
         "0",
         "1"
        ],
        [
         "4",
         "1",
         "1",
         "2"
        ],
        [
         "5",
         "0",
         "0",
         "0"
        ],
        [
         "6",
         "0",
         "0",
         "2"
        ],
        [
         "7",
         "1",
         "1",
         "0"
        ],
        [
         "8",
         "0",
         "1",
         "0"
        ],
        [
         "9",
         "0",
         "0",
         "2"
        ]
       ],
       "shape": {
        "columns": 3,
        "rows": 10
       }
      },
      "text/html": [
       "<div>\n",
       "<style scoped>\n",
       "    .dataframe tbody tr th:only-of-type {\n",
       "        vertical-align: middle;\n",
       "    }\n",
       "\n",
       "    .dataframe tbody tr th {\n",
       "        vertical-align: top;\n",
       "    }\n",
       "\n",
       "    .dataframe thead th {\n",
       "        text-align: right;\n",
       "    }\n",
       "</style>\n",
       "<table border=\"1\" class=\"dataframe\">\n",
       "  <thead>\n",
       "    <tr style=\"text-align: right;\">\n",
       "      <th></th>\n",
       "      <th>Z</th>\n",
       "      <th>X</th>\n",
       "      <th>Y</th>\n",
       "    </tr>\n",
       "  </thead>\n",
       "  <tbody>\n",
       "    <tr>\n",
       "      <th>0</th>\n",
       "      <td>1</td>\n",
       "      <td>0</td>\n",
       "      <td>2</td>\n",
       "    </tr>\n",
       "    <tr>\n",
       "      <th>1</th>\n",
       "      <td>0</td>\n",
       "      <td>0</td>\n",
       "      <td>2</td>\n",
       "    </tr>\n",
       "    <tr>\n",
       "      <th>2</th>\n",
       "      <td>1</td>\n",
       "      <td>1</td>\n",
       "      <td>0</td>\n",
       "    </tr>\n",
       "    <tr>\n",
       "      <th>3</th>\n",
       "      <td>0</td>\n",
       "      <td>0</td>\n",
       "      <td>1</td>\n",
       "    </tr>\n",
       "    <tr>\n",
       "      <th>4</th>\n",
       "      <td>1</td>\n",
       "      <td>1</td>\n",
       "      <td>2</td>\n",
       "    </tr>\n",
       "    <tr>\n",
       "      <th>5</th>\n",
       "      <td>0</td>\n",
       "      <td>0</td>\n",
       "      <td>0</td>\n",
       "    </tr>\n",
       "    <tr>\n",
       "      <th>6</th>\n",
       "      <td>0</td>\n",
       "      <td>0</td>\n",
       "      <td>2</td>\n",
       "    </tr>\n",
       "    <tr>\n",
       "      <th>7</th>\n",
       "      <td>1</td>\n",
       "      <td>1</td>\n",
       "      <td>0</td>\n",
       "    </tr>\n",
       "    <tr>\n",
       "      <th>8</th>\n",
       "      <td>0</td>\n",
       "      <td>1</td>\n",
       "      <td>0</td>\n",
       "    </tr>\n",
       "    <tr>\n",
       "      <th>9</th>\n",
       "      <td>0</td>\n",
       "      <td>0</td>\n",
       "      <td>2</td>\n",
       "    </tr>\n",
       "  </tbody>\n",
       "</table>\n",
       "</div>"
      ],
      "text/plain": [
       "   Z  X  Y\n",
       "0  1  0  2\n",
       "1  0  0  2\n",
       "2  1  1  0\n",
       "3  0  0  1\n",
       "4  1  1  2\n",
       "5  0  0  0\n",
       "6  0  0  2\n",
       "7  1  1  0\n",
       "8  0  1  0\n",
       "9  0  0  2"
      ]
     },
     "execution_count": 16,
     "metadata": {},
     "output_type": "execute_result"
    }
   ],
   "source": [
    "model = DiscreteBayesianNetwork([('Z', 'X'), ('X', 'Y')])\n",
    "model.add_cpds(PZ, PXgivenZ, PYgivenX)\n",
    "\n",
    "generator = BayesianModelSampling(model)\n",
    "generator.forward_sample(size=10)"
   ]
  },
  {
   "cell_type": "markdown",
   "id": "3ce377b6",
   "metadata": {},
   "source": [
    "### 2.2.6 - Working with combinations of canonical distributions in Pyro"
   ]
  },
  {
   "cell_type": "code",
   "execution_count": 17,
   "id": "4366d84e",
   "metadata": {},
   "outputs": [],
   "source": [
    "# Same probability relationship as above p(x, y, z), but different distributions underlying\n",
    "\n",
    "import torch\n",
    "from pyro.distributions import Bernoulli, Poisson, Gamma"
   ]
  },
  {
   "cell_type": "code",
   "execution_count": 18,
   "id": "3a6ecfa9",
   "metadata": {},
   "outputs": [
    {
     "name": "stdout",
     "output_type": "stream",
     "text": [
      "tensor(3.5507) tensor(4.) tensor(1.)\n"
     ]
    }
   ],
   "source": [
    "z = Gamma(7.5, 1.0).sample()\n",
    "x = Poisson(z).sample()\n",
    "y = Bernoulli(x / (5 + x)).sample()\n",
    "\n",
    "print(z, x, y)"
   ]
  },
  {
   "cell_type": "code",
   "execution_count": 19,
   "id": "df4ca6a4",
   "metadata": {},
   "outputs": [
    {
     "name": "stdout",
     "output_type": "stream",
     "text": [
      "Bean Score: 16.011577606201172, Customer Count: 17.0, Croissants Sold: 1.0\n"
     ]
    }
   ],
   "source": [
    "# Coffee Shop Simulation\n",
    "bean_quality = Gamma(10.5, 1.0).sample()\n",
    "customer_count = Poisson(bean_quality).sample()\n",
    "croissants_sold = Bernoulli(customer_count / (5 + customer_count)).sample()\n",
    "print(f\"Bean Score: {bean_quality}, Customer Count: {customer_count}, Croissants Sold: {croissants_sold}\")"
   ]
  },
  {
   "cell_type": "markdown",
   "id": "24d6c71b",
   "metadata": {},
   "source": [
    "### 2.2.7 - Random Processes with nuanced control flow in Pyro"
   ]
  },
  {
   "cell_type": "code",
   "execution_count": 20,
   "id": "5474413b",
   "metadata": {},
   "outputs": [
    {
     "name": "stdout",
     "output_type": "stream",
     "text": [
      "Bean Score: 7.9351420402526855, Customers: 6.0, Scones Sold: 3.0\n"
     ]
    }
   ],
   "source": [
    "import torch\n",
    "from pyro.distributions import Bernoulli, Poisson, Gamma\n",
    "\n",
    "bean_quality = Gamma(7.5, 1.0).sample()\n",
    "customers = Poisson(bean_quality).sample()\n",
    "scones_sold = torch.tensor(0.0)\n",
    "\n",
    "for i in range(int(customers)):\n",
    "    scones_sold += Bernoulli(.5).sample()  # Control flow implementation\n",
    "\n",
    "print(f\"Bean Score: {bean_quality}, Customers: {customers}, Scones Sold: {scones_sold}\")"
   ]
  },
  {
   "cell_type": "markdown",
   "id": "211be5df",
   "metadata": {},
   "source": [
    "### Functions for Random Processes"
   ]
  },
  {
   "cell_type": "code",
   "execution_count": 21,
   "id": "157a5619",
   "metadata": {},
   "outputs": [],
   "source": [
    "import torch\n",
    "import pyro\n",
    "\n",
    "def random_process():\n",
    "    z = pyro.sample(\"z\", Gamma(7.5, 1.0))\n",
    "    x = pyro.sample(\"x\", Poisson(z))\n",
    "    y = torch.tensor(0.0)\n",
    "\n",
    "    for i in range(int(x)):\n",
    "        y += pyro.sample(f\"y{i}\", Bernoulli(.5))\n",
    "    \n",
    "    return y"
   ]
  },
  {
   "cell_type": "code",
   "execution_count": 22,
   "id": "08e7cb09",
   "metadata": {},
   "outputs": [
    {
     "data": {
      "text/plain": [
       "tensor(5.)"
      ]
     },
     "execution_count": 22,
     "metadata": {},
     "output_type": "execute_result"
    }
   ],
   "source": [
    "random_process()"
   ]
  },
  {
   "cell_type": "code",
   "execution_count": 23,
   "id": "ab7fbe64",
   "metadata": {},
   "outputs": [
    {
     "data": {
      "text/plain": [
       "tensor(3.7000)"
      ]
     },
     "execution_count": 23,
     "metadata": {},
     "output_type": "execute_result"
    }
   ],
   "source": [
    "generated_samples = torch.stack([random_process() for _ in range(100)])\n",
    "generated_samples.mean()"
   ]
  },
  {
   "cell_type": "code",
   "execution_count": 24,
   "id": "5fbd2d62",
   "metadata": {},
   "outputs": [
    {
     "data": {
      "text/plain": [
       "tensor(18.4600)"
      ]
     },
     "execution_count": 24,
     "metadata": {},
     "output_type": "execute_result"
    }
   ],
   "source": [
    "torch.square(generated_samples).mean()"
   ]
  },
  {
   "cell_type": "code",
   "execution_count": 25,
   "id": "e2ef4c91",
   "metadata": {},
   "outputs": [
    {
     "data": {
      "text/plain": [
       "tensor([ 1.,  6.,  6.,  3.,  3.,  4.,  1.,  6.,  4.,  8.,  3.,  3.,  4.,  3.,\n",
       "         3.,  2.,  2.,  1.,  1.,  5.,  2.,  4.,  4.,  1.,  9.,  5.,  1.,  0.,\n",
       "         5.,  5.,  5.,  3.,  5.,  2.,  4.,  5.,  1.,  3.,  1.,  3.,  6., 12.,\n",
       "         4.,  3.,  5.,  8.,  6.,  7.,  1.,  4.,  5.,  0.,  6.,  4.,  2.,  4.,\n",
       "         6.,  5.,  0.,  4.,  2.,  4.,  3.,  4.,  3.,  4.,  2.,  7.,  4.,  5.,\n",
       "         3.,  7.,  3.,  3.,  2.,  0.,  0.,  3.,  4.,  2.,  6.,  2.,  4.,  3.,\n",
       "         6.,  3.,  1.,  4.,  3.,  0.,  5.,  4.,  3.,  3.,  3.,  5.,  4.,  2.,\n",
       "         5., 10.])"
      ]
     },
     "execution_count": 25,
     "metadata": {},
     "output_type": "execute_result"
    }
   ],
   "source": [
    "generated_samples"
   ]
  },
  {
   "cell_type": "markdown",
   "id": "b525729b",
   "metadata": {},
   "source": [
    "## 2.2.9 Monte Carlo Estimation in Python\n",
    "Code example here explores estimating \"Bean Quality\" given a certain number of scone sales.  By filtering for a certain number of scone sales, we're able to estimate the bean quality given that amount"
   ]
  },
  {
   "cell_type": "code",
   "execution_count": 27,
   "id": "e92bda9a",
   "metadata": {},
   "outputs": [],
   "source": [
    "import torch\n",
    "import pyro\n",
    "from pyro.distributions import Bernoulli, Gamma, Poisson"
   ]
  },
  {
   "cell_type": "code",
   "execution_count": null,
   "id": "dfa01583",
   "metadata": {},
   "outputs": [],
   "source": [
    "def random_process():\n",
    "    z = pyro.sample(\"z\", Gamma(7.5, 1.0))  # webinar quality\n",
    "    x = pyro.sample(\"x\", Poisson(z))  # potential customers\n",
    "    y = torch.tensor(0.0)\n",
    "\n",
    "    for i in range(int(x)):\n",
    "        y += pyro.sample(f\"{i}\", Bernoulli(.04))  # scones sold\n",
    "    \n",
    "    return z, y  # now returning both z (bean quality) and y (scones sold)"
   ]
  },
  {
   "cell_type": "code",
   "execution_count": 31,
   "id": "44625f7f",
   "metadata": {},
   "outputs": [
    {
     "data": {
      "text/plain": [
       "tensor(7.4298)"
      ]
     },
     "execution_count": 31,
     "metadata": {},
     "output_type": "execute_result"
    }
   ],
   "source": [
    "generated_samples = [random_process() for _ in range(1000)]\n",
    "z_frame = torch.stack([z for z, _ in generated_samples])\n",
    "z_frame.mean()"
   ]
  },
  {
   "cell_type": "code",
   "execution_count": 33,
   "id": "62ec6370",
   "metadata": {},
   "outputs": [
    {
     "name": "stdout",
     "output_type": "stream",
     "text": [
      "tensor(7.2177)\n"
     ]
    }
   ],
   "source": [
    "z_given_y = torch.stack([z for z, y in generated_samples if y == 3])\n",
    "print(z_given_y.mean())"
   ]
  },
  {
   "cell_type": "markdown",
   "id": "e00b5ee6",
   "metadata": {},
   "source": [
    "### \"Formal\" method definitions - \n",
    "\n",
    " - <u>variable elimination</u>: summing over columns or rows of a probability table such that the resulting table represents a target distribution\n",
    " - <u>belief propogation</u>: passing a value back and forth between \"neighborhoods\" of values, sampling the results, and observing for convergence\n",
    " - <u>Variational Inference</u>: Approximating a distribution to represent a target distribution, but using gradient descent methods common deep learning. This is a core feature of Pyro\n",
    " - <u>mcmc</u> approaches produce chains of outcomes defined by parameters and eventually converge on declared distributions"
   ]
  },
  {
   "cell_type": "markdown",
   "id": "0757f056",
   "metadata": {},
   "source": [
    "## Data, Populations, Statistics, & Models"
   ]
  },
  {
   "cell_type": "code",
   "execution_count": null,
   "id": "9458529e",
   "metadata": {},
   "outputs": [],
   "source": []
  },
  {
   "cell_type": "markdown",
   "id": "2c451016",
   "metadata": {},
   "source": [
    " - Opens the section by talking about interventions and how their impact on a given population may vary"
   ]
  },
  {
   "cell_type": "markdown",
   "id": "3c0ac6a6",
   "metadata": {},
   "source": [
    "Generating IID Samples"
   ]
  },
  {
   "cell_type": "code",
   "execution_count": null,
   "id": "57da470c",
   "metadata": {},
   "outputs": [
    {
     "name": "stderr",
     "output_type": "stream",
     "text": [
      "Generating for node: Y: 100%|██████████| 3/3 [00:00<00:00, 1334.49it/s]\n"
     ]
    },
    {
     "data": {
      "application/vnd.microsoft.datawrangler.viewer.v0+json": {
       "columns": [
        {
         "name": "index",
         "rawType": "int64",
         "type": "integer"
        },
        {
         "name": "Z",
         "rawType": "object",
         "type": "string"
        },
        {
         "name": "X",
         "rawType": "object",
         "type": "string"
        },
        {
         "name": "Y",
         "rawType": "object",
         "type": "string"
        }
       ],
       "ref": "d75e5d5e-74be-4f34-b0ee-5b1d13878783",
       "rows": [
        [
         "0",
         "0",
         "1",
         "2"
        ],
        [
         "1",
         "0",
         "0",
         "2"
        ],
        [
         "2",
         "0",
         "0",
         "0"
        ],
        [
         "3",
         "1",
         "0",
         "0"
        ],
        [
         "4",
         "0",
         "0",
         "2"
        ],
        [
         "5",
         "0",
         "1",
         "0"
        ],
        [
         "6",
         "1",
         "1",
         "0"
        ],
        [
         "7",
         "0",
         "0",
         "2"
        ],
        [
         "8",
         "1",
         "1",
         "1"
        ],
        [
         "9",
         "0",
         "0",
         "2"
        ]
       ],
       "shape": {
        "columns": 3,
        "rows": 10
       }
      },
      "text/html": [
       "<div>\n",
       "<style scoped>\n",
       "    .dataframe tbody tr th:only-of-type {\n",
       "        vertical-align: middle;\n",
       "    }\n",
       "\n",
       "    .dataframe tbody tr th {\n",
       "        vertical-align: top;\n",
       "    }\n",
       "\n",
       "    .dataframe thead th {\n",
       "        text-align: right;\n",
       "    }\n",
       "</style>\n",
       "<table border=\"1\" class=\"dataframe\">\n",
       "  <thead>\n",
       "    <tr style=\"text-align: right;\">\n",
       "      <th></th>\n",
       "      <th>Z</th>\n",
       "      <th>X</th>\n",
       "      <th>Y</th>\n",
       "    </tr>\n",
       "  </thead>\n",
       "  <tbody>\n",
       "    <tr>\n",
       "      <th>0</th>\n",
       "      <td>0</td>\n",
       "      <td>1</td>\n",
       "      <td>2</td>\n",
       "    </tr>\n",
       "    <tr>\n",
       "      <th>1</th>\n",
       "      <td>0</td>\n",
       "      <td>0</td>\n",
       "      <td>2</td>\n",
       "    </tr>\n",
       "    <tr>\n",
       "      <th>2</th>\n",
       "      <td>0</td>\n",
       "      <td>0</td>\n",
       "      <td>0</td>\n",
       "    </tr>\n",
       "    <tr>\n",
       "      <th>3</th>\n",
       "      <td>1</td>\n",
       "      <td>0</td>\n",
       "      <td>0</td>\n",
       "    </tr>\n",
       "    <tr>\n",
       "      <th>4</th>\n",
       "      <td>0</td>\n",
       "      <td>0</td>\n",
       "      <td>2</td>\n",
       "    </tr>\n",
       "    <tr>\n",
       "      <th>5</th>\n",
       "      <td>0</td>\n",
       "      <td>1</td>\n",
       "      <td>0</td>\n",
       "    </tr>\n",
       "    <tr>\n",
       "      <th>6</th>\n",
       "      <td>1</td>\n",
       "      <td>1</td>\n",
       "      <td>0</td>\n",
       "    </tr>\n",
       "    <tr>\n",
       "      <th>7</th>\n",
       "      <td>0</td>\n",
       "      <td>0</td>\n",
       "      <td>2</td>\n",
       "    </tr>\n",
       "    <tr>\n",
       "      <th>8</th>\n",
       "      <td>1</td>\n",
       "      <td>1</td>\n",
       "      <td>1</td>\n",
       "    </tr>\n",
       "    <tr>\n",
       "      <th>9</th>\n",
       "      <td>0</td>\n",
       "      <td>0</td>\n",
       "      <td>2</td>\n",
       "    </tr>\n",
       "  </tbody>\n",
       "</table>\n",
       "</div>"
      ],
      "text/plain": [
       "   Z  X  Y\n",
       "0  0  1  2\n",
       "1  0  0  2\n",
       "2  0  0  0\n",
       "3  1  0  0\n",
       "4  0  0  2\n",
       "5  0  1  0\n",
       "6  1  1  0\n",
       "7  0  0  2\n",
       "8  1  1  1\n",
       "9  0  0  2"
      ]
     },
     "execution_count": 34,
     "metadata": {},
     "output_type": "execute_result"
    }
   ],
   "source": [
    "# pgmpy\n",
    "generator.forward_sample(size=10)"
   ]
  },
  {
   "cell_type": "code",
   "execution_count": 35,
   "id": "0395abbf",
   "metadata": {},
   "outputs": [
    {
     "data": {
      "text/plain": [
       "tensor([1., 1., 0., 0., 1., 0., 1., 0., 1., 1.])"
      ]
     },
     "execution_count": 35,
     "metadata": {},
     "output_type": "execute_result"
    }
   ],
   "source": [
    "# pyro\n",
    "import pyro\n",
    "from pyro.distributions import Bernoulli, Poisson, Gamma\n",
    "\n",
    "def model():\n",
    "    z = pyro.sample(\"z\", Gamma(7.5, 1.0))\n",
    "    x = pyro.sample(\"x\", Poisson(z))\n",
    "    with pyro.plate(\"IID\", 10):  # plate is a context manager for generating conditionally independent samples\n",
    "        y = pyro.sample(\"y\", Bernoulli(x / (5 + x)))\n",
    "    return y\n",
    "\n",
    "model()"
   ]
  },
  {
   "cell_type": "markdown",
   "id": "6a6b0e68",
   "metadata": {},
   "source": [
    "### \"This is not a cigar\" \n",
    "...but in relation to how distributions model populations. Robert was emphatic not to mistake an observed distribution for a definition of the population itself\n",
    "\n",
    "Important distinctino becasue we want to focus on real world implications, not just observed statistical trends"
   ]
  },
  {
   "cell_type": "markdown",
   "id": "8940facc",
   "metadata": {},
   "source": [
    "To really highlight this, in the rock throwing example, he asked us to speculate on the null cases on combo of outcomes not observed\n",
    "\n",
    "Super important distinction, as the null cases may not be represented in observed data but may impact distributions when observed.\n",
    "\n",
    "We wouldn't want to treat unobserved variables as probability 0"
   ]
  },
  {
   "cell_type": "markdown",
   "id": "2f0a723c",
   "metadata": {},
   "source": [
    "#### Latent Variables\n",
    "\n",
    "Latent variables are the outcomes that are not directly observed. Think how a corpus of documents may not have topics explicitly defined, but charactaristics in co-occurence of words implies topics"
   ]
  },
  {
   "cell_type": "code",
   "execution_count": 36,
   "id": "eac9fdf9",
   "metadata": {},
   "outputs": [],
   "source": [
    "# Example data generating process\n",
    "\n",
    "def true_dgp(jenny_inclination, brian_inclination, window_strength):  # cool, we are naming phenomena\n",
    "    jenny_throws_rock = jenny_inclination > 0.5\n",
    "    brian_throws_rock = brian_inclination > 0.5\n",
    "\n",
    "    strength_of_impact = 0.0\n",
    "\n",
    "    if jenny_throws_rock and brian_throws_rock:\n",
    "        strength_of_impact = 0.8\n",
    "    elif jenny_throws_rock or brian_throws_rock:\n",
    "        strength_of_impact = 0.6\n",
    "    window_breaks = window_strength < strength_of_impact\n",
    "\n",
    "    return jenny_throws_rock, brian_throws_rock, window_breaks\n",
    "\n",
    "# This is simply an illustration of a causal process that generates data\n"
   ]
  },
  {
   "cell_type": "markdown",
   "id": "a81bb46d",
   "metadata": {},
   "source": [
    "#### Why causal inference is hard\n",
    "\n",
    "Multiple DGPs could result in the same observed distribution"
   ]
  }
 ],
 "metadata": {
  "kernelspec": {
   "display_name": "causal-ai",
   "language": "python",
   "name": "python3"
  },
  "language_info": {
   "codemirror_mode": {
    "name": "ipython",
    "version": 3
   },
   "file_extension": ".py",
   "mimetype": "text/x-python",
   "name": "python",
   "nbconvert_exporter": "python",
   "pygments_lexer": "ipython3",
   "version": "3.12.0"
  }
 },
 "nbformat": 4,
 "nbformat_minor": 5
}
