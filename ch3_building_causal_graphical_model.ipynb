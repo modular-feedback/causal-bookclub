{
 "cells": [
  {
   "cell_type": "markdown",
   "id": "facf1192",
   "metadata": {},
   "source": [
    "# Buidling Causal Graphical Models"
   ]
  },
  {
   "cell_type": "markdown",
   "id": "d74a8980",
   "metadata": {},
   "source": [
    "Reminder that we're using tools to infer what the data generating process (DGP) may look like. One set of data may imply many different DGPs, so it's a hard game to play. This chapter is focused on graphically representing the DGP."
   ]
  },
  {
   "cell_type": "markdown",
   "id": "b814fb49",
   "metadata": {},
   "source": [
    "## 3.1.1 Transportation Case Study"
   ]
  },
  {
   "cell_type": "code",
   "execution_count": 5,
   "id": "e6946ba5",
   "metadata": {},
   "outputs": [
    {
     "data": {
      "text/plain": [
       "<pgmpy.models.DiscreteBayesianNetwork.DiscreteBayesianNetwork at 0x302c89d30>"
      ]
     },
     "execution_count": 5,
     "metadata": {},
     "output_type": "execute_result"
    }
   ],
   "source": [
    "# 3.2 Building the transportation DAG in pgmpy\n",
    "\n",
    "from pgmpy.models import DiscreteBayesianNetwork\n",
    "model = DiscreteBayesianNetwork(\n",
    "    [\n",
    "        ('Age', 'Education'),\n",
    "        ('Gender', 'Education'),\n",
    "        ('Education', 'Occupation'),\n",
    "        ('Education', 'Residence'),\n",
    "        ('Occupation', 'Transportation'),\n",
    "        ('Residence', 'Transportation')\n",
    "    ]\n",
    ")\n",
    "\n",
    "model"
   ]
  },
  {
   "cell_type": "markdown",
   "id": "c0bcfcfd",
   "metadata": {},
   "source": [
    "## 3.1.3 DAGs as Communication Tools"
   ]
  },
  {
   "cell_type": "markdown",
   "id": "396e6454",
   "metadata": {},
   "source": [
    "- Examples in which you've used DAGs for communication\n",
    "- Discuss DAG limitations as a reminder\n",
    "    - \"How\" vs \"What\"\n",
    "- Logic Gates visualize \"How\"\n",
    "    "
   ]
  },
  {
   "cell_type": "markdown",
   "id": "76c0af9f",
   "metadata": {},
   "source": [
    "DAGs represent and codify causal assumptions that can be used in further computation purposes. they also represent time, in that the causal arrow assumes forward movement in time. "
   ]
  },
  {
   "cell_type": "markdown",
   "id": "cc32419e",
   "metadata": {},
   "source": [
    "Identified ways of getting around the \"acyclic\" assumption in DAGs without necessarily having to relax the criteria. Example given is to unpack the \"cycles\" into discrete steps and track their path over time. "
   ]
  },
  {
   "cell_type": "markdown",
   "id": "f1041ba5",
   "metadata": {},
   "source": [
    "## Linking Causality to Conditional Independence"
   ]
  },
  {
   "cell_type": "markdown",
   "id": "845695b6",
   "metadata": {},
   "source": [
    "Highlighted how causal DAG allows a much simpler structure for formulating joint probability, because the causal pathway carries some assumptions about conditional independence.\n",
    "\n",
    "Specifically, in the geneology example, the author demonstrates where the 2 parents' blood types contain enough info to explain a child's blood type without knowing the parents' blood type.\n",
    "\n",
    "This characteristic, where direct \"parent\" properties supercede \"grandparent\" properties, is called the \"causal Markov property\"\n",
    "\n"
   ]
  },
  {
   "cell_type": "markdown",
   "id": "88452c85",
   "metadata": {},
   "source": [
    "## Scaffolding for Causal Machine Learning Models"
   ]
  },
  {
   "cell_type": "markdown",
   "id": "2a5880b9",
   "metadata": {},
   "source": [
    "Building with the DAG as the scaffolding permits the further goal - building causal machine learning models. These can be used for prediction and causal inference.\n",
    "\n",
    "After factoring under the assumption of causal conditional indepdence, the \"factors\" are also called Markov Kernels\n",
    "\n"
   ]
  },
  {
   "cell_type": "markdown",
   "id": "072b4147",
   "metadata": {},
   "source": [
    "### Labeling Causal Abstractions\n",
    "\n",
    "Labels are by their nature fluid and changing, so it's important to be careful about consistency among labels. Author citied the example of race, whose definition has definitely changed over time.\n",
    "\n",
    "\"In machine learning, we're often encouraged to blindly label data and not think about the DGP\"\n",
    "\n"
   ]
  },
  {
   "cell_type": "markdown",
   "id": "69bbc02b",
   "metadata": {},
   "source": [
    "## Training a Model on a Causal Dag"
   ]
  },
  {
   "cell_type": "code",
   "execution_count": 19,
   "id": "83c4f26a",
   "metadata": {},
   "outputs": [],
   "source": [
    "import pandas as pd\n",
    "url = 'https://raw.githubusercontent.com/altdeep/causalML/master/datasets/transportation_survey.csv'\n",
    "df = pd.read_csv(url)\n",
    "df.columns = [\"Age\", \"Gender\", \"Education\", \"Occupation\", \"Residence\", \"Transportation\"]"
   ]
  },
  {
   "cell_type": "code",
   "execution_count": 20,
   "id": "fd991db8",
   "metadata": {},
   "outputs": [
    {
     "data": {
      "application/vnd.microsoft.datawrangler.viewer.v0+json": {
       "columns": [
        {
         "name": "index",
         "rawType": "int64",
         "type": "integer"
        },
        {
         "name": "Age",
         "rawType": "object",
         "type": "string"
        },
        {
         "name": "Gender",
         "rawType": "object",
         "type": "string"
        },
        {
         "name": "Education",
         "rawType": "object",
         "type": "string"
        },
        {
         "name": "Occupation",
         "rawType": "object",
         "type": "string"
        },
        {
         "name": "Residence",
         "rawType": "object",
         "type": "string"
        },
        {
         "name": "Transportation",
         "rawType": "object",
         "type": "string"
        }
       ],
       "ref": "55c68c79-008c-4d11-80d7-e9975dbd6404",
       "rows": [
        [
         "185",
         "adult",
         "F",
         "uni",
         "emp",
         "big",
         "other"
        ],
        [
         "490",
         "adult",
         "F",
         "uni",
         "emp",
         "big",
         "car"
        ],
        [
         "407",
         "young",
         "F",
         "uni",
         "emp",
         "big",
         "car"
        ],
        [
         "461",
         "adult",
         "F",
         "uni",
         "emp",
         "big",
         "car"
        ],
        [
         "54",
         "old",
         "M",
         "high",
         "emp",
         "big",
         "train"
        ],
        [
         "149",
         "young",
         "M",
         "high",
         "emp",
         "big",
         "train"
        ],
        [
         "310",
         "adult",
         "F",
         "high",
         "emp",
         "big",
         "car"
        ],
        [
         "138",
         "young",
         "F",
         "uni",
         "emp",
         "big",
         "other"
        ],
        [
         "74",
         "adult",
         "F",
         "uni",
         "emp",
         "big",
         "car"
        ],
        [
         "145",
         "young",
         "M",
         "uni",
         "emp",
         "big",
         "other"
        ]
       ],
       "shape": {
        "columns": 6,
        "rows": 10
       }
      },
      "text/html": [
       "<div>\n",
       "<style scoped>\n",
       "    .dataframe tbody tr th:only-of-type {\n",
       "        vertical-align: middle;\n",
       "    }\n",
       "\n",
       "    .dataframe tbody tr th {\n",
       "        vertical-align: top;\n",
       "    }\n",
       "\n",
       "    .dataframe thead th {\n",
       "        text-align: right;\n",
       "    }\n",
       "</style>\n",
       "<table border=\"1\" class=\"dataframe\">\n",
       "  <thead>\n",
       "    <tr style=\"text-align: right;\">\n",
       "      <th></th>\n",
       "      <th>Age</th>\n",
       "      <th>Gender</th>\n",
       "      <th>Education</th>\n",
       "      <th>Occupation</th>\n",
       "      <th>Residence</th>\n",
       "      <th>Transportation</th>\n",
       "    </tr>\n",
       "  </thead>\n",
       "  <tbody>\n",
       "    <tr>\n",
       "      <th>185</th>\n",
       "      <td>adult</td>\n",
       "      <td>F</td>\n",
       "      <td>uni</td>\n",
       "      <td>emp</td>\n",
       "      <td>big</td>\n",
       "      <td>other</td>\n",
       "    </tr>\n",
       "    <tr>\n",
       "      <th>490</th>\n",
       "      <td>adult</td>\n",
       "      <td>F</td>\n",
       "      <td>uni</td>\n",
       "      <td>emp</td>\n",
       "      <td>big</td>\n",
       "      <td>car</td>\n",
       "    </tr>\n",
       "    <tr>\n",
       "      <th>407</th>\n",
       "      <td>young</td>\n",
       "      <td>F</td>\n",
       "      <td>uni</td>\n",
       "      <td>emp</td>\n",
       "      <td>big</td>\n",
       "      <td>car</td>\n",
       "    </tr>\n",
       "    <tr>\n",
       "      <th>461</th>\n",
       "      <td>adult</td>\n",
       "      <td>F</td>\n",
       "      <td>uni</td>\n",
       "      <td>emp</td>\n",
       "      <td>big</td>\n",
       "      <td>car</td>\n",
       "    </tr>\n",
       "    <tr>\n",
       "      <th>54</th>\n",
       "      <td>old</td>\n",
       "      <td>M</td>\n",
       "      <td>high</td>\n",
       "      <td>emp</td>\n",
       "      <td>big</td>\n",
       "      <td>train</td>\n",
       "    </tr>\n",
       "    <tr>\n",
       "      <th>149</th>\n",
       "      <td>young</td>\n",
       "      <td>M</td>\n",
       "      <td>high</td>\n",
       "      <td>emp</td>\n",
       "      <td>big</td>\n",
       "      <td>train</td>\n",
       "    </tr>\n",
       "    <tr>\n",
       "      <th>310</th>\n",
       "      <td>adult</td>\n",
       "      <td>F</td>\n",
       "      <td>high</td>\n",
       "      <td>emp</td>\n",
       "      <td>big</td>\n",
       "      <td>car</td>\n",
       "    </tr>\n",
       "    <tr>\n",
       "      <th>138</th>\n",
       "      <td>young</td>\n",
       "      <td>F</td>\n",
       "      <td>uni</td>\n",
       "      <td>emp</td>\n",
       "      <td>big</td>\n",
       "      <td>other</td>\n",
       "    </tr>\n",
       "    <tr>\n",
       "      <th>74</th>\n",
       "      <td>adult</td>\n",
       "      <td>F</td>\n",
       "      <td>uni</td>\n",
       "      <td>emp</td>\n",
       "      <td>big</td>\n",
       "      <td>car</td>\n",
       "    </tr>\n",
       "    <tr>\n",
       "      <th>145</th>\n",
       "      <td>young</td>\n",
       "      <td>M</td>\n",
       "      <td>uni</td>\n",
       "      <td>emp</td>\n",
       "      <td>big</td>\n",
       "      <td>other</td>\n",
       "    </tr>\n",
       "  </tbody>\n",
       "</table>\n",
       "</div>"
      ],
      "text/plain": [
       "       Age Gender Education Occupation Residence Transportation\n",
       "185  adult      F       uni        emp       big          other\n",
       "490  adult      F       uni        emp       big            car\n",
       "407  young      F       uni        emp       big            car\n",
       "461  adult      F       uni        emp       big            car\n",
       "54     old      M      high        emp       big          train\n",
       "149  young      M      high        emp       big          train\n",
       "310  adult      F      high        emp       big            car\n",
       "138  young      F       uni        emp       big          other\n",
       "74   adult      F       uni        emp       big            car\n",
       "145  young      M       uni        emp       big          other"
      ]
     },
     "execution_count": 20,
     "metadata": {},
     "output_type": "execute_result"
    }
   ],
   "source": [
    "# There are people in this world who use data without looking at it. Don't let it be you!\n",
    "# in notebooks, \"sample\" can give you a better idea what's in a dataframe than \"head\"\n",
    "\n",
    "df.sample(10)"
   ]
  },
  {
   "cell_type": "code",
   "execution_count": 21,
   "id": "1ed04a85",
   "metadata": {},
   "outputs": [
    {
     "name": "stderr",
     "output_type": "stream",
     "text": [
      "INFO:pgmpy: Datatype (N=numerical, C=Categorical Unordered, O=Categorical Ordered) inferred from data: \n",
      " {'Age': 'C', 'Gender': 'C', 'Education': 'C', 'Occupation': 'C', 'Residence': 'C', 'Transportation': 'C'}\n",
      "WARNING:pgmpy:Replacing existing CPD for Age\n",
      "WARNING:pgmpy:Replacing existing CPD for Education\n",
      "WARNING:pgmpy:Replacing existing CPD for Age\n",
      "WARNING:pgmpy:Replacing existing CPD for Education\n",
      "WARNING:pgmpy:Replacing existing CPD for Gender\n",
      "WARNING:pgmpy:Replacing existing CPD for Occupation\n",
      "WARNING:pgmpy:Replacing existing CPD for Residence\n",
      "WARNING:pgmpy:Replacing existing CPD for Transportation\n",
      "WARNING:pgmpy:Replacing existing CPD for Gender\n",
      "WARNING:pgmpy:Replacing existing CPD for Occupation\n",
      "WARNING:pgmpy:Replacing existing CPD for Residence\n",
      "WARNING:pgmpy:Replacing existing CPD for Transportation\n"
     ]
    },
    {
     "name": "stdout",
     "output_type": "stream",
     "text": [
      "[<TabularCPD representing P(Age:3) at 0x3012d6c00>, <TabularCPD representing P(Education:2 | Age:3, Gender:2) at 0x302d3a0c0>, <TabularCPD representing P(Gender:2) at 0x3017e0650>, <TabularCPD representing P(Occupation:2 | Education:2) at 0x302d1e9c0>, <TabularCPD representing P(Residence:2 | Education:2) at 0x302d1f6b0>, <TabularCPD representing P(Transportation:3 | Occupation:2, Residence:2) at 0x302d1f9b0>]\n"
     ]
    }
   ],
   "source": [
    "# Learning Parameters for the causal Markov kernels\n",
    "model.fit(df)  # polars wins on convenience, pandas wins on compatibility\n",
    "causal_markov_kernels = model.get_cpds()\n",
    "print(causal_markov_kernels)\n"
   ]
  },
  {
   "cell_type": "code",
   "execution_count": null,
   "id": "011ebacc",
   "metadata": {},
   "outputs": [
    {
     "name": "stdout",
     "output_type": "stream",
     "text": [
      "Variable: Transportation\n",
      "Evidence variables: ['Occupation', 'Residence']\n",
      "State names: {'Transportation': ['car', 'other', 'train'], 'Occupation': ['emp', 'self'], 'Residence': ['big', 'small']}\n",
      "\n",
      "Values shape: (3, 2, 2)\n",
      "\n",
      "Full conditional probability table:\n",
      "                      Occ=emp, Res=big  Occ=emp, Res=small  Occ=self, Res=big  \\\n",
      "Transportation=car            0.703431            0.524390           0.444444   \n",
      "Transportation=other          0.134804            0.085366           0.333333   \n",
      "Transportation=train          0.161765            0.390244           0.222222   \n",
      "\n",
      "                      Occ=self, Res=small  \n",
      "Transportation=car                    1.0  \n",
      "Transportation=other                  0.0  \n",
      "Transportation=train                  0.0  \n"
     ]
    }
   ],
   "source": [
    "# AI Generated code block in case you're having trouble getting the full visual in the book\n",
    "import pandas as pd\n",
    "import numpy as np\n",
    "\n",
    "# Set pandas display options to show all columns\n",
    "pd.set_option('display.max_columns', None)\n",
    "pd.set_option('display.width', None)\n",
    "pd.set_option('display.max_colwidth', None)\n",
    "\n",
    "cmk_T = causal_markov_kernels[-1]\n",
    "\n",
    "print(f\"Variable: {cmk_T.variable}\")\n",
    "print(f\"Evidence variables: {cmk_T.variables[1:]}\")\n",
    "print(f\"State names: {cmk_T.state_names}\")\n",
    "print(f\"\\nValues shape: {cmk_T.values.shape}\")\n",
    "print(f\"\\nFull conditional probability table:\")\n",
    "\n",
    "# Reshape the 3D array into 2D for better display\n",
    "# Shape is (3 transportation types, 2 occupations, 2 residences)\n",
    "values = cmk_T.values\n",
    "n_transport, n_occup, n_resid = values.shape\n",
    "\n",
    "# Create column labels for each combination of Occupation and Residence\n",
    "columns = []\n",
    "for i in range(n_occup):\n",
    "    for j in range(n_resid):\n",
    "        columns.append(f\"Occ={cmk_T.state_names['Occupation'][i]}, Res={cmk_T.state_names['Residence'][j]}\")\n",
    "\n",
    "# Reshape to 2D: rows are transportation types, columns are combinations of evidence\n",
    "values_2d = values.reshape(n_transport, -1)\n",
    "df_cpd = pd.DataFrame(\n",
    "    values_2d,\n",
    "    index=[f\"Transportation={t}\" for t in cmk_T.state_names['Transportation']],\n",
    "    columns=columns\n",
    ")\n",
    "\n",
    "print(df_cpd)"
   ]
  },
  {
   "cell_type": "code",
   "execution_count": null,
   "id": "63e8f956",
   "metadata": {},
   "outputs": [],
   "source": []
  }
 ],
 "metadata": {
  "kernelspec": {
   "display_name": "causal-ai",
   "language": "python",
   "name": "python3"
  },
  "language_info": {
   "codemirror_mode": {
    "name": "ipython",
    "version": 3
   },
   "file_extension": ".py",
   "mimetype": "text/x-python",
   "name": "python",
   "nbconvert_exporter": "python",
   "pygments_lexer": "ipython3",
   "version": "3.12.0"
  }
 },
 "nbformat": 4,
 "nbformat_minor": 5
}
