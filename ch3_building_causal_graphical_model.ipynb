{
 "cells": [
  {
   "cell_type": "markdown",
   "id": "facf1192",
   "metadata": {},
   "source": [
    "# Buidling Causal Graphical Models"
   ]
  },
  {
   "cell_type": "markdown",
   "id": "d74a8980",
   "metadata": {},
   "source": [
    "Reminder that we're using tools to infer what the data generating process (DGP) may look like. One set of data may imply many different DGPs, so it's a hard game to play. This chapter is focused on graphically representing the DGP."
   ]
  },
  {
   "cell_type": "markdown",
   "id": "b814fb49",
   "metadata": {},
   "source": [
    "## 3.1.1 Transportation Case Study"
   ]
  },
  {
   "cell_type": "code",
   "execution_count": 1,
   "id": "e6946ba5",
   "metadata": {},
   "outputs": [
    {
     "data": {
      "text/plain": [
       "<pgmpy.models.DiscreteBayesianNetwork.DiscreteBayesianNetwork at 0x143e12960>"
      ]
     },
     "execution_count": 1,
     "metadata": {},
     "output_type": "execute_result"
    }
   ],
   "source": [
    "# 3.2 Building the transportation DAG in pgmpy\n",
    "\n",
    "from pgmpy.models import DiscreteBayesianNetwork\n",
    "model = DiscreteBayesianNetwork(\n",
    "    [\n",
    "        ('Age', 'Education'),\n",
    "        ('Gender', 'Education'),\n",
    "        ('Education', 'Occupation'),\n",
    "        ('Education', 'Residence'),\n",
    "        ('Occupation', 'Transportation'),\n",
    "        ('Residence', 'Transportation')\n",
    "    ]\n",
    ")\n",
    "\n",
    "model"
   ]
  },
  {
   "cell_type": "markdown",
   "id": "c0bcfcfd",
   "metadata": {},
   "source": [
    "## 3.1.3 DAGs as Communication Tools"
   ]
  },
  {
   "cell_type": "markdown",
   "id": "396e6454",
   "metadata": {},
   "source": [
    "- Examples in which you've used DAGs for communication\n",
    "- Discuss DAG limitations as a reminder\n",
    "    - \"How\" vs \"What\"\n",
    "- Logic Gates visualize \"How\"\n",
    "    "
   ]
  },
  {
   "cell_type": "markdown",
   "id": "76c0af9f",
   "metadata": {},
   "source": [
    "DAGs represent and codify causal assumptions that can be used in further computation purposes. they also represent time, in that the causal arrow assumes forward movement in time. "
   ]
  },
  {
   "cell_type": "markdown",
   "id": "cc32419e",
   "metadata": {},
   "source": [
    "Identified ways of getting around the \"acyclic\" assumption in DAGs without necessarily having to relax the criteria. Example given is to unpack the \"cycles\" into discrete steps and track their path over time. "
   ]
  },
  {
   "cell_type": "markdown",
   "id": "f1041ba5",
   "metadata": {},
   "source": [
    "## Linking Causality to Conditional Independence"
   ]
  },
  {
   "cell_type": "markdown",
   "id": "845695b6",
   "metadata": {},
   "source": [
    "Highlighted how causal DAG allows a much simpler structure for formulating joint probability, because the causal pathway carries some assumptions about conditional independence.\n",
    "\n",
    "Specifically, in the geneology example, the author demonstrates where the 2 parents' blood types contain enough info to explain a child's blood type without knowing the parents' blood type.\n",
    "\n",
    "This characteristic, where direct \"parent\" properties supercede \"grandparent\" properties, is called the \"causal Markov property\"\n",
    "\n"
   ]
  },
  {
   "cell_type": "markdown",
   "id": "88452c85",
   "metadata": {},
   "source": [
    "## Scaffolding for Causal Machine Learning Models"
   ]
  },
  {
   "cell_type": "markdown",
   "id": "2a5880b9",
   "metadata": {},
   "source": [
    "Building with the DAG as the scaffolding permits the further goal - building causal machine learning models. These can be used for prediction and causal inference.\n",
    "\n",
    "After factoring under the assumption of causal conditional indepdence, the \"factors\" are also called Markov Kernels\n",
    "\n"
   ]
  },
  {
   "cell_type": "markdown",
   "id": "072b4147",
   "metadata": {},
   "source": [
    "### Labeling Causal Abstractions\n",
    "\n",
    "Labels are by their nature fluid and changing, so it's important to be careful about consistency among labels. Author citied the example of race, whose definition has definitely changed over time.\n",
    "\n",
    "\"In machine learning, we're often encouraged to blindly label data and not think about the DGP\"\n",
    "\n"
   ]
  },
  {
   "cell_type": "markdown",
   "id": "69bbc02b",
   "metadata": {},
   "source": [
    "## Training a Model on a Causal Dag"
   ]
  },
  {
   "cell_type": "code",
   "execution_count": 2,
   "id": "83c4f26a",
   "metadata": {},
   "outputs": [],
   "source": [
    "import polars as pl\n",
    "url = 'https://raw.githubusercontent.com/altdeep/causalML/master/datasets/transportation_survey.csv'\n",
    "df = pl.read_csv(url)\n",
    "df.columns = [\"Age\", \"Gender\", \"Education\", \"Occupation\", \"Residence\", \"Transportation\"]"
   ]
  },
  {
   "cell_type": "code",
   "execution_count": 3,
   "id": "fd991db8",
   "metadata": {},
   "outputs": [
    {
     "data": {
      "text/html": [
       "<div><style>\n",
       ".dataframe > thead > tr,\n",
       ".dataframe > tbody > tr {\n",
       "  text-align: right;\n",
       "  white-space: pre-wrap;\n",
       "}\n",
       "</style>\n",
       "<small>shape: (10, 6)</small><table border=\"1\" class=\"dataframe\"><thead><tr><th>Age</th><th>Gender</th><th>Education</th><th>Occupation</th><th>Residence</th><th>Transportation</th></tr><tr><td>str</td><td>str</td><td>str</td><td>str</td><td>str</td><td>str</td></tr></thead><tbody><tr><td>&quot;old&quot;</td><td>&quot;F&quot;</td><td>&quot;high&quot;</td><td>&quot;emp&quot;</td><td>&quot;small&quot;</td><td>&quot;car&quot;</td></tr><tr><td>&quot;young&quot;</td><td>&quot;F&quot;</td><td>&quot;uni&quot;</td><td>&quot;emp&quot;</td><td>&quot;big&quot;</td><td>&quot;car&quot;</td></tr><tr><td>&quot;adult&quot;</td><td>&quot;M&quot;</td><td>&quot;high&quot;</td><td>&quot;emp&quot;</td><td>&quot;small&quot;</td><td>&quot;car&quot;</td></tr><tr><td>&quot;young&quot;</td><td>&quot;M&quot;</td><td>&quot;high&quot;</td><td>&quot;emp&quot;</td><td>&quot;small&quot;</td><td>&quot;car&quot;</td></tr><tr><td>&quot;adult&quot;</td><td>&quot;M&quot;</td><td>&quot;high&quot;</td><td>&quot;emp&quot;</td><td>&quot;small&quot;</td><td>&quot;train&quot;</td></tr><tr><td>&quot;old&quot;</td><td>&quot;F&quot;</td><td>&quot;high&quot;</td><td>&quot;emp&quot;</td><td>&quot;big&quot;</td><td>&quot;train&quot;</td></tr><tr><td>&quot;adult&quot;</td><td>&quot;M&quot;</td><td>&quot;high&quot;</td><td>&quot;emp&quot;</td><td>&quot;big&quot;</td><td>&quot;car&quot;</td></tr><tr><td>&quot;old&quot;</td><td>&quot;F&quot;</td><td>&quot;high&quot;</td><td>&quot;emp&quot;</td><td>&quot;big&quot;</td><td>&quot;train&quot;</td></tr><tr><td>&quot;adult&quot;</td><td>&quot;F&quot;</td><td>&quot;uni&quot;</td><td>&quot;emp&quot;</td><td>&quot;big&quot;</td><td>&quot;other&quot;</td></tr><tr><td>&quot;young&quot;</td><td>&quot;F&quot;</td><td>&quot;uni&quot;</td><td>&quot;emp&quot;</td><td>&quot;big&quot;</td><td>&quot;other&quot;</td></tr></tbody></table></div>"
      ],
      "text/plain": [
       "shape: (10, 6)\n",
       "┌───────┬────────┬───────────┬────────────┬───────────┬────────────────┐\n",
       "│ Age   ┆ Gender ┆ Education ┆ Occupation ┆ Residence ┆ Transportation │\n",
       "│ ---   ┆ ---    ┆ ---       ┆ ---        ┆ ---       ┆ ---            │\n",
       "│ str   ┆ str    ┆ str       ┆ str        ┆ str       ┆ str            │\n",
       "╞═══════╪════════╪═══════════╪════════════╪═══════════╪════════════════╡\n",
       "│ old   ┆ F      ┆ high      ┆ emp        ┆ small     ┆ car            │\n",
       "│ young ┆ F      ┆ uni       ┆ emp        ┆ big       ┆ car            │\n",
       "│ adult ┆ M      ┆ high      ┆ emp        ┆ small     ┆ car            │\n",
       "│ young ┆ M      ┆ high      ┆ emp        ┆ small     ┆ car            │\n",
       "│ adult ┆ M      ┆ high      ┆ emp        ┆ small     ┆ train          │\n",
       "│ old   ┆ F      ┆ high      ┆ emp        ┆ big       ┆ train          │\n",
       "│ adult ┆ M      ┆ high      ┆ emp        ┆ big       ┆ car            │\n",
       "│ old   ┆ F      ┆ high      ┆ emp        ┆ big       ┆ train          │\n",
       "│ adult ┆ F      ┆ uni       ┆ emp        ┆ big       ┆ other          │\n",
       "│ young ┆ F      ┆ uni       ┆ emp        ┆ big       ┆ other          │\n",
       "└───────┴────────┴───────────┴────────────┴───────────┴────────────────┘"
      ]
     },
     "execution_count": 3,
     "metadata": {},
     "output_type": "execute_result"
    }
   ],
   "source": [
    "# There are people in this world who use data without looking at it. Don't let it be you!\n",
    "# in notebooks, \"sample\" can give you a better idea what's in a dataframe than \"head\"\n",
    "\n",
    "df.sample(10)"
   ]
  },
  {
   "cell_type": "code",
   "execution_count": 4,
   "id": "1ed04a85",
   "metadata": {},
   "outputs": [
    {
     "name": "stderr",
     "output_type": "stream",
     "text": [
      "INFO:pgmpy: Datatype (N=numerical, C=Categorical Unordered, O=Categorical Ordered) inferred from data: \n",
      " {'Age': 'C', 'Gender': 'C', 'Education': 'C', 'Occupation': 'C', 'Residence': 'C', 'Transportation': 'C'}\n"
     ]
    },
    {
     "name": "stdout",
     "output_type": "stream",
     "text": [
      "[<TabularCPD representing P(Age:3) at 0x1535feed0>, <TabularCPD representing P(Education:2 | Age:3, Gender:2) at 0x1452edd60>, <TabularCPD representing P(Gender:2) at 0x1443bff80>, <TabularCPD representing P(Occupation:2 | Education:2) at 0x151a43c80>, <TabularCPD representing P(Residence:2 | Education:2) at 0x153634320>, <TabularCPD representing P(Transportation:3 | Occupation:2, Residence:2) at 0x1536352b0>]\n"
     ]
    }
   ],
   "source": [
    "# Learning Parameters for the causal Markov kernels\n",
    "model.fit(df.to_pandas())  # polars wins on convenience, pandas wins on compatibility\n",
    "causal_markov_kernels = model.get_cpds()\n",
    "print(causal_markov_kernels)"
   ]
  },
  {
   "cell_type": "code",
   "execution_count": 5,
   "id": "3a39cf4c",
   "metadata": {},
   "outputs": [
    {
     "data": {
      "application/vnd.microsoft.datawrangler.viewer.v0+json": {
       "columns": [
        {
         "name": "Transportation",
         "rawType": "object",
         "type": "string"
        },
        {
         "name": "('emp', 'big')",
         "rawType": "float64",
         "type": "float"
        },
        {
         "name": "('emp', 'small')",
         "rawType": "float64",
         "type": "float"
        },
        {
         "name": "('self', 'big')",
         "rawType": "float64",
         "type": "float"
        },
        {
         "name": "('self', 'small')",
         "rawType": "float64",
         "type": "float"
        }
       ],
       "ref": "f98e8738-568a-49ee-ba4e-846d39b70c30",
       "rows": [
        [
         "car",
         "0.7034313725490197",
         "0.524390243902439",
         "0.4444444444444444",
         "1.0"
        ],
        [
         "other",
         "0.13480392156862744",
         "0.08536585365853659",
         "0.3333333333333333",
         "0.0"
        ],
        [
         "train",
         "0.16176470588235295",
         "0.3902439024390244",
         "0.2222222222222222",
         "0.0"
        ]
       ],
       "shape": {
        "columns": 4,
        "rows": 3
       }
      },
      "text/html": [
       "<div>\n",
       "<style scoped>\n",
       "    .dataframe tbody tr th:only-of-type {\n",
       "        vertical-align: middle;\n",
       "    }\n",
       "\n",
       "    .dataframe tbody tr th {\n",
       "        vertical-align: top;\n",
       "    }\n",
       "\n",
       "    .dataframe thead tr th {\n",
       "        text-align: left;\n",
       "    }\n",
       "\n",
       "    .dataframe thead tr:last-of-type th {\n",
       "        text-align: right;\n",
       "    }\n",
       "</style>\n",
       "<table border=\"1\" class=\"dataframe\">\n",
       "  <thead>\n",
       "    <tr>\n",
       "      <th>Occupation</th>\n",
       "      <th colspan=\"2\" halign=\"left\">emp</th>\n",
       "      <th colspan=\"2\" halign=\"left\">self</th>\n",
       "    </tr>\n",
       "    <tr>\n",
       "      <th>Residence</th>\n",
       "      <th>big</th>\n",
       "      <th>small</th>\n",
       "      <th>big</th>\n",
       "      <th>small</th>\n",
       "    </tr>\n",
       "    <tr>\n",
       "      <th>Transportation</th>\n",
       "      <th></th>\n",
       "      <th></th>\n",
       "      <th></th>\n",
       "      <th></th>\n",
       "    </tr>\n",
       "  </thead>\n",
       "  <tbody>\n",
       "    <tr>\n",
       "      <th>car</th>\n",
       "      <td>0.703431</td>\n",
       "      <td>0.524390</td>\n",
       "      <td>0.444444</td>\n",
       "      <td>1.0</td>\n",
       "    </tr>\n",
       "    <tr>\n",
       "      <th>other</th>\n",
       "      <td>0.134804</td>\n",
       "      <td>0.085366</td>\n",
       "      <td>0.333333</td>\n",
       "      <td>0.0</td>\n",
       "    </tr>\n",
       "    <tr>\n",
       "      <th>train</th>\n",
       "      <td>0.161765</td>\n",
       "      <td>0.390244</td>\n",
       "      <td>0.222222</td>\n",
       "      <td>0.0</td>\n",
       "    </tr>\n",
       "  </tbody>\n",
       "</table>\n",
       "</div>"
      ],
      "text/plain": [
       "Occupation           emp                self      \n",
       "Residence            big     small       big small\n",
       "Transportation                                    \n",
       "car             0.703431  0.524390  0.444444   1.0\n",
       "other           0.134804  0.085366  0.333333   0.0\n",
       "train           0.161765  0.390244  0.222222   0.0"
      ]
     },
     "execution_count": 5,
     "metadata": {},
     "output_type": "execute_result"
    }
   ],
   "source": [
    "cmk_T_max_likelihood = causal_markov_kernels[-1]\n",
    "cmk_T_max_likelihood.to_dataframe().T  # this is MUCH better than print(cmk_T)"
   ]
  },
  {
   "cell_type": "markdown",
   "id": "63e8f956",
   "metadata": {},
   "source": [
    "### Different Techniques for Parameter Learning"
   ]
  },
  {
   "cell_type": "markdown",
   "id": "b9a81a14",
   "metadata": {},
   "source": [
    "\"Maximum Likelihood\" seeks the parameter that maximizes the likelihood of seeing the data we use to train the model. For categorical data, this is a matter of proportions of the seen data"
   ]
  },
  {
   "cell_type": "markdown",
   "id": "948e2dfa",
   "metadata": {},
   "source": [
    "Dirichilet conjugate priors allow us to calculate distributions using only simple math. This is embedded in pgmpy"
   ]
  },
  {
   "cell_type": "code",
   "execution_count": 6,
   "id": "3f277003",
   "metadata": {},
   "outputs": [
    {
     "name": "stderr",
     "output_type": "stream",
     "text": [
      "INFO:pgmpy: Datatype (N=numerical, C=Categorical Unordered, O=Categorical Ordered) inferred from data: \n",
      " {'Age': 'C', 'Gender': 'C', 'Education': 'C', 'Occupation': 'C', 'Residence': 'C', 'Transportation': 'C'}\n",
      "WARNING:pgmpy:Replacing existing CPD for Age\n",
      "WARNING:pgmpy:Replacing existing CPD for Education\n",
      "WARNING:pgmpy:Replacing existing CPD for Occupation\n",
      "WARNING:pgmpy:Replacing existing CPD for Residence\n",
      "WARNING:pgmpy:Replacing existing CPD for Gender\n",
      "WARNING:pgmpy:Replacing existing CPD for Transportation\n"
     ]
    },
    {
     "data": {
      "application/vnd.microsoft.datawrangler.viewer.v0+json": {
       "columns": [
        {
         "name": "Transportation",
         "rawType": "object",
         "type": "string"
        },
        {
         "name": "('emp', 'big')",
         "rawType": "float64",
         "type": "float"
        },
        {
         "name": "('emp', 'small')",
         "rawType": "float64",
         "type": "float"
        },
        {
         "name": "('self', 'big')",
         "rawType": "float64",
         "type": "float"
        },
        {
         "name": "('self', 'small')",
         "rawType": "float64",
         "type": "float"
        }
       ],
       "ref": "a2209084-02b0-49d3-9c0b-6451f5c04468",
       "rows": [
        [
         "car",
         "0.7007299270072993",
         "0.5176470588235295",
         "0.4166666666666667",
         "0.5"
        ],
        [
         "other",
         "0.1362530413625304",
         "0.09411764705882353",
         "0.3333333333333333",
         "0.25"
        ],
        [
         "train",
         "0.1630170316301703",
         "0.38823529411764707",
         "0.25",
         "0.25"
        ]
       ],
       "shape": {
        "columns": 4,
        "rows": 3
       }
      },
      "text/html": [
       "<div>\n",
       "<style scoped>\n",
       "    .dataframe tbody tr th:only-of-type {\n",
       "        vertical-align: middle;\n",
       "    }\n",
       "\n",
       "    .dataframe tbody tr th {\n",
       "        vertical-align: top;\n",
       "    }\n",
       "\n",
       "    .dataframe thead tr th {\n",
       "        text-align: left;\n",
       "    }\n",
       "\n",
       "    .dataframe thead tr:last-of-type th {\n",
       "        text-align: right;\n",
       "    }\n",
       "</style>\n",
       "<table border=\"1\" class=\"dataframe\">\n",
       "  <thead>\n",
       "    <tr>\n",
       "      <th>Occupation</th>\n",
       "      <th colspan=\"2\" halign=\"left\">emp</th>\n",
       "      <th colspan=\"2\" halign=\"left\">self</th>\n",
       "    </tr>\n",
       "    <tr>\n",
       "      <th>Residence</th>\n",
       "      <th>big</th>\n",
       "      <th>small</th>\n",
       "      <th>big</th>\n",
       "      <th>small</th>\n",
       "    </tr>\n",
       "    <tr>\n",
       "      <th>Transportation</th>\n",
       "      <th></th>\n",
       "      <th></th>\n",
       "      <th></th>\n",
       "      <th></th>\n",
       "    </tr>\n",
       "  </thead>\n",
       "  <tbody>\n",
       "    <tr>\n",
       "      <th>car</th>\n",
       "      <td>0.700730</td>\n",
       "      <td>0.517647</td>\n",
       "      <td>0.416667</td>\n",
       "      <td>0.50</td>\n",
       "    </tr>\n",
       "    <tr>\n",
       "      <th>other</th>\n",
       "      <td>0.136253</td>\n",
       "      <td>0.094118</td>\n",
       "      <td>0.333333</td>\n",
       "      <td>0.25</td>\n",
       "    </tr>\n",
       "    <tr>\n",
       "      <th>train</th>\n",
       "      <td>0.163017</td>\n",
       "      <td>0.388235</td>\n",
       "      <td>0.250000</td>\n",
       "      <td>0.25</td>\n",
       "    </tr>\n",
       "  </tbody>\n",
       "</table>\n",
       "</div>"
      ],
      "text/plain": [
       "Occupation           emp                self      \n",
       "Residence            big     small       big small\n",
       "Transportation                                    \n",
       "car             0.700730  0.517647  0.416667  0.50\n",
       "other           0.136253  0.094118  0.333333  0.25\n",
       "train           0.163017  0.388235  0.250000  0.25"
      ]
     },
     "execution_count": 6,
     "metadata": {},
     "output_type": "execute_result"
    }
   ],
   "source": [
    "from pgmpy.estimators import BayesianEstimator\n",
    "\n",
    "model.fit(\n",
    "    df.to_pandas(),\n",
    "    estimator=BayesianEstimator,\n",
    "    prior_type=\"dirichlet\",\n",
    "    pseudo_counts=1  # the parameters of the Dirichlet prior\n",
    ")\n",
    "\n",
    "causal_markov_kernels = model.get_cpds()  # extract causal markov kernels - conditional probability distributions\n",
    "cmk_T_bayesian = causal_markov_kernels[-1]  # We're after probability of Transportation type given Occupation and Residence\n",
    "cmk_T_bayesian.to_dataframe().T  # Again, this transpose view mirrors what you see in the book, but as a df rather than string"
   ]
  },
  {
   "cell_type": "code",
   "execution_count": 7,
   "id": "70880f33",
   "metadata": {},
   "outputs": [
    {
     "name": "stdout",
     "output_type": "stream",
     "text": [
      "Max Likelihood Estimation Approach\n",
      "Recall from page 83 that this is looking at proportions as they appear in the data\n",
      "Occupation           emp                self      \n",
      "Residence            big     small       big small\n",
      "Transportation                                    \n",
      "car             0.703431  0.524390  0.444444   1.0\n",
      "other           0.134804  0.085366  0.333333   0.0\n",
      "train           0.161765  0.390244  0.222222   0.0\n",
      "\n",
      "Bayesian Estimation Approach\n",
      "Recall from page 84 that this approach uses a prior distribution, which helps avoid extremes such as the MLE approach saying that all entrepreneurs in small cities use cars (rightmost column)\n",
      "Occupation           emp                self      \n",
      "Residence            big     small       big small\n",
      "Transportation                                    \n",
      "car             0.700730  0.517647  0.416667  0.50\n",
      "other           0.136253  0.094118  0.333333  0.25\n",
      "train           0.163017  0.388235  0.250000  0.25\n"
     ]
    }
   ],
   "source": [
    "# Bayesians and Frequentists can argue here\n",
    "\n",
    "print(\"Max Likelihood Estimation Approach\") \n",
    "print(\"Recall from page 83 that this is looking at proportions as they appear in the data\")\n",
    "print(cmk_T_max_likelihood.to_dataframe().T)\n",
    "print(\"\\nBayesian Estimation Approach\")\n",
    "print(\"Recall from page 84 that this approach uses a prior distribution, which helps avoid extremes such as the MLE approach saying that all entrepreneurs in small cities use cars (rightmost column)\")\n",
    "print(cmk_T_bayesian.to_dataframe().T)\n"
   ]
  },
  {
   "cell_type": "markdown",
   "id": "07296baf",
   "metadata": {},
   "source": [
    "### Other Techniques for Paramter Estimation\n",
    "\n",
    "Author reminds us that the DAG exists totally separate from the algorithms and methods we use to estimate the causal impact. So whether age is calculated in seconds or days, or whether we use a neural net or logistic regression to model our assumptions is separate from the DAG itself"
   ]
  },
  {
   "cell_type": "markdown",
   "id": "ec634e1e",
   "metadata": {},
   "source": [
    "### Latent Variables"
   ]
  },
  {
   "cell_type": "markdown",
   "id": "38cfbc8c",
   "metadata": {},
   "source": [
    "Remember that we are searching to understand a data generating process (DGP), not necessarily report on data. Data, then are clues and context about what the DGP may be. \n",
    "\n",
    "This means we have to give consideration to \"latent variables\" which are characteristics not directly observed in the data but inferrable from the data."
   ]
  },
  {
   "cell_type": "code",
   "execution_count": 8,
   "id": "72a7a3c8",
   "metadata": {},
   "outputs": [],
   "source": [
    "import pandas as pd\n",
    "from pgmpy.models import DiscreteBayesianNetwork\n",
    "from pgmpy.estimators import ExpectationMaximization as EM\n",
    "url = \"https://raw.githubusercontent.com/altdeep/causalML/master/datasets/transportation_survey.csv\"\n",
    "data = pl.read_csv(url)\n",
    "data_sans_E = data.drop(\"E\")"
   ]
  },
  {
   "cell_type": "code",
   "execution_count": 9,
   "id": "8d5eaadf",
   "metadata": {},
   "outputs": [
    {
     "name": "stderr",
     "output_type": "stream",
     "text": [
      "INFO:pgmpy: Datatype (N=numerical, C=Categorical Unordered, O=Categorical Ordered) inferred from data: \n",
      " {'A': 'C', 'S': 'C', 'O': 'C', 'R': 'C', 'T': 'C'}\n"
     ]
    }
   ],
   "source": [
    "model_with_latent = DiscreteBayesianNetwork(\n",
    "    [\n",
    "        ('A', 'E'),\n",
    "        ('S', 'E'),\n",
    "        ('E', 'O'),\n",
    "        ('E', 'R'),\n",
    "        ('O', 'T'),\n",
    "        ('R', 'T')\n",
    "    ],\n",
    "    latents={\"E\"}  # We're running the structural expectation maximization algorithm, so we have to tell pgmpy which variable is latent\n",
    ")\n",
    "\n",
    "estimator = EM(model_with_latent, data_sans_E.to_pandas())"
   ]
  },
  {
   "cell_type": "code",
   "execution_count": 10,
   "id": "9ecc402a",
   "metadata": {},
   "outputs": [
    {
     "data": {
      "application/vnd.jupyter.widget-view+json": {
       "model_id": "1a326847e52f4ababd8385a79e2654bd",
       "version_major": 2,
       "version_minor": 0
      },
      "text/plain": [
       "  0%|          | 0/100 [00:00<?, ?it/s]"
      ]
     },
     "metadata": {},
     "output_type": "display_data"
    },
    {
     "data": {
      "text/plain": [
       "[<TabularCPD representing P(S:2) at 0x153383260>,\n",
       " <TabularCPD representing P(T:3 | O:2, R:2) at 0x152f4b650>,\n",
       " <TabularCPD representing P(A:3) at 0x1515ba9f0>,\n",
       " <TabularCPD representing P(R:2 | E:2) at 0x154125190>,\n",
       " <TabularCPD representing P(E:2 | A:3, S:2) at 0x1536b8890>,\n",
       " <TabularCPD representing P(O:2 | E:2) at 0x153636900>]"
      ]
     },
     "execution_count": 10,
     "metadata": {},
     "output_type": "execute_result"
    }
   ],
   "source": [
    "cmks_with_latent = estimator.get_parameters(latent_card={\"E\": 2})\n",
    "cmks_with_latent"
   ]
  },
  {
   "cell_type": "code",
   "execution_count": 11,
   "id": "9849bda2",
   "metadata": {},
   "outputs": [
    {
     "data": {
      "text/plain": [
       "<DiscreteFactor representing phi(T:3, O:2, R:2) at 0x151aa80b0>"
      ]
     },
     "execution_count": 11,
     "metadata": {},
     "output_type": "execute_result"
    }
   ],
   "source": [
    "cmks_with_latent[1].to_factor()  # this is the index position called in the book, but it's not representing the latent variable we were looking for"
   ]
  },
  {
   "cell_type": "code",
   "execution_count": 12,
   "id": "ace54a85",
   "metadata": {},
   "outputs": [
    {
     "name": "stdout",
     "output_type": "stream",
     "text": [
      "+---------+------+------------+\n",
      "| O       | E    |   phi(O,E) |\n",
      "+=========+======+============+\n",
      "| O(emp)  | E(0) |     0.9742 |\n",
      "+---------+------+------------+\n",
      "| O(emp)  | E(1) |     0.9864 |\n",
      "+---------+------+------------+\n",
      "| O(self) | E(0) |     0.0258 |\n",
      "+---------+------+------------+\n",
      "| O(self) | E(1) |     0.0136 |\n",
      "+---------+------+------------+\n"
     ]
    }
   ],
   "source": [
    "# Further inference is needed to determine what 0 and 1 mean, but at a high level, interesting how it maps\n",
    "# latent expectations for these arbitrary \"categories\" given data that it didn't observe\n",
    "\n",
    "# In actual practice, we would test performance on known data to try to get an idea of\n",
    "# error before practical use and decision making\n",
    "\n",
    "print(cmks_with_latent[5].to_factor())"
   ]
  },
  {
   "cell_type": "markdown",
   "id": "c0244bb4",
   "metadata": {},
   "source": [
    "### Inference on a Trained Causal Graphical Model"
   ]
  },
  {
   "cell_type": "code",
   "execution_count": 13,
   "id": "0f2d8a47",
   "metadata": {},
   "outputs": [],
   "source": [
    "from pgmpy.inference import VariableElimination"
   ]
  },
  {
   "cell_type": "code",
   "execution_count": 14,
   "id": "0720d2a4",
   "metadata": {},
   "outputs": [],
   "source": [
    "inference = VariableElimination(model)"
   ]
  },
  {
   "cell_type": "code",
   "execution_count": 15,
   "id": "3977fbb1",
   "metadata": {},
   "outputs": [],
   "source": [
    "# Remember that I wrote these in English earlier\n",
    "query1 = inference.query([\"Education\"], evidence={\"Transportation\": \"train\"})\n",
    "query2 = inference.query([\"Education\"], evidence={\"Transportation\": \"car\"})"
   ]
  },
  {
   "cell_type": "code",
   "execution_count": 16,
   "id": "b7854b30",
   "metadata": {},
   "outputs": [
    {
     "name": "stdout",
     "output_type": "stream",
     "text": [
      "train\n",
      "+-----------------+------------------+\n",
      "| Education       |   phi(Education) |\n",
      "+=================+==================+\n",
      "| Education(high) |           0.6162 |\n",
      "+-----------------+------------------+\n",
      "| Education(uni)  |           0.3838 |\n",
      "+-----------------+------------------+\n",
      "\n",
      "car\n",
      "+-----------------+------------------+\n",
      "| Education       |   phi(Education) |\n",
      "+=================+==================+\n",
      "| Education(high) |           0.5586 |\n",
      "+-----------------+------------------+\n",
      "| Education(uni)  |           0.4414 |\n",
      "+-----------------+------------------+\n"
     ]
    }
   ],
   "source": [
    "print(\"train\")\n",
    "print(query1)\n",
    "print(\"\\ncar\")\n",
    "print(query2)"
   ]
  },
  {
   "cell_type": "markdown",
   "id": "c5e54393",
   "metadata": {},
   "source": [
    "#### Pyro Implementation"
   ]
  },
  {
   "cell_type": "code",
   "execution_count": 17,
   "id": "05f38302",
   "metadata": {},
   "outputs": [],
   "source": [
    "import torch\n",
    "import pyro\n",
    "from pyro.distributions import Categorical"
   ]
  },
  {
   "cell_type": "code",
   "execution_count": 18,
   "id": "d0960881",
   "metadata": {},
   "outputs": [],
   "source": [
    "# forming integer mappings because pyro's only returns numbers\n",
    "A_alias = [\"young\", \"adult\", \"old\"]\n",
    "S_alias = [\"M\", \"F\"]\n",
    "E_alias = [\"high\", \"uni\"]\n",
    "O_alias = [\"emp\", \"self\"]\n",
    "R_alias = [\"small\", \"big\"]\n",
    "T_alias = [\"car\", \"train\", \"other\"]"
   ]
  },
  {
   "cell_type": "code",
   "execution_count": 19,
   "id": "6a6454ca",
   "metadata": {},
   "outputs": [],
   "source": [
    "# probabilities defined as in the book\n",
    "A_prob = torch.tensor([0.3,0.5,0.2])\n",
    "S_prob = torch.tensor([0.6,0.4])\n",
    "E_prob = torch.tensor([[[0.75,0.25], [0.72,0.28], [0.88,0.12]],\n",
    "                     [[0.64,0.36], [0.7,0.3], [0.9,0.1]]])\n",
    "O_prob = torch.tensor([[0.96,0.04], [0.92,0.08]])\n",
    "R_prob = torch.tensor([[0.25,0.75], [0.2,0.8]])\n",
    "T_prob = torch.tensor([[[0.48,0.42,0.1], [0.56,0.36,0.08]],\n",
    "                     [[0.58,0.24,0.18], [0.7,0.21,0.09]]])"
   ]
  },
  {
   "cell_type": "code",
   "execution_count": 20,
   "id": "02ee7b25",
   "metadata": {},
   "outputs": [],
   "source": [
    "def model():\n",
    "    A = pyro.sample('age', Categorical(probs=A_prob))\n",
    "    S = pyro.sample('gender', Categorical(probs=S_prob))\n",
    "    E = pyro.sample('education', Categorical(probs=E_prob[S][A]))\n",
    "    O = pyro.sample('occupation', Categorical(probs=O_prob[E]))\n",
    "    R = pyro.sample('residence', Categorical(probs=R_prob[E]))\n",
    "    T = pyro.sample('transportation', Categorical(probs=T_prob[R][O]))\n",
    "    return {'A': A, 'S': S, 'E': E, 'O': O, 'R': R, 'T': T}"
   ]
  },
  {
   "cell_type": "code",
   "execution_count": 21,
   "id": "10e04002",
   "metadata": {},
   "outputs": [
    {
     "data": {
      "image/svg+xml": [
       "<?xml version=\"1.0\" encoding=\"UTF-8\" standalone=\"no\"?>\n",
       "<!DOCTYPE svg PUBLIC \"-//W3C//DTD SVG 1.1//EN\"\n",
       " \"http://www.w3.org/Graphics/SVG/1.1/DTD/svg11.dtd\">\n",
       "<!-- Generated by graphviz version 12.2.1 (20241206.2353)\n",
       " -->\n",
       "<!-- Pages: 1 -->\n",
       "<svg width=\"220pt\" height=\"260pt\"\n",
       " viewBox=\"0.00 0.00 220.07 260.00\" xmlns=\"http://www.w3.org/2000/svg\" xmlns:xlink=\"http://www.w3.org/1999/xlink\">\n",
       "<g id=\"graph0\" class=\"graph\" transform=\"scale(1 1) rotate(0) translate(4 256)\">\n",
       "<polygon fill=\"white\" stroke=\"none\" points=\"-4,4 -4,-256 216.07,-256 216.07,4 -4,4\"/>\n",
       "<!-- age -->\n",
       "<g id=\"node1\" class=\"node\">\n",
       "<title>age</title>\n",
       "<ellipse fill=\"white\" stroke=\"black\" cx=\"68.35\" cy=\"-234\" rx=\"27\" ry=\"18\"/>\n",
       "<text text-anchor=\"middle\" x=\"68.35\" y=\"-228.95\" font-family=\"Times,serif\" font-size=\"14.00\">age</text>\n",
       "</g>\n",
       "<!-- education -->\n",
       "<g id=\"node3\" class=\"node\">\n",
       "<title>education</title>\n",
       "<ellipse fill=\"white\" stroke=\"black\" cx=\"108.35\" cy=\"-162\" rx=\"46.75\" ry=\"18\"/>\n",
       "<text text-anchor=\"middle\" x=\"108.35\" y=\"-156.95\" font-family=\"Times,serif\" font-size=\"14.00\">education</text>\n",
       "</g>\n",
       "<!-- age&#45;&gt;education -->\n",
       "<g id=\"edge1\" class=\"edge\">\n",
       "<title>age&#45;&gt;education</title>\n",
       "<path fill=\"none\" stroke=\"black\" d=\"M77.63,-216.76C82.26,-208.67 87.97,-198.66 93.21,-189.49\"/>\n",
       "<polygon fill=\"black\" stroke=\"black\" points=\"96.17,-191.37 98.1,-180.95 90.1,-187.89 96.17,-191.37\"/>\n",
       "</g>\n",
       "<!-- gender -->\n",
       "<g id=\"node2\" class=\"node\">\n",
       "<title>gender</title>\n",
       "<ellipse fill=\"white\" stroke=\"black\" cx=\"149.35\" cy=\"-234\" rx=\"36\" ry=\"18\"/>\n",
       "<text text-anchor=\"middle\" x=\"149.35\" y=\"-228.95\" font-family=\"Times,serif\" font-size=\"14.00\">gender</text>\n",
       "</g>\n",
       "<!-- gender&#45;&gt;education -->\n",
       "<g id=\"edge2\" class=\"edge\">\n",
       "<title>gender&#45;&gt;education</title>\n",
       "<path fill=\"none\" stroke=\"black\" d=\"M139.63,-216.41C134.96,-208.42 129.23,-198.64 123.96,-189.64\"/>\n",
       "<polygon fill=\"black\" stroke=\"black\" points=\"127.12,-188.12 119.05,-181.26 121.08,-191.66 127.12,-188.12\"/>\n",
       "</g>\n",
       "<!-- occupation -->\n",
       "<g id=\"node4\" class=\"node\">\n",
       "<title>occupation</title>\n",
       "<ellipse fill=\"white\" stroke=\"black\" cx=\"51.35\" cy=\"-90\" rx=\"51.35\" ry=\"18\"/>\n",
       "<text text-anchor=\"middle\" x=\"51.35\" y=\"-84.95\" font-family=\"Times,serif\" font-size=\"14.00\">occupation</text>\n",
       "</g>\n",
       "<!-- education&#45;&gt;occupation -->\n",
       "<g id=\"edge3\" class=\"edge\">\n",
       "<title>education&#45;&gt;occupation</title>\n",
       "<path fill=\"none\" stroke=\"black\" d=\"M94.84,-144.41C88.03,-136.04 79.62,-125.71 72.01,-116.37\"/>\n",
       "<polygon fill=\"black\" stroke=\"black\" points=\"74.75,-114.19 65.72,-108.64 69.32,-118.61 74.75,-114.19\"/>\n",
       "</g>\n",
       "<!-- residence -->\n",
       "<g id=\"node5\" class=\"node\">\n",
       "<title>residence</title>\n",
       "<ellipse fill=\"white\" stroke=\"black\" cx=\"166.35\" cy=\"-90\" rx=\"45.72\" ry=\"18\"/>\n",
       "<text text-anchor=\"middle\" x=\"166.35\" y=\"-84.95\" font-family=\"Times,serif\" font-size=\"14.00\">residence</text>\n",
       "</g>\n",
       "<!-- education&#45;&gt;residence -->\n",
       "<g id=\"edge4\" class=\"edge\">\n",
       "<title>education&#45;&gt;residence</title>\n",
       "<path fill=\"none\" stroke=\"black\" d=\"M122.1,-144.41C129.1,-135.95 137.77,-125.49 145.57,-116.08\"/>\n",
       "<polygon fill=\"black\" stroke=\"black\" points=\"148.05,-118.57 151.74,-108.64 142.66,-114.1 148.05,-118.57\"/>\n",
       "</g>\n",
       "<!-- transportation -->\n",
       "<g id=\"node6\" class=\"node\">\n",
       "<title>transportation</title>\n",
       "<ellipse fill=\"white\" stroke=\"black\" cx=\"108.35\" cy=\"-18\" rx=\"62.1\" ry=\"18\"/>\n",
       "<text text-anchor=\"middle\" x=\"108.35\" y=\"-12.95\" font-family=\"Times,serif\" font-size=\"14.00\">transportation</text>\n",
       "</g>\n",
       "<!-- occupation&#45;&gt;transportation -->\n",
       "<g id=\"edge5\" class=\"edge\">\n",
       "<title>occupation&#45;&gt;transportation</title>\n",
       "<path fill=\"none\" stroke=\"black\" d=\"M64.86,-72.41C71.58,-64.16 79.84,-54.01 87.36,-44.78\"/>\n",
       "<polygon fill=\"black\" stroke=\"black\" points=\"89.99,-47.09 93.59,-37.13 84.56,-42.67 89.99,-47.09\"/>\n",
       "</g>\n",
       "<!-- residence&#45;&gt;transportation -->\n",
       "<g id=\"edge6\" class=\"edge\">\n",
       "<title>residence&#45;&gt;transportation</title>\n",
       "<path fill=\"none\" stroke=\"black\" d=\"M152.61,-72.41C145.77,-64.16 137.36,-54.01 129.71,-44.78\"/>\n",
       "<polygon fill=\"black\" stroke=\"black\" points=\"132.44,-42.59 123.37,-37.12 127.05,-47.05 132.44,-42.59\"/>\n",
       "</g>\n",
       "</g>\n",
       "</svg>\n"
      ],
      "text/plain": [
       "<graphviz.graphs.Digraph at 0x152f48a40>"
      ]
     },
     "execution_count": 21,
     "metadata": {},
     "output_type": "execute_result"
    }
   ],
   "source": [
    "pyro.render_model(model)"
   ]
  }
 ],
 "metadata": {
  "kernelspec": {
   "display_name": "causal-ai",
   "language": "python",
   "name": "python3"
  },
  "language_info": {
   "codemirror_mode": {
    "name": "ipython",
    "version": 3
   },
   "file_extension": ".py",
   "mimetype": "text/x-python",
   "name": "python",
   "nbconvert_exporter": "python",
   "pygments_lexer": "ipython3",
   "version": "3.12.0"
  }
 },
 "nbformat": 4,
 "nbformat_minor": 5
}
